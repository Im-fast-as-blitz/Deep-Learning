{
 "metadata": {
  "accelerator": "GPU",
  "colab": {
   "provenance": [],
   "gpuType": "T4"
  },
  "kernelspec": {
   "name": "python3",
   "display_name": "Python 3",
   "language": "python"
  },
  "language_info": {
   "name": "python",
   "version": "3.10.12",
   "mimetype": "text/x-python",
   "codemirror_mode": {
    "name": "ipython",
    "version": 3
   },
   "pygments_lexer": "ipython3",
   "nbconvert_exporter": "python",
   "file_extension": ".py"
  }
 },
 "nbformat_minor": 4,
 "nbformat": 4,
 "cells": [
  {
   "cell_type": "markdown",
   "source": [
    "# Глубинное обучение 1 / Введение в глубинное обучение, ФКН ВШЭ\n",
    "\n",
    "## Домашнее задание 2: сверточный классификатор.\n",
    "\n",
    "### Общая информация\n",
    "\n",
    "Оценка после штрафа после мягкого дедлайна вычисляется по формуле $M_{\\text{penalty}} = M_{\\text{full}} \\cdot 0.85^{t/1440}$, где $M_{\\text{full}}$ — полная оценка за работу без учета штрафа, а $t$ — время в минутах, прошедшее после мягкого дедлайна (округление до двух цифр после запятой). Таким образом, спустя первые сутки после мягкого дедлайна вы не можете получить оценку выше 8.5, а если сдать через четыре дня после мягкого дедлайна, то ваш максимум — 5.22 балла.\n",
    "\n",
    "### Оценивание и штрафы\n",
    "\n",
    "Максимально допустимая оценка за работу — 10 баллов. Сдавать задание после указанного срока сдачи нельзя.\n",
    "\n",
    "Задание выполняется самостоятельно. «Похожие» решения считаются плагиатом и все задействованные студенты (в том числе те, у кого списали) не могут получить за него больше 0 баллов. Если вы нашли решение какого-то из заданий (или его часть) в открытом источнике, необходимо указать ссылку на этот источник в отдельном блоке в конце вашей работы (скорее всего вы будете не единственным, кто это нашел, поэтому чтобы исключить подозрение в плагиате, необходима ссылка на источник).\n",
    "\n",
    "Неэффективная реализация кода может негативно отразиться на оценке. Также оценка может быть снижена за плохо читаемый код и плохо оформленные графики. Все ответы должны сопровождаться кодом или комментариями о том, как они были получены.\n",
    "\n",
    "### О задании\n",
    "\n",
    "В этом задании вам предстоит познакомиться со сверточными сетями и их обучением для классификации изображений с использованием библиотеки PyTorch.\n"
   ],
   "metadata": {
    "id": "w35Q6hOIy4sk",
    "pycharm": {
     "name": "#%% md\n"
    }
   }
  },
  {
   "cell_type": "code",
   "source": [
    "import torch\n",
    "import torch.nn as nn\n",
    "import torch.nn.functional as F\n",
    "import torch.optim as optim\n",
    "import torchvision\n",
    "import torchvision.transforms as transforms\n",
    "\n",
    "import matplotlib.pyplot as plt\n",
    "import numpy as np\n",
    "\n",
    "from sklearn.model_selection import train_test_split\n",
    "from sklearn.metrics import accuracy_score"
   ],
   "metadata": {
    "id": "SaACifdX2QOo",
    "pycharm": {
     "name": "#%%\n"
    },
    "execution": {
     "iopub.status.busy": "2023-11-13T20:38:24.718570Z",
     "iopub.execute_input": "2023-11-13T20:38:24.719406Z",
     "iopub.status.idle": "2023-11-13T20:38:24.726299Z",
     "shell.execute_reply.started": "2023-11-13T20:38:24.719370Z",
     "shell.execute_reply": "2023-11-13T20:38:24.724568Z"
    },
    "trusted": true
   },
   "execution_count": 2,
   "outputs": []
  },
  {
   "cell_type": "markdown",
   "source": [
    "## 0. Загрузка данных\n",
    "\n",
    "Работать мы будем с набором данных [CIFAR10](https://www.cs.toronto.edu/~kriz/cifar.html). CIFAR10 представляет собой набор изображений 32х32 пикселя, разделенных на 10 классов.\n",
    "\n",
    "![title](https://pytorch.org/tutorials/_images/cifar10.png)\n",
    "\n",
    "\n"
   ],
   "metadata": {
    "id": "TIXaUYM-0JFl",
    "pycharm": {
     "name": "#%% md\n"
    }
   }
  },
  {
   "cell_type": "markdown",
   "source": [
    "Набор данных уже определен в <code>torchvision.datasets</code>, так что возьмем его оттуда.\n",
    "\n"
   ],
   "metadata": {
    "id": "g-0EEjl_10vB",
    "pycharm": {
     "name": "#%% md\n"
    }
   }
  },
  {
   "cell_type": "code",
   "source": [
    "def get_cifar10_data(batch_size, transform_train):\n",
    "    torch.manual_seed(0)\n",
    "    np.random.seed(0)\n",
    "\n",
    "    transform_test = transforms.Compose(\n",
    "        [transforms.ToTensor(),\n",
    "         # Переводим цвета пикселей в отрезок [-1, 1]\n",
    "         transforms.Normalize((0.5, 0.5, 0.5), (0.5, 0.5, 0.5))]\n",
    "    )\n",
    "\n",
    "    # Загружаем данные\n",
    "    trainvalset = torchvision.datasets.CIFAR10(root='./data', train=True,\n",
    "                                               download=True, transform=transform_train)\n",
    "    testset = torchvision.datasets.CIFAR10(root='./data', train=False,\n",
    "                                           download=True, transform=transform_test)\n",
    "\n",
    "    # В датасете определено разбиение только на train и test,\n",
    "    # так что валидацию дополнительно выделяем из обучающей выборки\n",
    "    train_idx, valid_idx = train_test_split(np.arange(len(trainvalset)), test_size=0.3,\n",
    "                                            shuffle=True, random_state=0)\n",
    "    trainset = torch.utils.data.Subset(trainvalset, train_idx)\n",
    "    valset = torch.utils.data.Subset(trainvalset, valid_idx)\n",
    "\n",
    "    train_loader = torch.utils.data.DataLoader(trainset, batch_size=batch_size,\n",
    "                                               shuffle=True, num_workers=2)\n",
    "    val_loader = torch.utils.data.DataLoader(valset, batch_size=batch_size,\n",
    "                                             shuffle=False, num_workers=2)\n",
    "    test_loader = torch.utils.data.DataLoader(testset, batch_size=batch_size,\n",
    "                                              shuffle=False, num_workers=2)\n",
    "\n",
    "    return train_loader, val_loader, test_loader\n"
   ],
   "metadata": {
    "id": "Cbwe92dT3aPZ",
    "pycharm": {
     "name": "#%%\n"
    },
    "execution": {
     "iopub.status.busy": "2023-11-13T20:38:28.075187Z",
     "iopub.execute_input": "2023-11-13T20:38:28.075646Z",
     "iopub.status.idle": "2023-11-13T20:38:28.087133Z",
     "shell.execute_reply.started": "2023-11-13T20:38:28.075611Z",
     "shell.execute_reply": "2023-11-13T20:38:28.086133Z"
    },
    "trusted": true
   },
   "execution_count": 3,
   "outputs": []
  },
  {
   "cell_type": "code",
   "source": [
    "transform = transforms.Compose(\n",
    "        [transforms.ToTensor(),\n",
    "         transforms.Normalize((0.5, 0.5, 0.5), (0.5, 0.5, 0.5))]\n",
    ")\n",
    "\n",
    "train_loader, val_loader, test_loader = get_cifar10_data(batch_size=64, transform_train=transform)"
   ],
   "metadata": {
    "id": "2G2rLnN5y6Jj",
    "pycharm": {
     "name": "#%%\n"
    },
    "colab": {
     "base_uri": "https://localhost:8080/"
    },
    "outputId": "42523251-b641-4d1d-d31d-b6aa228f95d0",
    "execution": {
     "iopub.status.busy": "2023-11-13T20:38:30.782921Z",
     "iopub.execute_input": "2023-11-13T20:38:30.783663Z",
     "iopub.status.idle": "2023-11-13T20:38:46.506994Z",
     "shell.execute_reply.started": "2023-11-13T20:38:30.783625Z",
     "shell.execute_reply": "2023-11-13T20:38:46.505972Z"
    },
    "trusted": true
   },
   "execution_count": 4,
   "outputs": [
    {
     "name": "stdout",
     "text": "Downloading https://www.cs.toronto.edu/~kriz/cifar-10-python.tar.gz to ./data/cifar-10-python.tar.gz\n",
     "output_type": "stream"
    },
    {
     "name": "stderr",
     "text": "100%|██████████| 170498071/170498071 [00:10<00:00, 16139872.12it/s]\n",
     "output_type": "stream"
    },
    {
     "name": "stdout",
     "text": "Extracting ./data/cifar-10-python.tar.gz to ./data\nFiles already downloaded and verified\n",
     "output_type": "stream"
    }
   ]
  },
  {
   "cell_type": "markdown",
   "source": [
    "Посмотрим на изображения:"
   ],
   "metadata": {
    "id": "-82HWgXs77W1",
    "pycharm": {
     "name": "#%% md\n"
    }
   }
  },
  {
   "cell_type": "code",
   "source": [
    "def imshow(img):\n",
    "    img = img / 2 + 0.5\n",
    "    npimg = img.numpy()\n",
    "    plt.imshow(np.transpose(npimg, (1, 2, 0)))\n",
    "    plt.show()\n",
    "\n",
    "\n",
    "dataiter = iter(train_loader)\n",
    "images, labels = next(dataiter)\n",
    "\n",
    "imshow(torchvision.utils.make_grid(images[:4]))\n",
    "\n",
    "classes = ('plane', 'car', 'bird', 'cat',\n",
    "           'deer', 'dog', 'frog', 'horse', 'ship', 'truck')\n",
    "print(*[classes[labels[i]] for i in range(4)])"
   ],
   "metadata": {
    "colab": {
     "base_uri": "https://localhost:8080/",
     "height": 210
    },
    "id": "ACnwaC5iy6L2",
    "outputId": "3c97cecf-d27b-4069-c7b1-cfcf53f057b1",
    "pycharm": {
     "name": "#%%\n"
    }
   },
   "execution_count": null,
   "outputs": [
    {
     "output_type": "display_data",
     "data": {
      "text/plain": [
       "<Figure size 640x480 with 1 Axes>"
      ],
      "image/png": "[encoded data removed]"
     },
     "metadata": {}
    },
    {
     "output_type": "stream",
     "name": "stdout",
     "text": "ship frog horse horse\n"
    }
   ]
  },
  {
   "cell_type": "markdown",
   "source": [
    "## 1. Задание сверточной сети (3 балла)"
   ],
   "metadata": {
    "id": "KFDilng29YZ_",
    "pycharm": {
     "name": "#%% md\n"
    }
   }
  },
  {
   "cell_type": "markdown",
   "source": [
    "Теперь нам нужно задать сверточную нейронную сеть, которую мы будем обучать классифицировать изображения.\n",
    "\n",
    "Используем сеть, основанную на одном блоке архитектуры ResNet.\n",
    "\n",
    "<img src=\"https://i.ibb.co/2hg962h/basic-block.png\" width=\"500\"/>\n",
    "\n",
    "__Указания:__\n",
    "\n",
    "- Все сверточные слои должны иметь 32 выходных канала, а также не должны изменять ширину и высоту изображения.\n",
    "- Выход блока сократите до размерности 32х4х4, применив average pooling.\n",
    "- Для получения итоговых логитов, распрямите выход пулинга в вектор из 512 элементов, а затем пропустите его через линейный слой."
   ],
   "metadata": {
    "id": "OX7Ul8YbYdQR",
    "pycharm": {
     "name": "#%% md\n"
    }
   }
  },
  {
   "cell_type": "markdown",
   "source": [
    "**Задание 1.1 (3 балла).**\n",
    "\n",
    "Определите архитектуру сети соответственно схеме и указаниям выше.\n",
    "\n",
    "Ключевые слова: <code>Conv2d</code>, <code>BatchNorm2d</code>, <code>AvgPool2d</code>."
   ],
   "metadata": {
    "id": "sbyIylT9O9Dr",
    "pycharm": {
     "name": "#%% md\n"
    }
   }
  },
  {
   "cell_type": "code",
   "source": [
    "n_classes = 10\n",
    "\n",
    "class BasicBlockNet(nn.Module):\n",
    "    def __init__(self):\n",
    "        super().__init__()\n",
    "\n",
    "        self.encoder = nn.Sequential(\n",
    "            nn.Conv2d(in_channels=3, out_channels=32, kernel_size=3, padding='same'),\n",
    "            nn.BatchNorm2d(num_features=32),\n",
    "            nn.ReLU(),\n",
    "            nn.Conv2d(in_channels=32, out_channels=32, kernel_size=3, padding='same'),\n",
    "            nn.BatchNorm2d(num_features=32),\n",
    "        )\n",
    "        self.added_lay = nn.Conv2d(in_channels=3, out_channels=32, kernel_size=1)\n",
    "        self.pooling = nn.Sequential(\n",
    "            nn.ReLU(),\n",
    "            nn.AvgPool2d(8)\n",
    "        )\n",
    "        self.linear = nn.Linear(in_features=512, out_features=n_classes)\n",
    "\n",
    "    def forward(self, x):\n",
    "        out = self.pooling(self.encoder(x) + self.added_lay(x))\n",
    "        out = self.linear(out.reshape((-1, 512)))\n",
    "        return out"
   ],
   "metadata": {
    "id": "s9ml1QGKy6N9",
    "pycharm": {
     "name": "#%%\n"
    },
    "execution": {
     "iopub.status.busy": "2023-11-13T20:38:50.010741Z",
     "iopub.execute_input": "2023-11-13T20:38:50.011175Z",
     "iopub.status.idle": "2023-11-13T20:38:50.022342Z",
     "shell.execute_reply.started": "2023-11-13T20:38:50.011140Z",
     "shell.execute_reply": "2023-11-13T20:38:50.020962Z"
    },
    "trusted": true
   },
   "execution_count": 5,
   "outputs": []
  },
  {
   "cell_type": "code",
   "source": [
    "net = BasicBlockNet()\n",
    "net"
   ],
   "metadata": {
    "id": "FI4BQg7Ky6Pw",
    "pycharm": {
     "name": "#%%\n"
    },
    "colab": {
     "base_uri": "https://localhost:8080/"
    },
    "outputId": "e7c61c33-c23b-4979-b731-b0060dc6f49c"
   },
   "execution_count": null,
   "outputs": [
    {
     "output_type": "execute_result",
     "execution_count": 6,
     "data": {
      "text/plain": [
       "BasicBlockNet(\n",
       "  (encoder): Sequential(\n",
       "    (0): Conv2d(3, 32, kernel_size=(3, 3), stride=(1, 1), padding=same)\n",
       "    (1): BatchNorm2d(32, eps=1e-05, momentum=0.1, affine=True, track_running_stats=True)\n",
       "    (2): ReLU()\n",
       "    (3): Conv2d(32, 32, kernel_size=(3, 3), stride=(1, 1), padding=same)\n",
       "    (4): BatchNorm2d(32, eps=1e-05, momentum=0.1, affine=True, track_running_stats=True)\n",
       "  )\n",
       "  (added_lay): Conv2d(3, 32, kernel_size=(1, 1), stride=(1, 1))\n",
       "  (pooling): Sequential(\n",
       "    (0): ReLU()\n",
       "    (1): AvgPool2d(kernel_size=8, stride=8, padding=0)\n",
       "  )\n",
       "  (linear): Linear(in_features=512, out_features=10, bias=True)\n",
       ")"
      ]
     },
     "metadata": {}
    }
   ]
  },
  {
   "cell_type": "markdown",
   "source": [
    "Проверим, что выход сети имеет корректную размерность:"
   ],
   "metadata": {
    "id": "igPoGZEub8d3",
    "pycharm": {
     "name": "#%% md\n"
    }
   }
  },
  {
   "cell_type": "code",
   "source": [
    "assert net(torch.zeros((10, 3, 32, 32))).shape == (10, 10)"
   ],
   "metadata": {
    "id": "cCIzFUpJ_Agw",
    "pycharm": {
     "name": "#%%\n"
    }
   },
   "execution_count": null,
   "outputs": []
  },
  {
   "cell_type": "markdown",
   "source": [
    "Чтобы проводить вычисления на GPU, в PyTorch необходимо руками перекладывать объекты, с которыми вы хотите проводить вычисления, на графический ускоритель. Это делается следующим образрм:"
   ],
   "metadata": {
    "id": "08osX622cDGz",
    "pycharm": {
     "name": "#%% md\n"
    }
   }
  },
  {
   "cell_type": "code",
   "source": [
    "device = torch.device('cuda:0' if torch.cuda.is_available() else 'cpu')\n",
    "print(device)"
   ],
   "metadata": {
    "id": "56hDOMCFcDZX",
    "pycharm": {
     "name": "#%%\n"
    },
    "colab": {
     "base_uri": "https://localhost:8080/"
    },
    "outputId": "64da70f1-a04e-4e0a-9285-6d7759520d5c",
    "execution": {
     "iopub.status.busy": "2023-11-13T20:38:54.362874Z",
     "iopub.execute_input": "2023-11-13T20:38:54.363308Z",
     "iopub.status.idle": "2023-11-13T20:38:54.370434Z",
     "shell.execute_reply.started": "2023-11-13T20:38:54.363272Z",
     "shell.execute_reply": "2023-11-13T20:38:54.369106Z"
    },
    "trusted": true
   },
   "execution_count": 6,
   "outputs": [
    {
     "name": "stdout",
     "text": "cpu\n",
     "output_type": "stream"
    }
   ]
  },
  {
   "cell_type": "code",
   "source": [
    "net = net.to(device)"
   ],
   "metadata": {
    "id": "ohnDWbp0qbtC",
    "pycharm": {
     "name": "#%%\n"
    }
   },
   "execution_count": null,
   "outputs": []
  },
  {
   "cell_type": "markdown",
   "source": [
    "Подключение GPU в google.colab:\n",
    "\n",
    "**Среда выполнения** -> **Сменить среду выполнения** -> **Аппаратный ускоритель** -> **GPU**"
   ],
   "metadata": {
    "id": "H_bOlTVUp5QF",
    "pycharm": {
     "name": "#%% md\n"
    }
   }
  },
  {
   "cell_type": "markdown",
   "source": [
    "## 2. Обучение и тестирование модели (3 балла)"
   ],
   "metadata": {
    "id": "AGi6XX_7_Bgg",
    "pycharm": {
     "name": "#%% md\n"
    }
   }
  },
  {
   "cell_type": "markdown",
   "source": [
    "**Задание 2.1 (2 балла).** Переходим к обучению модели. Заполните пропуски в функциях <code>test</code> и <code>train_epoch</code>. В качестве функции потерь будем использовать [кросс-энтропию](https://pytorch.org/docs/stable/generated/torch.nn.functional.cross_entropy.html), а в качестве метрики качества accuracy."
   ],
   "metadata": {
    "id": "0agj_MQoO9Ds",
    "pycharm": {
     "name": "#%% md\n"
    }
   }
  },
  {
   "cell_type": "markdown",
   "source": [
    "где искал код - https://github.com/isadrtdinov/intro-to-dl-hse/blob/2023-2024/seminars/211/Seminar_2_DL_1.ipynb"
   ],
   "metadata": {
    "id": "zaFdQla3fS5u"
   }
  },
  {
   "cell_type": "code",
   "source": [
    "def test(model, loader):\n",
    "    loss_log = []\n",
    "    acc_log = []\n",
    "    model.eval()\n",
    "    loss_func = nn.CrossEntropyLoss()\n",
    "\n",
    "    for data, target in loader:\n",
    "        data = data.to(device)\n",
    "        target = target.to(device)\n",
    "\n",
    "        with torch.no_grad():\n",
    "            out = model(data)\n",
    "        loss = loss_func(out, target)\n",
    "\n",
    "        loss_log.append(loss.item())\n",
    "\n",
    "        pred = torch.argmax(out, dim=1)\n",
    "        acc_log.append((pred == target).detach().cpu().numpy().sum() / len(pred))\n",
    "\n",
    "    return np.mean(loss_log), np.mean(acc_log)\n",
    "\n",
    "def train_epoch(model, optimizer, train_loader):\n",
    "    loss_log = []\n",
    "    acc_log = []\n",
    "    model.train()\n",
    "    loss_func = nn.CrossEntropyLoss()\n",
    "\n",
    "    for data, target in train_loader:\n",
    "        data = data.to(device)\n",
    "        target = target.to(device)\n",
    "\n",
    "        optimizer.zero_grad()\n",
    "        out = model(data)\n",
    "        loss = loss_func(out, target)\n",
    "        loss.backward()\n",
    "        optimizer.step()\n",
    "\n",
    "        loss_log.append(loss.item())\n",
    "\n",
    "        # я в самом начале хотел использовать accuracy_score, но она просит все перекинуть на cpu:( поэтому просто векторные вычисления\n",
    "        pred = torch.argmax(out, dim=1)\n",
    "        acc_log.append((pred == target).detach().cpu().numpy().sum() / len(pred))\n",
    "\n",
    "    return loss_log, acc_log\n",
    "\n",
    "def train(model, optimizer, n_epochs, train_loader, val_loader, scheduler=None):\n",
    "    train_loss_log, train_acc_log, val_loss_log, val_acc_log = [], [], [], []\n",
    "\n",
    "    for epoch in range(n_epochs):\n",
    "        train_loss, train_acc = train_epoch(model, optimizer, train_loader)\n",
    "        val_loss, val_acc = test(model, val_loader)\n",
    "\n",
    "        train_loss_log.extend(train_loss)\n",
    "        train_acc_log.extend(train_acc)\n",
    "\n",
    "        val_loss_log.append(val_loss)\n",
    "        val_acc_log.append(val_acc)\n",
    "\n",
    "        print(f\"Epoch {epoch}\")\n",
    "        print(f\" train loss: {np.mean(train_loss)}, train acc: {np.mean(train_acc)}\")\n",
    "        print(f\" val loss: {val_loss}, val acc: {val_acc}\\n\")\n",
    "\n",
    "        if scheduler is not None:\n",
    "            scheduler.step()\n",
    "\n",
    "    return train_loss_log, train_acc_log, val_loss_log, val_acc_log"
   ],
   "metadata": {
    "id": "g8gsPPRIevDS",
    "pycharm": {
     "name": "#%%\n"
    },
    "execution": {
     "iopub.status.busy": "2023-11-13T20:38:58.272850Z",
     "iopub.execute_input": "2023-11-13T20:38:58.273271Z",
     "iopub.status.idle": "2023-11-13T20:38:58.291157Z",
     "shell.execute_reply.started": "2023-11-13T20:38:58.273231Z",
     "shell.execute_reply": "2023-11-13T20:38:58.289769Z"
    },
    "trusted": true
   },
   "execution_count": 7,
   "outputs": []
  },
  {
   "cell_type": "markdown",
   "source": [
    "Запустим обучение модели. В качестве оптимизатора будем использовать стохастический градиентный спуск, который является де-факто стандартом в задачах компьютерного зрения (наравне с <code>Adam</code>).\n",
    "\n",
    "__Замечание:__ Для достижения наилучшего качества в нашем случае потребуется обучать модель несколько сотен эпох. Однако в целях экономии вашего времени и сил, во всех экспериментах мы ограничимся 20 эпохами."
   ],
   "metadata": {
    "id": "iSOqk_CAO9Dt",
    "pycharm": {
     "name": "#%% md\n"
    }
   }
  },
  {
   "cell_type": "code",
   "source": [
    "optimizer = optim.SGD(net.parameters(), lr=0.1, momentum=0.9)\n",
    "train_loss_log, train_acc_log, val_loss_log, val_acc_log = train(net, optimizer, 20, train_loader, val_loader)"
   ],
   "metadata": {
    "id": "MKZBGhuAgMDu",
    "scrolled": true,
    "pycharm": {
     "name": "#%%\n"
    },
    "colab": {
     "base_uri": "https://localhost:8080/"
    },
    "outputId": "6a9fa8e7-fb95-42cf-8256-48d2f09edded"
   },
   "execution_count": null,
   "outputs": [
    {
     "output_type": "stream",
     "name": "stdout",
     "text": "Epoch 0\n\n train loss: 1.4560255718841413, train acc: 0.48086967876730213\n\n val loss: 1.1957616511811602, val acc: 0.575\n\n\n\nEpoch 1\n\n train loss: 1.149464354981452, train acc: 0.5979367981196134\n\n val loss: 1.1335095664288135, val acc: 0.6101063829787234\n\n\n\nEpoch 2\n\n train loss: 1.0363515109858958, train acc: 0.6366340754766258\n\n val loss: 1.096979467158622, val acc: 0.6218528368794327\n\n\n\nEpoch 3\n\n train loss: 0.9859169225806074, train acc: 0.6560337229041525\n\n val loss: 1.0458332383886297, val acc: 0.6417553191489361\n\n\n\nEpoch 4\n\n train loss: 0.9496493606506362, train acc: 0.6710874249151215\n\n val loss: 0.9823558924045969, val acc: 0.660438829787234\n\n\n\nEpoch 5\n\n train loss: 0.9246000066753716, train acc: 0.6791712914599113\n\n val loss: 0.9526462382458626, val acc: 0.6743351063829788\n\n\n\nEpoch 6\n\n train loss: 0.9014016755974052, train acc: 0.6863410812222512\n\n val loss: 1.0600254180583548, val acc: 0.6405806737588652\n\n\n\nEpoch 7\n\n train loss: 0.882988892155112, train acc: 0.6946085792635154\n\n val loss: 0.9376162173900199, val acc: 0.680607269503546\n\n\n\nEpoch 8\n\n train loss: 0.8671209564810479, train acc: 0.6978853813006006\n\n val loss: 0.9340947524030158, val acc: 0.6756870567375886\n\n\n\nEpoch 9\n\n train loss: 0.8543093867559102, train acc: 0.7037942347871508\n\n val loss: 0.9118704164281805, val acc: 0.6836657801418439\n\n\n\nEpoch 10\n\n train loss: 0.839352063494147, train acc: 0.7071934578218856\n\n val loss: 0.9226536517447613, val acc: 0.6864140070921987\n\n\n\nEpoch 11\n\n train loss: 0.8325204881933097, train acc: 0.7100866740663359\n\n val loss: 0.8809359979122243, val acc: 0.6964760638297872\n\n\n\nEpoch 12\n\n train loss: 0.8202987744232855, train acc: 0.7144856685818752\n\n val loss: 0.9294315957008524, val acc: 0.6889627659574468\n\n\n\nEpoch 13\n\n train loss: 0.8098574102033863, train acc: 0.7191621506920868\n\n val loss: 0.9220111118986252, val acc: 0.6880762411347519\n\n\n\nEpoch 14\n\n train loss: 0.806059580126018, train acc: 0.719427396186994\n\n val loss: 0.8781813890375989, val acc: 0.6972960992907801\n\n\n\nEpoch 15\n\n train loss: 0.7936834672796225, train acc: 0.7249445024810656\n\n val loss: 0.876187885568497, val acc: 0.7003324468085106\n\n\n\nEpoch 16\n\n train loss: 0.7930459200900041, train acc: 0.7242630255941499\n\n val loss: 0.9002161523129077, val acc: 0.6950797872340425\n\n\n\nEpoch 17\n\n train loss: 0.7770252790050053, train acc: 0.7316572538521808\n\n val loss: 0.9590661279698636, val acc: 0.6809618794326242\n\n\n\nEpoch 18\n\n train loss: 0.771329916809333, train acc: 0.7333915513188822\n\n val loss: 0.958257687599101, val acc: 0.6790558510638298\n\n\n\nEpoch 19\n\n train loss: 0.7646127046789069, train acc: 0.7343545965003917\n\n val loss: 0.8662742934328445, val acc: 0.7070257092198582\n\n\n"
    }
   ]
  },
  {
   "cell_type": "markdown",
   "source": [
    "Посчитайте точность на тестовой выборке:"
   ],
   "metadata": {
    "id": "gUb1jQW8O9Dt",
    "pycharm": {
     "name": "#%% md\n"
    }
   }
  },
  {
   "cell_type": "code",
   "source": [
    "test_loss, test_acc = test(net, test_loader)\n",
    "test_loss, test_acc"
   ],
   "metadata": {
    "id": "Jyuc55B9_Amc",
    "pycharm": {
     "name": "#%%\n"
    },
    "colab": {
     "base_uri": "https://localhost:8080/"
    },
    "outputId": "aa9a4ae0-3dd9-425d-ee29-bd2eafe10672"
   },
   "execution_count": null,
   "outputs": [
    {
     "output_type": "execute_result",
     "execution_count": 13,
     "data": {
      "text/plain": [
       "(0.8811675355692578, 0.6986464968152867)"
      ]
     },
     "metadata": {}
    }
   ]
  },
  {
   "cell_type": "markdown",
   "source": [
    "Если вы все сделали правильно, у вас должна была получиться точность $\\ge 67\\%$."
   ],
   "metadata": {
    "id": "zM38Q9fwO9Dt",
    "pycharm": {
     "name": "#%% md\n"
    }
   }
  },
  {
   "cell_type": "markdown",
   "source": [
    "**Задание 2.2 (1 балл).** Постройте графики зависимости функции потерь и точности классификации от номера шага оптимизатора. На каждом графике расположите данные и для обучающей и для валидационной выборки, итого у вас должно получиться два графика. Обратите внимание, что на обучающей выборке эти данные считаются по каждому батчу, на валидационной же они считаются по всей выборке раз в эпоху."
   ],
   "metadata": {
    "id": "DHFNSKcoO9Dt",
    "pycharm": {
     "name": "#%% md\n"
    }
   }
  },
  {
   "cell_type": "code",
   "source": [
    "epochs = 20\n",
    "\n",
    "fig, axs = plt.subplots(1, 2, figsize=(20, 5))\n",
    "axs[0].plot(np.linspace(0, len(train_loss_log), len(train_loss_log), dtype='int'), train_loss_log, label='train')\n",
    "axs[0].plot(np.linspace(len(train_loss_log) / epochs, len(train_loss_log), epochs, dtype='int'), val_loss_log, label='val')\n",
    "axs[0].set_ylabel('loss')\n",
    "axs[0].set_xlabel('step')\n",
    "axs[0].legend()\n",
    "\n",
    "axs[1].plot(np.linspace(0, len(train_acc_log), len(train_acc_log), dtype='int'), train_acc_log, label='train')\n",
    "axs[1].plot(np.linspace(len(train_acc_log) / epochs, len(train_acc_log), epochs, dtype='int'), val_acc_log, label='val')\n",
    "axs[1].set_ylabel('accuracy')\n",
    "axs[1].set_xlabel('step')\n",
    "axs[1].legend()\n",
    "\n",
    "plt.show()"
   ],
   "metadata": {
    "colab": {
     "base_uri": "https://localhost:8080/",
     "height": 465
    },
    "id": "yRXKPaODOfTf",
    "outputId": "37261b96-8ee4-4ff5-a507-5e1d953cbb62"
   },
   "execution_count": null,
   "outputs": [
    {
     "output_type": "display_data",
     "data": {
      "text/plain": [
       "<Figure size 2000x500 with 2 Axes>"
      ],
      "image/png": "[encoded data removed]"
     },
     "metadata": {}
    }
   ]
  },
  {
   "cell_type": "markdown",
   "source": [
    "## 3. Расписание длины шага (2 балла)"
   ],
   "metadata": {
    "id": "_ttOJPj-O9Dt",
    "pycharm": {
     "name": "#%% md\n"
    }
   }
  },
  {
   "cell_type": "markdown",
   "source": [
    "С курса \"Машинное обучение 1\" вы уже должны знать, что сходимость стохастического градиентного спуска мы можем теоретически гарантировать только если будем определенным образом со временем уменьшать длину шага. На практике при обучении нейронных сетей такая техника оказывается очень полезной, однако теоретически обоснованными способами уменьшения длины шага фантазия не ограничивается.\n",
    "\n",
    "Одним из простейших способов является кусочно постоянная функция: на нескольких фиксированных эпохах уменьшаем длину шага в константу раз."
   ],
   "metadata": {
    "id": "qiz3JstuO9Dt",
    "pycharm": {
     "name": "#%% md\n"
    }
   }
  },
  {
   "cell_type": "code",
   "source": [
    "net = BasicBlockNet().to(device)\n",
    "optimizer = optim.SGD(net.parameters(), lr=0.1, momentum=0.9)\n",
    "scheduler = optim.lr_scheduler.MultiStepLR(optimizer, milestones=[10, 15], gamma=0.1)\n",
    "tr_loss_log, tr_acc_log, val_loss_log, val_acc_log = train(net, optimizer, 20, train_loader, val_loader, scheduler)"
   ],
   "metadata": {
    "id": "V2Z0OT3nO9Du",
    "pycharm": {
     "name": "#%%\n"
    },
    "colab": {
     "base_uri": "https://localhost:8080/"
    },
    "outputId": "d28ed508-888c-40b5-d7ce-287eb4e316e0"
   },
   "execution_count": null,
   "outputs": [
    {
     "output_type": "stream",
     "name": "stdout",
     "text": "Epoch 0\n\n train loss: 1.4689050468273965, train acc: 0.4767930595455732\n\n val loss: 1.2993434687878223, val acc: 0.5386524822695036\n\n\n\nEpoch 1\n\n train loss: 1.1557415971154488, train acc: 0.5949456450770437\n\n val loss: 1.1263782214611135, val acc: 0.6056737588652481\n\n\n\nEpoch 2\n\n train loss: 1.052147770494604, train acc: 0.6335980347349177\n\n val loss: 1.2227821928389528, val acc: 0.5790558510638298\n\n\n\nEpoch 3\n\n train loss: 0.990723845509768, train acc: 0.6547034147296945\n\n val loss: 0.9983465179483941, val acc: 0.6586436170212766\n\n\n\nEpoch 4\n\n train loss: 0.9492899065043852, train acc: 0.668989945155393\n\n val loss: 1.0052682863905076, val acc: 0.6488031914893617\n\n\n\nEpoch 5\n\n train loss: 0.9167562747132407, train acc: 0.6811626730216767\n\n val loss: 0.9887010259831205, val acc: 0.6629432624113476\n\n\n\nEpoch 6\n\n train loss: 0.9004104070951123, train acc: 0.6851944045442674\n\n val loss: 0.9146017551422119, val acc: 0.6881870567375886\n\n\n\nEpoch 7\n\n train loss: 0.882208693071083, train acc: 0.6926906503003395\n\n val loss: 0.8903740367990859, val acc: 0.6941932624113476\n\n\n\nEpoch 8\n\n train loss: 0.8600670089451443, train acc: 0.7005500783494386\n\n val loss: 0.9011438291123572, val acc: 0.6892952127659574\n\n\n\nEpoch 9\n\n train loss: 0.8529425326060551, train acc: 0.7048470553669365\n\n val loss: 0.8829515708253739, val acc: 0.6959219858156029\n\n\n\nEpoch 10\n\n train loss: 0.7411404727690835, train acc: 0.7445563463045182\n\n val loss: 0.8294121100547466, val acc: 0.7154920212765957\n\n\n\nEpoch 11\n\n train loss: 0.7236349865984874, train acc: 0.7514037607730477\n\n val loss: 0.8242278947475109, val acc: 0.7162898936170212\n\n\n\nEpoch 12\n\n train loss: 0.7197292292902631, train acc: 0.7534196265343431\n\n val loss: 0.8209032271770721, val acc: 0.7218085106382979\n\n\n\nEpoch 13\n\n train loss: 0.7153611949200605, train acc: 0.7535094019326195\n\n val loss: 0.8253312666365441, val acc: 0.7197473404255319\n\n\n\nEpoch 14\n\n train loss: 0.7104620776621036, train acc: 0.7563944567772265\n\n val loss: 0.8139889114714683, val acc: 0.721875\n\n\n\nEpoch 15\n\n train loss: 0.6964223290601204, train acc: 0.7610709388874379\n\n val loss: 0.8113288299834475, val acc: 0.722938829787234\n\n\n\nEpoch 16\n\n train loss: 0.6950961243517874, train acc: 0.7622625032645599\n\n val loss: 0.8099769519998672, val acc: 0.7242686170212767\n\n\n\nEpoch 17\n\n train loss: 0.6924422854043448, train acc: 0.7625807978584487\n\n val loss: 0.8098085436415166, val acc: 0.7249335106382979\n\n\n\nEpoch 18\n\n train loss: 0.6934631726205676, train acc: 0.7610056476886915\n\n val loss: 0.8113398196849417, val acc: 0.7253989361702128\n\n\n\nEpoch 19\n\n train loss: 0.6926541299009236, train acc: 0.763009271350222\n\n val loss: 0.8099185270197848, val acc: 0.7232047872340426\n\n\n"
    }
   ]
  },
  {
   "cell_type": "markdown",
   "source": [
    "Посчитайте точность на тестовой выборке:"
   ],
   "metadata": {
    "id": "5Xc76KvzO9Du",
    "pycharm": {
     "name": "#%% md\n"
    }
   }
  },
  {
   "cell_type": "code",
   "source": [
    "test_loss, test_acc = test(net, test_loader)\n",
    "test_loss, test_acc"
   ],
   "metadata": {
    "id": "1AjiYhKqO9Du",
    "pycharm": {
     "name": "#%%\n"
    },
    "colab": {
     "base_uri": "https://localhost:8080/"
    },
    "outputId": "3e815d9b-d75e-418d-f004-d0cdec74c58e"
   },
   "execution_count": null,
   "outputs": [
    {
     "output_type": "execute_result",
     "execution_count": 16,
     "data": {
      "text/plain": [
       "(0.8197700929869512, 0.7166600318471338)"
      ]
     },
     "metadata": {}
    }
   ]
  },
  {
   "cell_type": "markdown",
   "source": [
    "**Задание 3.0 (0.5 баллов).** Здесь может возникнуть вопрос: а что будет, если мы не будем уменьшать длину шага в процессе обучения, а сразу возьмем констатную, равную значению нашей кусочно-постоянной функции на последних эпохах, то есть $0.001$ в нашем случае. Запустите обучение и проверьте, что в таком случае мы получим худшее качество на тестовой выборке."
   ],
   "metadata": {
    "id": "yE0dgLYrO9Du",
    "pycharm": {
     "name": "#%% md\n"
    }
   }
  },
  {
   "cell_type": "code",
   "source": [
    "net = BasicBlockNet().to(device)\n",
    "optimizer = optim.SGD(net.parameters(), lr=0.001, momentum=0.9)\n",
    "tr_loss_log, tr_acc_log, val_loss_log, val_acc_log = train(net, optimizer, 20, train_loader, val_loader)"
   ],
   "metadata": {
    "id": "qZ2iB-LBO9Du",
    "pycharm": {
     "name": "#%%\n"
    },
    "colab": {
     "base_uri": "https://localhost:8080/"
    },
    "outputId": "ac54a58a-8676-4940-f3d1-19b9795ebbc9"
   },
   "execution_count": null,
   "outputs": [
    {
     "output_type": "stream",
     "name": "stdout",
     "text": "Epoch 0\n\n train loss: 1.8587570839869694, train acc: 0.3467207495429616\n\n val loss: 1.6385131653319014, val acc: 0.431781914893617\n\n\n\nEpoch 1\n\n train loss: 1.5726077683011181, train acc: 0.44772215330373466\n\n val loss: 1.4885328926938646, val acc: 0.4777482269503546\n\n\n\nEpoch 2\n\n train loss: 1.4449384931672427, train acc: 0.49235276834682684\n\n val loss: 1.4082004328991504, val acc: 0.50489804964539\n\n\n\nEpoch 3\n\n train loss: 1.360844327283298, train acc: 0.5225744319665709\n\n val loss: 1.3148669293586244, val acc: 0.540270390070922\n\n\n\nEpoch 4\n\n train loss: 1.2996003714950255, train acc: 0.5455691760250718\n\n val loss: 1.2576116683635306, val acc: 0.5645168439716312\n\n\n\nEpoch 5\n\n train loss: 1.245707013925207, train acc: 0.563503852180726\n\n val loss: 1.2151634982291688, val acc: 0.578235815602837\n\n\n\nEpoch 6\n\n train loss: 1.2047302315396409, train acc: 0.5816711282319142\n\n val loss: 1.2025297918218247, val acc: 0.5808289007092199\n\n\n\nEpoch 7\n\n train loss: 1.160372553294494, train acc: 0.5957291394620005\n\n val loss: 1.1610614449419874, val acc: 0.5913342198581562\n\n\n\nEpoch 8\n\n train loss: 1.1255507783000605, train acc: 0.6108114063724209\n\n val loss: 1.118998709891705, val acc: 0.6105274822695035\n\n\n\nEpoch 9\n\n train loss: 1.0902821418354236, train acc: 0.6218945873596239\n\n val loss: 1.0713921298371984, val acc: 0.6231826241134752\n\n\n\nEpoch 10\n\n train loss: 1.0649397074631406, train acc: 0.6311863410812222\n\n val loss: 1.0565934041713148, val acc: 0.6301861702127659\n\n\n\nEpoch 11\n\n train loss: 1.038076452080031, train acc: 0.6365279772786628\n\n val loss: 1.0394724133166862, val acc: 0.6350177304964539\n\n\n\nEpoch 12\n\n train loss: 1.0212118234451335, train acc: 0.6455259206059023\n\n val loss: 1.0035811632237537, val acc: 0.6509530141843971\n\n\n\nEpoch 13\n\n train loss: 0.99985405350516, train acc: 0.6537036432488901\n\n val loss: 1.0340169833061543, val acc: 0.6376108156028369\n\n\n\nEpoch 14\n\n train loss: 0.9860507359888262, train acc: 0.6573069012797075\n\n val loss: 0.9836330870364575, val acc: 0.6572916666666667\n\n\n\nEpoch 15\n\n train loss: 0.969997424094289, train acc: 0.6639298772525464\n\n val loss: 0.9894661322553107, val acc: 0.656781914893617\n\n\n\nEpoch 16\n\n train loss: 0.959687340412105, train acc: 0.6689368960564115\n\n val loss: 0.977385836205584, val acc: 0.661325354609929\n\n\n\nEpoch 17\n\n train loss: 0.9534779700980108, train acc: 0.6697571167406634\n\n val loss: 0.9573252538417248, val acc: 0.6688608156028369\n\n\n\nEpoch 18\n\n train loss: 0.9367192794025707, train acc: 0.6779348393836511\n\n val loss: 0.9595361747640244, val acc: 0.6655806737588652\n\n\n\nEpoch 19\n\n train loss: 0.931854841696061, train acc: 0.6776451096892139\n\n val loss: 0.9350665214213919, val acc: 0.6764627659574468\n\n\n"
    }
   ]
  },
  {
   "cell_type": "code",
   "source": [
    "test_loss, test_acc = test(net, test_loader)\n",
    "test_loss, test_acc"
   ],
   "metadata": {
    "colab": {
     "base_uri": "https://localhost:8080/"
    },
    "id": "Q5u78pA-bnW1",
    "outputId": "4e23af2e-ac0f-4b24-ba05-eae433587fa8"
   },
   "execution_count": null,
   "outputs": [
    {
     "output_type": "execute_result",
     "execution_count": 18,
     "data": {
      "text/plain": [
       "(0.9371924647100413, 0.6751592356687898)"
      ]
     },
     "metadata": {}
    }
   ]
  },
  {
   "cell_type": "markdown",
   "source": [
    "**Задание 3.1 (1.5 балла).** Изучите, какие еще способы уменьшения длины шага представлены в <code>torch.optim.lr_scheduler</code>. Выберите несколько из них, объясните, как они устроены, и обучите модель с ними. Удалось ли добиться улучшения качества на тестовой выборке?"
   ],
   "metadata": {
    "id": "xVotU378O9Du",
    "pycharm": {
     "name": "#%% md\n"
    }
   }
  },
  {
   "cell_type": "markdown",
   "source": [
    "1 - LambdaLR (https://pytorch.org/docs/stable/generated/torch.optim.lr_scheduler.LambdaLR.html#torch.optim.lr_scheduler.LambdaLR)\n",
    "\n",
    "Устанавливает текущий lr каждой группы параметров как начальное значение lr, умноженное на заданную функцию ламбда. Когда идет последняя эпоха, устанавливает начальный lr как lr текущий."
   ],
   "metadata": {
    "id": "uGJbQob1cyxY"
   }
  },
  {
   "cell_type": "code",
   "source": [
    "net = BasicBlockNet().to(device)\n",
    "optimizer = optim.SGD(net.parameters(), lr=0.001, momentum=0.9)\n",
    "\n",
    "# код взят с сайта доки\n",
    "lambda1 = lambda epoch: 1 / (epoch + 1)\n",
    "scheduler = optim.lr_scheduler.LambdaLR(optimizer, lr_lambda=lambda1)\n",
    "\n",
    "tr_loss_log, tr_acc_log, val_loss_log, val_acc_log = train(net, optimizer, 20, train_loader, val_loader, scheduler)"
   ],
   "metadata": {
    "id": "nkGlzocOO9Du",
    "pycharm": {
     "name": "#%%\n"
    },
    "colab": {
     "base_uri": "https://localhost:8080/"
    },
    "outputId": "851c1687-8eda-4458-9a19-e52b9dcdee91"
   },
   "execution_count": null,
   "outputs": [
    {
     "output_type": "stream",
     "name": "stdout",
     "text": "Epoch 0\n\n train loss: 1.8411738717795727, train acc: 0.3583915513188822\n\n val loss: 1.6209714843871745, val acc: 0.4365026595744681\n\n\n\nEpoch 1\n\n train loss: 1.5820379586280808, train acc: 0.4489953316792897\n\n val loss: 1.52359749915752, val acc: 0.4656914893617021\n\n\n\nEpoch 2\n\n train loss: 1.509782007668964, train acc: 0.47126371115173676\n\n val loss: 1.4770095972304649, val acc: 0.4842198581560283\n\n\n\nEpoch 3\n\n train loss: 1.4691194461512174, train acc: 0.48583589057195087\n\n val loss: 1.4482595600980392, val acc: 0.49288563829787235\n\n\n\nEpoch 4\n\n train loss: 1.4405358933879426, train acc: 0.49513580569339255\n\n val loss: 1.422764616824211, val acc: 0.49818262411347514\n\n\n\nEpoch 5\n\n train loss: 1.422232287021616, train acc: 0.5020444306607469\n\n val loss: 1.406478270064009, val acc: 0.5073359929078015\n\n\n\nEpoch 6\n\n train loss: 1.4069537325358696, train acc: 0.5079655262470619\n\n val loss: 1.3925412127312193, val acc: 0.5104831560283688\n\n\n\nEpoch 7\n\n train loss: 1.3941308323164527, train acc: 0.5120421454687908\n\n val loss: 1.3801581565369951, val acc: 0.5157358156028369\n\n\n\nEpoch 8\n\n train loss: 1.3830803414803319, train acc: 0.5173878623661531\n\n val loss: 1.3731421937333776, val acc: 0.5158687943262411\n\n\n\nEpoch 9\n\n train loss: 1.3747180530314471, train acc: 0.5191180791329328\n\n val loss: 1.364305260333609, val acc: 0.5181072695035461\n\n\n\nEpoch 10\n\n train loss: 1.3654337892584651, train acc: 0.5250718203186211\n\n val loss: 1.3574277999553275, val acc: 0.5226285460992908\n\n\n\nEpoch 11\n\n train loss: 1.3598036888094662, train acc: 0.5245739749281797\n\n val loss: 1.3520282892470663, val acc: 0.5240913120567375\n\n\n\nEpoch 12\n\n train loss: 1.352344520240205, train acc: 0.5277650822669104\n\n val loss: 1.34332727067014, val acc: 0.5291445035460993\n\n\n\nEpoch 13\n\n train loss: 1.346594492085891, train acc: 0.5297605445285976\n\n val loss: 1.3399659861909583, val acc: 0.529543439716312\n\n\n\nEpoch 14\n\n train loss: 1.3415971835309017, train acc: 0.5309888352050144\n\n val loss: 1.336735397704104, val acc: 0.5314716312056738\n\n\n\nEpoch 15\n\n train loss: 1.3382974091569946, train acc: 0.532441564377122\n\n val loss: 1.3320954825015778, val acc: 0.5323359929078014\n\n\n\nEpoch 16\n\n train loss: 1.332670679693902, train acc: 0.5348124510316009\n\n val loss: 1.3286013486537527, val acc: 0.5341312056737588\n\n\n\nEpoch 17\n\n train loss: 1.328497962062494, train acc: 0.5373628884826326\n\n val loss: 1.3239437818527222, val acc: 0.5340425531914894\n\n\n\nEpoch 18\n\n train loss: 1.3251696373906388, train acc: 0.5371588534865501\n\n val loss: 1.3195158441016015, val acc: 0.5355274822695035\n\n\n\nEpoch 19\n\n train loss: 1.3231009706936545, train acc: 0.5388605053538783\n\n val loss: 1.3161246071470545, val acc: 0.5393838652482269\n\n\n"
    }
   ]
  },
  {
   "cell_type": "code",
   "source": [
    "test_loss, test_acc = test(net, test_loader)\n",
    "test_loss, test_acc"
   ],
   "metadata": {
    "colab": {
     "base_uri": "https://localhost:8080/"
    },
    "id": "kEYFUSW0dZWy",
    "outputId": "da95e022-3f63-4b74-b105-266d522e7f46"
   },
   "execution_count": null,
   "outputs": [
    {
     "output_type": "execute_result",
     "execution_count": 14,
     "data": {
      "text/plain": [
       "(1.3145370976940083, 0.5428941082802548)"
      ]
     },
     "metadata": {}
    }
   ]
  },
  {
   "cell_type": "markdown",
   "source": [
    "2 - CyclicLR (https://pytorch.org/docs/stable/generated/torch.optim.lr_scheduler.CyclicLR.html#torch.optim.lr_scheduler.CyclicLR)\n",
    "\n",
    "Устанавливает lr каждой группы параметров в соответствии с cyclical learning rate policy (CLR) - наши lr перебираются не линейно монотонно, а циклически в пределах разумных значений"
   ],
   "metadata": {
    "id": "HJNmYBdkyogg"
   }
  },
  {
   "cell_type": "code",
   "source": [
    "net = BasicBlockNet().to(device)\n",
    "optimizer = optim.SGD(net.parameters(), lr=0.001, momentum=0.9)\n",
    "\n",
    "# код взят с сайта доки\n",
    "scheduler = optim.lr_scheduler.CyclicLR(optimizer, base_lr=0.01, max_lr=0.1)\n",
    "\n",
    "tr_loss_log, tr_acc_log, val_loss_log, val_acc_log = train(net, optimizer, 20, train_loader, val_loader, scheduler)"
   ],
   "metadata": {
    "colab": {
     "base_uri": "https://localhost:8080/"
    },
    "id": "m7IfV2G-yo46",
    "outputId": "e3c72d87-719a-4ece-f89b-95bfdb0f9fb0"
   },
   "execution_count": null,
   "outputs": [
    {
     "output_type": "stream",
     "name": "stdout",
     "text": "Epoch 0\n\n train loss: 1.5031235475208904, train acc: 0.4615271611386785\n\n val loss: 1.3179775258328053, val acc: 0.5243129432624114\n\n\n\nEpoch 1\n\n train loss: 1.228375538611543, train acc: 0.5641077957691303\n\n val loss: 1.179138656879993, val acc: 0.5869459219858156\n\n\n\nEpoch 2\n\n train loss: 1.1024655907855827, train acc: 0.6133496017236876\n\n val loss: 1.1117187431518067, val acc: 0.6087765957446809\n\n\n\nEpoch 3\n\n train loss: 1.0263687500788046, train acc: 0.6425633324627841\n\n val loss: 1.059683607994242, val acc: 0.6351728723404255\n\n\n\nEpoch 4\n\n train loss: 0.9788973091725239, train acc: 0.6582454622616872\n\n val loss: 0.9649532016287459, val acc: 0.6640514184397163\n\n\n\nEpoch 5\n\n train loss: 0.9423850943663002, train acc: 0.67105886001567\n\n val loss: 0.9845958192297752, val acc: 0.6574468085106383\n\n\n\nEpoch 6\n\n train loss: 0.9126633296718981, train acc: 0.6834805105771742\n\n val loss: 0.9101281287822317, val acc: 0.6880984042553191\n\n\n\nEpoch 7\n\n train loss: 0.8929363038029924, train acc: 0.6913725842256464\n\n val loss: 0.9084570232858049, val acc: 0.6870124113475178\n\n\n\nEpoch 8\n\n train loss: 0.8697508161638947, train acc: 0.6964652977278664\n\n val loss: 0.908691098842215, val acc: 0.6828235815602838\n\n\n\nEpoch 9\n\n train loss: 0.852970622248362, train acc: 0.7051612692609036\n\n val loss: 0.8549462455384275, val acc: 0.7085549645390071\n\n\n\nEpoch 10\n\n train loss: 0.83643778782658, train acc: 0.7095888286758945\n\n val loss: 0.9445534703579355, val acc: 0.6763962765957446\n\n\n\nEpoch 11\n\n train loss: 0.8201810796038542, train acc: 0.7167749412379212\n\n val loss: 0.8973694613639345, val acc: 0.694392730496454\n\n\n\nEpoch 12\n\n train loss: 0.8129623586233616, train acc: 0.7193621049882476\n\n val loss: 0.8386853563024642, val acc: 0.7107934397163119\n\n\n\nEpoch 13\n\n train loss: 0.7949734926223755, train acc: 0.724307913293288\n\n val loss: 0.8473445524560644, val acc: 0.7117686170212766\n\n\n\nEpoch 14\n\n train loss: 0.7873312720324047, train acc: 0.7270664664403238\n\n val loss: 0.8770744962895171, val acc: 0.6947695035460992\n\n\n\nEpoch 15\n\n train loss: 0.7786009675623948, train acc: 0.7297964546879081\n\n val loss: 0.8630957096181018, val acc: 0.6989140070921986\n\n\n\nEpoch 16\n\n train loss: 0.7731601979985315, train acc: 0.7307064507704362\n\n val loss: 0.8403164036730503, val acc: 0.7090425531914893\n\n\n\nEpoch 17\n\n train loss: 0.7608417163601305, train acc: 0.7358562940715592\n\n val loss: 0.815132341993616, val acc: 0.7215647163120567\n\n\n\nEpoch 18\n\n train loss: 0.7561250902725966, train acc: 0.7376926090363018\n\n val loss: 0.8174433817254736, val acc: 0.7191489361702128\n\n\n\nEpoch 19\n\n train loss: 0.747659566088612, train acc: 0.7431403434317054\n\n val loss: 0.8060098252397903, val acc: 0.7211879432624114\n\n\n"
    }
   ]
  },
  {
   "cell_type": "code",
   "source": [
    "test_loss, test_acc = test(net, test_loader)\n",
    "test_loss, test_acc"
   ],
   "metadata": {
    "colab": {
     "base_uri": "https://localhost:8080/"
    },
    "id": "r2DAoYQJypIg",
    "outputId": "bc41a8b3-3712-4443-bbe9-100326bcaa02"
   },
   "execution_count": null,
   "outputs": [
    {
     "output_type": "execute_result",
     "execution_count": 16,
     "data": {
      "text/plain": [
       "(0.8240290413236921, 0.7202428343949044)"
      ]
     },
     "metadata": {}
    }
   ]
  },
  {
   "cell_type": "markdown",
   "source": [
    "3 - PolynomialLR (https://pytorch.org/docs/stable/generated/torch.optim.lr_scheduler.PolynomialLR.html#torch.optim.lr_scheduler.PolynomialLR)\n",
    "\n",
    "Разложение lr с помощью полиномиальной функции в заданных total_iters. Когда epochs >= total_iters, lr = 0"
   ],
   "metadata": {
    "id": "4ydDJ2Y-2j_v"
   }
  },
  {
   "cell_type": "code",
   "source": [
    "net = BasicBlockNet().to(device)\n",
    "optimizer = optim.SGD(net.parameters(), lr=0.001, momentum=0.9)\n",
    "\n",
    "# код взят с сайта доки\n",
    "scheduler = optim.lr_scheduler.PolynomialLR(optimizer, total_iters=15, power=1.0)\n",
    "\n",
    "tr_loss_log, tr_acc_log, val_loss_log, val_acc_log = train(net, optimizer, 20, train_loader, val_loader, scheduler)"
   ],
   "metadata": {
    "colab": {
     "base_uri": "https://localhost:8080/"
    },
    "id": "wA3HQB9j2kSe",
    "outputId": "8112f9fa-c659-4622-9e13-b03f0fbf0478"
   },
   "execution_count": null,
   "outputs": [
    {
     "output_type": "stream",
     "name": "stdout",
     "text": "Epoch 0\n\n train loss: 1.7925140872951835, train acc: 0.37805236354139465\n\n val loss: 1.5709551045235166, val acc: 0.4509973404255319\n\n\n\nEpoch 1\n\n train loss: 1.4971763444774984, train acc: 0.4754505092713502\n\n val loss: 1.4250074203978194, val acc: 0.4954565602836879\n\n\n\nEpoch 2\n\n train loss: 1.3901622803163267, train acc: 0.5135316009401932\n\n val loss: 1.359957888785829, val acc: 0.5218085106382979\n\n\n\nEpoch 3\n\n train loss: 1.3256026733074153, train acc: 0.5391583964481589\n\n val loss: 1.3469149685920554, val acc: 0.5166666666666666\n\n\n\nEpoch 4\n\n train loss: 1.279017751352007, train acc: 0.5564483220161922\n\n val loss: 1.2631245889562241, val acc: 0.557845744680851\n\n\n\nEpoch 5\n\n train loss: 1.2425163777262462, train acc: 0.5687271480804388\n\n val loss: 1.2376658944373435, val acc: 0.5663342198581561\n\n\n\nEpoch 6\n\n train loss: 1.214881738535447, train acc: 0.5767171585270305\n\n val loss: 1.1951048346275979, val acc: 0.5809840425531915\n\n\n\nEpoch 7\n\n train loss: 1.1910777810068844, train acc: 0.5865720488378167\n\n val loss: 1.1868892951214567, val acc: 0.5843306737588652\n\n\n\nEpoch 8\n\n train loss: 1.1699238532857879, train acc: 0.5950517432750065\n\n val loss: 1.1596998435385684, val acc: 0.5957890070921986\n\n\n\nEpoch 9\n\n train loss: 1.1536297767646133, train acc: 0.598956973100026\n\n val loss: 1.1715414407405447, val acc: 0.5918661347517731\n\n\n\nEpoch 10\n\n train loss: 1.134315914929022, train acc: 0.6082691303212326\n\n val loss: 1.1283092914743627, val acc: 0.6080230496453901\n\n\n\nEpoch 11\n\n train loss: 1.1199166034867603, train acc: 0.6131496474275268\n\n val loss: 1.1345083130166886, val acc: 0.60270390070922\n\n\n\nEpoch 12\n\n train loss: 1.1096777337342774, train acc: 0.6162183337686079\n\n val loss: 1.1085226941615978, val acc: 0.6161347517730498\n\n\n\nEpoch 13\n\n train loss: 1.0982031813487274, train acc: 0.6224209976495169\n\n val loss: 1.1071195229570916, val acc: 0.6111702127659574\n\n\n\nEpoch 14\n\n train loss: 1.0916634916823351, train acc: 0.6251999542961609\n\n val loss: 1.0971717134435126, val acc: 0.6190824468085107\n\n\n\nEpoch 15\n\n train loss: 1.0877676427473315, train acc: 0.6258814311830766\n\n val loss: 1.0956091256851845, val acc: 0.6210106382978723\n\n\n\nEpoch 16\n\n train loss: 1.086828341213833, train acc: 0.6266853290676416\n\n val loss: 1.097178768350723, val acc: 0.6194592198581561\n\n\n\nEpoch 17\n\n train loss: 1.087598042797563, train acc: 0.6243797336119091\n\n val loss: 1.0940564726261381, val acc: 0.6197916666666667\n\n\n\nEpoch 18\n\n train loss: 1.087371774630747, train acc: 0.6257508487855837\n\n val loss: 1.0954973788971596, val acc: 0.6195478723404255\n\n\n\nEpoch 19\n\n train loss: 1.0880969505641316, train acc: 0.6245552037085401\n\n val loss: 1.0958531095626507, val acc: 0.6198581560283689\n\n\n"
    }
   ]
  },
  {
   "cell_type": "code",
   "source": [
    "test_loss, test_acc = test(net, test_loader)\n",
    "test_loss, test_acc"
   ],
   "metadata": {
    "colab": {
     "base_uri": "https://localhost:8080/"
    },
    "id": "yb9aIGkA2ke9",
    "outputId": "0d71f430-c50c-44c1-a0cb-8b2def660c72"
   },
   "execution_count": null,
   "outputs": [
    {
     "output_type": "execute_result",
     "execution_count": 19,
     "data": {
      "text/plain": [
       "(1.0988827624898048, 0.6183320063694268)"
      ]
     },
     "metadata": {}
    }
   ]
  },
  {
   "cell_type": "markdown",
   "source": [
    "**Your answers here:** что-то на первом шудулере у нас получилась просто ужасная ошибка, на третьем у нас ошибка тоже стала хуже (но не так сильно), а вот на втором получилась намного лучше, чем была до этого (ну в описании этого метода, что он намного круче обычного перебора lr)"
   ],
   "metadata": {
    "id": "5a_zMNNVO9Du",
    "pycharm": {
     "name": "#%% md\n"
    }
   }
  },
  {
   "cell_type": "markdown",
   "source": [
    "## 4. Аугментации данных (2 балла)\n",
    "\n",
    "> Блок с отступами\n",
    "\n"
   ],
   "metadata": {
    "id": "7xFXgl_3_E--",
    "pycharm": {
     "name": "#%% md\n"
    }
   }
  },
  {
   "cell_type": "markdown",
   "source": [
    "Еще одной стандартной техникой, применяющейся в глубинном обучении, а особенно часто в компьютерном зрении, являются аугментации данных. Суть аугментаций состоит в том, что мы можем некоторым синтетическим образом видоизменять объекты обучающей выборки, тем самым расширяя ее, а также делая итоговую модель более устойчивой к таким изменениям.\n",
    "\n",
    "Простейшая аугментация, которую можно применить к картинкам — разворот картинки по горизонтальной оси. То есть при обучении модели с вероятностью $0.5$ мы будем разворачивать картинку из обучающей выборки."
   ],
   "metadata": {
    "id": "5G0Easo9O9Du",
    "pycharm": {
     "name": "#%% md\n"
    }
   }
  },
  {
   "cell_type": "code",
   "source": [
    "dataiter = iter(train_loader)\n",
    "images, labels = next(dataiter)\n",
    "\n",
    "imshow(torchvision.utils.make_grid(images[:4]))\n",
    "\n",
    "imshow(torchvision.utils.make_grid(transforms.functional.hflip(images[:4])))"
   ],
   "metadata": {
    "id": "SzeFpgtfO9Du",
    "pycharm": {
     "name": "#%%\n"
    },
    "colab": {
     "base_uri": "https://localhost:8080/",
     "height": 369
    },
    "outputId": "f0815e40-fcb2-4a1b-dc8a-d7ac373411c9"
   },
   "execution_count": null,
   "outputs": [
    {
     "output_type": "display_data",
     "data": {
      "text/plain": [
       "<Figure size 640x480 with 1 Axes>"
      ],
      "image/png": "[encoded data removed]"
     },
     "metadata": {}
    },
    {
     "output_type": "display_data",
     "data": {
      "text/plain": [
       "<Figure size 640x480 with 1 Axes>"
      ],
      "image/png": "[encoded data removed]"
     },
     "metadata": {}
    }
   ]
  },
  {
   "cell_type": "markdown",
   "source": [
    "Наиболее удобным способом работы с аугментациями в PyTorch является их задание в списке <code>transforms</code>, который затем передается в загрузчик данных. Обучим нашу сеть, применяя горизонтальные повороты:"
   ],
   "metadata": {
    "id": "BR4a-XJQO9Du",
    "pycharm": {
     "name": "#%% md\n"
    }
   }
  },
  {
   "cell_type": "code",
   "source": [
    "transform = transforms.Compose(\n",
    "        [transforms.RandomHorizontalFlip(),\n",
    "         transforms.ToTensor(),\n",
    "         transforms.Normalize((0.5, 0.5, 0.5), (0.5, 0.5, 0.5))]\n",
    ")\n",
    "\n",
    "train_loader, val_loader, test_loader = get_cifar10_data(batch_size=64, transform_train=transform)\n",
    "\n",
    "net = BasicBlockNet().to(device)\n",
    "optimizer = optim.SGD(net.parameters(), lr=0.1, momentum=0.9)\n",
    "scheduler = optim.lr_scheduler.MultiStepLR(optimizer, milestones=[10, 15], gamma=0.1)\n",
    "tr_loss_log, tr_acc_log, val_loss_log, val_acc_log = train(net, optimizer, 20, train_loader, val_loader, scheduler)"
   ],
   "metadata": {
    "id": "na0ScBf-_AqX",
    "scrolled": true,
    "pycharm": {
     "name": "#%%\n"
    },
    "colab": {
     "base_uri": "https://localhost:8080/"
    },
    "outputId": "18056f43-b917-4972-860c-47fe38c64ceb"
   },
   "execution_count": null,
   "outputs": [
    {
     "output_type": "stream",
     "name": "stdout",
     "text": "Files already downloaded and verified\n\nFiles already downloaded and verified\n\nEpoch 0\n\n train loss: 1.4860800981957472, train acc: 0.46904381039435883\n\n val loss: 1.2978328101178433, val acc: 0.535549645390071\n\n\n\nEpoch 1\n\n train loss: 1.187185336837385, train acc: 0.5819935035257248\n\n val loss: 1.12901054367106, val acc: 0.6066489361702128\n\n\n\nEpoch 2\n\n train loss: 1.0568751479197682, train acc: 0.6291255876207887\n\n val loss: 1.0625036277669542, val acc: 0.6310726950354609\n\n\n\nEpoch 3\n\n train loss: 0.9958087638483623, train acc: 0.6536057064507704\n\n val loss: 0.9921102599894747, val acc: 0.6647606382978724\n\n\n\nEpoch 4\n\n train loss: 0.9572881882979621, train acc: 0.6679616087751371\n\n val loss: 0.9997181258303054, val acc: 0.6513297872340426\n\n\n\nEpoch 5\n\n train loss: 0.9190906641470231, train acc: 0.6783918777748759\n\n val loss: 0.9455098238397152, val acc: 0.6659131205673758\n\n\n\nEpoch 6\n\n train loss: 0.9033821124917193, train acc: 0.6888629537738313\n\n val loss: 0.948144912212453, val acc: 0.6737367021276596\n\n\n\nEpoch 7\n\n train loss: 0.8909644677390564, train acc: 0.6936904217811439\n\n val loss: 0.8841418603633312, val acc: 0.6934397163120567\n\n\n\nEpoch 8\n\n train loss: 0.8770587151185686, train acc: 0.6968284800208931\n\n val loss: 0.9032037278439137, val acc: 0.6883643617021277\n\n\n\nEpoch 9\n\n train loss: 0.8545636395213809, train acc: 0.7031290806999216\n\n val loss: 0.8930731031488865, val acc: 0.7002659574468085\n\n\n\nEpoch 10\n\n train loss: 0.7676627457795675, train acc: 0.7353992556803344\n\n val loss: 0.8023398929453911, val acc: 0.7269946808510638\n\n\n\nEpoch 11\n\n train loss: 0.7527952702542328, train acc: 0.7399859623922695\n\n val loss: 0.7953076934560817, val acc: 0.7279476950354609\n\n\n\nEpoch 12\n\n train loss: 0.7456730695703566, train acc: 0.7429159049360147\n\n val loss: 0.7945621498087619, val acc: 0.7269060283687944\n\n\n\nEpoch 13\n\n train loss: 0.7423503075264926, train acc: 0.7453235178897885\n\n val loss: 0.786664646737119, val acc: 0.7303413120567375\n\n\n\nEpoch 14\n\n train loss: 0.7387021416610948, train acc: 0.7455112300861845\n\n val loss: 0.7861757112310288, val acc: 0.7298093971631204\n\n\n\nEpoch 15\n\n train loss: 0.725647594527745, train acc: 0.7512772590754766\n\n val loss: 0.7804258130966348, val acc: 0.734020390070922\n\n\n\nEpoch 16\n\n train loss: 0.7241356693739429, train acc: 0.7511181117785322\n\n val loss: 0.7764516021342988, val acc: 0.7335328014184397\n\n\n\nEpoch 17\n\n train loss: 0.7241755007498879, train acc: 0.7512568555758684\n\n val loss: 0.7804820155843776, val acc: 0.7361037234042553\n\n\n\nEpoch 18\n\n train loss: 0.7229274572358488, train acc: 0.7519668973622357\n\n val loss: 0.7766751073776408, val acc: 0.73395390070922\n\n\n\nEpoch 19\n\n train loss: 0.724367801951316, train acc: 0.7511752415774353\n\n val loss: 0.7770492372360636, val acc: 0.7358377659574468\n\n\n"
    }
   ]
  },
  {
   "cell_type": "markdown",
   "source": [
    "Посчитайте точность на тестовой выборке:"
   ],
   "metadata": {
    "id": "v3ZIqDQqO9Dv",
    "pycharm": {
     "name": "#%% md\n"
    }
   }
  },
  {
   "cell_type": "code",
   "source": [
    "test_loss, test_acc = test(net, test_loader)\n",
    "test_loss, test_acc"
   ],
   "metadata": {
    "id": "nNJizMkM_Auh",
    "pycharm": {
     "name": "#%%\n"
    },
    "colab": {
     "base_uri": "https://localhost:8080/"
    },
    "outputId": "7c90e1d8-5972-4e79-bdba-2950363cade8"
   },
   "execution_count": null,
   "outputs": [
    {
     "output_type": "execute_result",
     "execution_count": 23,
     "data": {
      "text/plain": [
       "(0.7940021848223012, 0.7264132165605095)"
      ]
     },
     "metadata": {}
    }
   ]
  },
  {
   "cell_type": "markdown",
   "source": [
    "**Задание 4.1 (2 балла).** Изучите, какие еще способы аугментаций изображений представлены в <code>torchvision.transforms</code>. Выберите несколько из них, объясните, как они устроены, и обучите модель с ними (по отдельности и вместе). Удалось ли добиться улучшения качества на тестовой выборке?"
   ],
   "metadata": {
    "id": "KndehSCHO9Dv",
    "pycharm": {
     "name": "#%% md\n"
    }
   }
  },
  {
   "cell_type": "markdown",
   "source": [
    "1 - RandomGrayscale\\\n",
    "\n",
    "С вероятностью 0.1 преобразует наше изображение в то же изображение, но в серых тонах"
   ],
   "metadata": {
    "id": "wyQzhlG97vaM"
   }
  },
  {
   "cell_type": "code",
   "source": [
    "transform = transforms.Compose(\n",
    "        [torchvision.transforms.RandomGrayscale(),\n",
    "         transforms.ToTensor(),\n",
    "         transforms.Normalize((0.5, 0.5, 0.5), (0.5, 0.5, 0.5))]\n",
    ")\n",
    "\n",
    "train_loader, val_loader, test_loader = get_cifar10_data(batch_size=64, transform_train=transform)\n",
    "\n",
    "net = BasicBlockNet().to(device)\n",
    "optimizer = optim.SGD(net.parameters(), lr=0.1, momentum=0.9)\n",
    "scheduler = optim.lr_scheduler.MultiStepLR(optimizer, milestones=[10, 15], gamma=0.1)\n",
    "tr_loss_log, tr_acc_log, val_loss_log, val_acc_log = train(net, optimizer, 20, train_loader, val_loader, scheduler)"
   ],
   "metadata": {
    "id": "Np4rgvdZ_QRF",
    "pycharm": {
     "name": "#%%\n"
    },
    "colab": {
     "base_uri": "https://localhost:8080/"
    },
    "outputId": "eec0cea0-b98b-4966-adad-e89be1899f26"
   },
   "execution_count": null,
   "outputs": [
    {
     "output_type": "stream",
     "name": "stdout",
     "text": "Files already downloaded and verified\n\nFiles already downloaded and verified\n\nEpoch 0\n\n train loss: 1.5086714265769317, train acc: 0.4628697114129015\n\n val loss: 1.2821880934086252, val acc: 0.5419326241134752\n\n\n\nEpoch 1\n\n train loss: 1.2031369873984858, train acc: 0.582585205014364\n\n val loss: 1.136110157154976, val acc: 0.6093085106382978\n\n\n\nEpoch 2\n\n train loss: 1.074187765173764, train acc: 0.6267506202663881\n\n val loss: 1.0706718533597095, val acc: 0.634020390070922\n\n\n\nEpoch 3\n\n train loss: 1.007898862117823, train acc: 0.6484028140506659\n\n val loss: 0.9932756170313409, val acc: 0.6593528368794327\n\n\n\nEpoch 4\n\n train loss: 0.9593294453577325, train acc: 0.6675249738835205\n\n val loss: 1.0086365917895703, val acc: 0.6481161347517731\n\n\n\nEpoch 5\n\n train loss: 0.930145138469431, train acc: 0.6770860537999478\n\n val loss: 1.0441784148520612, val acc: 0.6290558510638298\n\n\n\nEpoch 6\n\n train loss: 0.9040165376837555, train acc: 0.6843986680595456\n\n val loss: 0.9720116711677389, val acc: 0.6624778368794327\n\n\n\nEpoch 7\n\n train loss: 0.8902730964110582, train acc: 0.6914011491250979\n\n val loss: 0.9446927463754694, val acc: 0.6751773049645391\n\n\n\nEpoch 8\n\n train loss: 0.871367413884325, train acc: 0.6975956516061635\n\n val loss: 0.948702560840769, val acc: 0.6737588652482269\n\n\n\nEpoch 9\n\n train loss: 0.8484263094295313, train acc: 0.7068914860276835\n\n val loss: 0.8818660606729224, val acc: 0.6951241134751774\n\n\n\nEpoch 10\n\n train loss: 0.7418874550127242, train acc: 0.7439442413162706\n\n val loss: 0.8295389092983083, val acc: 0.7144946808510638\n\n\n\nEpoch 11\n\n train loss: 0.727027125779192, train acc: 0.7520933990598068\n\n val loss: 0.8186528869131778, val acc: 0.7197916666666667\n\n\n\nEpoch 12\n\n train loss: 0.7204895785565351, train acc: 0.7521994972577697\n\n val loss: 0.8154194450124781, val acc: 0.7201462765957447\n\n\n\nEpoch 13\n\n train loss: 0.7185298165738909, train acc: 0.7535257247323062\n\n val loss: 0.8133756929255547, val acc: 0.7216976950354609\n\n\n\nEpoch 14\n\n train loss: 0.7122425825983776, train acc: 0.7536114194306608\n\n val loss: 0.8164309818693932, val acc: 0.7200132978723405\n\n\n\nEpoch 15\n\n train loss: 0.6978497325938188, train acc: 0.7600507639070254\n\n val loss: 0.8043505304671349, val acc: 0.7252659574468086\n\n\n\nEpoch 16\n\n train loss: 0.6968066982203035, train acc: 0.7618952402716114\n\n val loss: 0.8085884999721609, val acc: 0.7242686170212767\n\n\n\nEpoch 17\n\n train loss: 0.6955853172695396, train acc: 0.7625807978584487\n\n val loss: 0.8063225842536764, val acc: 0.7250221631205673\n\n\n\nEpoch 18\n\n train loss: 0.6926793019666968, train acc: 0.76352343954035\n\n val loss: 0.803796959937887, val acc: 0.7240691489361702\n\n\n\nEpoch 19\n\n train loss: 0.6919996679591959, train acc: 0.7641845129276573\n\n val loss: 0.804401255414841, val acc: 0.7250664893617021\n\n\n"
    }
   ]
  },
  {
   "cell_type": "code",
   "source": [
    "test_loss, test_acc = test(net, test_loader)\n",
    "test_loss, test_acc"
   ],
   "metadata": {
    "colab": {
     "base_uri": "https://localhost:8080/"
    },
    "id": "VpBwJ69b7v5P",
    "outputId": "20c5e2e7-7645-4f44-fd79-1a34a14a0c1c"
   },
   "execution_count": null,
   "outputs": [
    {
     "output_type": "execute_result",
     "execution_count": 25,
     "data": {
      "text/plain": [
       "(0.797115415714349, 0.7267117834394905)"
      ]
     },
     "metadata": {}
    }
   ]
  },
  {
   "cell_type": "markdown",
   "source": [
    "2 - RandomRotation\n",
    "\n",
    "Крутит наше изображение на некий градус"
   ],
   "metadata": {
    "id": "xoslihGE7wPy"
   }
  },
  {
   "cell_type": "code",
   "source": [
    "transform = transforms.Compose(\n",
    "        [torchvision.transforms.RandomRotation(degrees=45), # == (-45, 45) показания будут\n",
    "         transforms.ToTensor(),\n",
    "         transforms.Normalize((0.5, 0.5, 0.5), (0.5, 0.5, 0.5))]\n",
    ")\n",
    "\n",
    "train_loader, val_loader, test_loader = get_cifar10_data(batch_size=64, transform_train=transform)\n",
    "\n",
    "net = BasicBlockNet().to(device)\n",
    "optimizer = optim.SGD(net.parameters(), lr=0.1, momentum=0.9)\n",
    "scheduler = optim.lr_scheduler.MultiStepLR(optimizer, milestones=[10, 15], gamma=0.1)\n",
    "tr_loss_log, tr_acc_log, val_loss_log, val_acc_log = train(net, optimizer, 20, train_loader, val_loader, scheduler)"
   ],
   "metadata": {
    "colab": {
     "base_uri": "https://localhost:8080/"
    },
    "id": "LXL931hz7wkd",
    "outputId": "8f15ea55-8ad3-444a-ed3f-535feae50ba0"
   },
   "execution_count": null,
   "outputs": [
    {
     "output_type": "stream",
     "name": "stdout",
     "text": "Files already downloaded and verified\n\nFiles already downloaded and verified\n\nEpoch 0\n\n train loss: 1.6673167974465073, train acc: 0.400422760511883\n\n val loss: 1.5160997715402156, val acc: 0.45463209219858153\n\n\n\nEpoch 1\n\n train loss: 1.4566941141428416, train acc: 0.483709845912771\n\n val loss: 1.4231168620129848, val acc: 0.4949468085106383\n\n\n\nEpoch 2\n\n train loss: 1.3681176399618007, train acc: 0.5162248628884827\n\n val loss: 1.348656464637594, val acc: 0.5225620567375886\n\n\n\nEpoch 3\n\n train loss: 1.3180436336144232, train acc: 0.5324782906764168\n\n val loss: 1.2777824860938052, val acc: 0.546697695035461\n\n\n\nEpoch 4\n\n train loss: 1.2724713470643791, train acc: 0.5519269065030035\n\n val loss: 1.2323379569865287, val acc: 0.5650709219858157\n\n\n\nEpoch 5\n\n train loss: 1.2429875084207525, train acc: 0.5602678571428572\n\n val loss: 1.2725436897988016, val acc: 0.5511081560283688\n\n\n\nEpoch 6\n\n train loss: 1.2135531048016313, train acc: 0.5691311373726821\n\n val loss: 1.1893687963485717, val acc: 0.573293439716312\n\n\n\nEpoch 7\n\n train loss: 1.2014796536626937, train acc: 0.5735301318882214\n\n val loss: 1.162264056408659, val acc: 0.590093085106383\n\n\n\nEpoch 8\n\n train loss: 1.182451822095205, train acc: 0.5812181705406111\n\n val loss: 1.208928562732453, val acc: 0.5736480496453902\n\n\n\nEpoch 9\n\n train loss: 1.1583503866108507, train acc: 0.5924972251240532\n\n val loss: 1.1247444041231844, val acc: 0.6064051418439715\n\n\n\nEpoch 10\n\n train loss: 1.0671607574117685, train acc: 0.6239145338208409\n\n val loss: 1.0752018258926717, val acc: 0.620279255319149\n\n\n\nEpoch 11\n\n train loss: 1.0505198878823512, train acc: 0.6297009663097414\n\n val loss: 1.0695894243869375, val acc: 0.6275709219858157\n\n\n\nEpoch 12\n\n train loss: 1.0495963146743217, train acc: 0.6312557129798904\n\n val loss: 1.0645513610636934, val acc: 0.6292553191489362\n\n\n\nEpoch 13\n\n train loss: 1.0426036997730597, train acc: 0.6331491577435362\n\n val loss: 1.0591414969018165, val acc: 0.6310948581560285\n\n\n\nEpoch 14\n\n train loss: 1.0370975310013542, train acc: 0.6345284343170541\n\n val loss: 1.0618249898261212, val acc: 0.6258643617021277\n\n\n\nEpoch 15\n\n train loss: 1.0264967970917822, train acc: 0.642224634369287\n\n val loss: 1.0495908351654701, val acc: 0.6338874113475178\n\n\n\nEpoch 16\n\n train loss: 1.0279179150051347, train acc: 0.6404168843039958\n\n val loss: 1.047959997045233, val acc: 0.6351950354609929\n\n\n\nEpoch 17\n\n train loss: 1.0243681140747978, train acc: 0.6386662640376077\n\n val loss: 1.0520175236336728, val acc: 0.6311170212765957\n\n\n\nEpoch 18\n\n train loss: 1.0215847762454797, train acc: 0.6410657155915382\n\n val loss: 1.0494055798713198, val acc: 0.6339760638297872\n\n\n\nEpoch 19\n\n train loss: 1.0195558235675806, train acc: 0.6422695220684251\n\n val loss: 1.0424732411161381, val acc: 0.6361702127659574\n\n\n"
    }
   ]
  },
  {
   "cell_type": "code",
   "source": [
    "test_loss, test_acc = test(net, test_loader)\n",
    "test_loss, test_acc"
   ],
   "metadata": {
    "colab": {
     "base_uri": "https://localhost:8080/"
    },
    "id": "hjbUTlTS7wyq",
    "outputId": "ff7f4d7e-36da-4fa3-b389-827299060622"
   },
   "execution_count": null,
   "outputs": [
    {
     "output_type": "execute_result",
     "execution_count": 27,
     "data": {
      "text/plain": [
       "(0.9489198334657463, 0.6722730891719745)"
      ]
     },
     "metadata": {}
    }
   ]
  },
  {
   "cell_type": "markdown",
   "source": [
    "3 - RandomPerspective\n",
    "\n",
    "C вероятностью 0.5 применяет перспектиное преобразование в 0.5 раз на изображении"
   ],
   "metadata": {
    "id": "KzvFFcKu7xQr"
   }
  },
  {
   "cell_type": "code",
   "source": [
    "transform = transforms.Compose(\n",
    "        [torchvision.transforms.RandomPerspective(),\n",
    "         transforms.ToTensor(),\n",
    "         transforms.Normalize((0.5, 0.5, 0.5), (0.5, 0.5, 0.5))]\n",
    ")\n",
    "\n",
    "train_loader, val_loader, test_loader = get_cifar10_data(batch_size=64, transform_train=transform)\n",
    "\n",
    "net = BasicBlockNet().to(device)\n",
    "optimizer = optim.SGD(net.parameters(), lr=0.1, momentum=0.9)\n",
    "scheduler = optim.lr_scheduler.MultiStepLR(optimizer, milestones=[10, 15], gamma=0.1)\n",
    "tr_loss_log, tr_acc_log, val_loss_log, val_acc_log = train(net, optimizer, 20, train_loader, val_loader, scheduler)"
   ],
   "metadata": {
    "colab": {
     "base_uri": "https://localhost:8080/"
    },
    "id": "nv2mPPLd7xp-",
    "outputId": "e6a0e730-844c-46dd-df53-808658067b14"
   },
   "execution_count": null,
   "outputs": [
    {
     "output_type": "stream",
     "name": "stdout",
     "text": "Files already downloaded and verified\n\nFiles already downloaded and verified\n\nEpoch 0\n\n train loss: 1.6993870530311543, train acc: 0.3810353551841212\n\n val loss: 1.5371795852133567, val acc: 0.4387632978723404\n\n\n\nEpoch 1\n\n train loss: 1.4661753746447659, train acc: 0.4711780164533821\n\n val loss: 1.3574287612387474, val acc: 0.5219636524822695\n\n\n\nEpoch 2\n\n train loss: 1.3223541455251426, train acc: 0.5270876860799164\n\n val loss: 1.259781413889946, val acc: 0.5572030141843971\n\n\n\nEpoch 3\n\n train loss: 1.2407025868103752, train acc: 0.5608677200313399\n\n val loss: 1.225190240271548, val acc: 0.5717863475177306\n\n\n\nEpoch 4\n\n train loss: 1.190072018986864, train acc: 0.5797817641681902\n\n val loss: 1.3733251843046634, val acc: 0.5290336879432624\n\n\n\nEpoch 5\n\n train loss: 1.1618347993934395, train acc: 0.5934888352050144\n\n val loss: 1.1594681143760681, val acc: 0.5873226950354609\n\n\n\nEpoch 6\n\n train loss: 1.1295878195239595, train acc: 0.6060981979629145\n\n val loss: 1.1540533167250613, val acc: 0.5935062056737588\n\n\n\nEpoch 7\n\n train loss: 1.111615613239121, train acc: 0.6090975124053277\n\n val loss: 1.1231754082314511, val acc: 0.605718085106383\n\n\n\nEpoch 8\n\n train loss: 1.0890004910542281, train acc: 0.6191972447114129\n\n val loss: 1.1056522841149188, val acc: 0.609906914893617\n\n\n\nEpoch 9\n\n train loss: 1.0722202421106413, train acc: 0.6247469966048576\n\n val loss: 1.0985799274546035, val acc: 0.6206117021276596\n\n\n\nEpoch 10\n\n train loss: 0.9698643750856738, train acc: 0.6588779707495429\n\n val loss: 1.003830178494149, val acc: 0.6545656028368795\n\n\n\nEpoch 11\n\n train loss: 0.9581719904974566, train acc: 0.6657009010185427\n\n val loss: 0.9936992345972264, val acc: 0.655895390070922\n\n\n\nEpoch 12\n\n train loss: 0.9450586012120221, train acc: 0.6719566139984331\n\n val loss: 0.9976522859106672, val acc: 0.6555407801418439\n\n\n\nEpoch 13\n\n train loss: 0.9427452593006643, train acc: 0.672458540088796\n\n val loss: 0.9798043585838155, val acc: 0.6597517730496455\n\n\n\nEpoch 14\n\n train loss: 0.9350107632563799, train acc: 0.6764861909114651\n\n val loss: 0.9817664854069974, val acc: 0.6620789007092199\n\n\n\nEpoch 15\n\n train loss: 0.9232298344973019, train acc: 0.6756700509271351\n\n val loss: 0.971100152553396, val acc: 0.6636081560283689\n\n\n\nEpoch 16\n\n train loss: 0.9206846402157813, train acc: 0.6817217289109428\n\n val loss: 0.9629240761411951, val acc: 0.6651152482269502\n\n\n\nEpoch 17\n\n train loss: 0.9257414276682698, train acc: 0.6773921062940715\n\n val loss: 0.9670556466630165, val acc: 0.6667553191489362\n\n\n\nEpoch 18\n\n train loss: 0.9255032292013848, train acc: 0.6800363998433011\n\n val loss: 0.9717759444358501, val acc: 0.6631870567375886\n\n\n\nEpoch 19\n\n train loss: 0.9191447991121839, train acc: 0.6807178767302168\n\n val loss: 0.9621148535545836, val acc: 0.6694370567375886\n\n\n"
    }
   ]
  },
  {
   "cell_type": "code",
   "source": [
    "test_loss, test_acc = test(net, test_loader)\n",
    "test_loss, test_acc"
   ],
   "metadata": {
    "colab": {
     "base_uri": "https://localhost:8080/"
    },
    "id": "LhJrxLZ_7x6j",
    "outputId": "e3d66d4a-d610-4c38-bf3f-b2a512a638d2"
   },
   "execution_count": null,
   "outputs": [
    {
     "output_type": "execute_result",
     "execution_count": 29,
     "data": {
      "text/plain": [
       "(0.8641270144729857, 0.7028264331210191)"
      ]
     },
     "metadata": {}
    }
   ]
  },
  {
   "cell_type": "markdown",
   "source": [
    "Все вместе:"
   ],
   "metadata": {
    "id": "DOO_jnke800O"
   }
  },
  {
   "cell_type": "code",
   "source": [
    "transform = transforms.Compose(\n",
    "        [transforms.RandomHorizontalFlip(),\n",
    "         torchvision.transforms.RandomGrayscale(),\n",
    "         torchvision.transforms.RandomPerspective(),\n",
    "         torchvision.transforms.RandomRotation(degrees=45),\n",
    "         transforms.ToTensor(),\n",
    "         transforms.Normalize((0.5, 0.5, 0.5), (0.5, 0.5, 0.5))]\n",
    ")\n",
    "\n",
    "train_loader, val_loader, test_loader = get_cifar10_data(batch_size=64, transform_train=transform)\n",
    "\n",
    "net = BasicBlockNet().to(device)\n",
    "optimizer = optim.SGD(net.parameters(), lr=0.1, momentum=0.9)\n",
    "scheduler = optim.lr_scheduler.MultiStepLR(optimizer, milestones=[10, 15], gamma=0.1)\n",
    "tr_loss_log, tr_acc_log, val_loss_log, val_acc_log = train(net, optimizer, 20, train_loader, val_loader, scheduler)"
   ],
   "metadata": {
    "colab": {
     "base_uri": "https://localhost:8080/"
    },
    "id": "Gp26UGN681YW",
    "outputId": "677ba605-f234-4833-b378-930ca3dbc354"
   },
   "execution_count": null,
   "outputs": [
    {
     "output_type": "stream",
     "name": "stdout",
     "text": "Files already downloaded and verified\n\nFiles already downloaded and verified\n\nEpoch 0\n\n train loss: 1.8322078724012079, train acc: 0.3351927722642988\n\n val loss: 1.70616718758928, val acc: 0.37109929078014187\n\n\n\nEpoch 1\n\n train loss: 1.6688760636711468, train acc: 0.40225091407678243\n\n val loss: 1.6362856169964404, val acc: 0.414915780141844\n\n\n\nEpoch 2\n\n train loss: 1.5934474073772675, train acc: 0.42693098720292505\n\n val loss: 1.53209799604213, val acc: 0.45237145390070915\n\n\n\nEpoch 3\n\n train loss: 1.542970333282429, train acc: 0.4435639200835727\n\n val loss: 1.520774894572319, val acc: 0.454188829787234\n\n\n\nEpoch 4\n\n train loss: 1.4971290979350507, train acc: 0.4622943327239488\n\n val loss: 1.4800019198275627, val acc: 0.47265070921985813\n\n\n\nEpoch 5\n\n train loss: 1.4593238157153783, train acc: 0.47869058500914075\n\n val loss: 1.4354846183289873, val acc: 0.4954343971631206\n\n\n\nEpoch 6\n\n train loss: 1.4418941206644396, train acc: 0.48646023765996343\n\n val loss: 1.4529639994844477, val acc: 0.4836879432624113\n\n\n\nEpoch 7\n\n train loss: 1.4230777726966677, train acc: 0.49164272656045965\n\n val loss: 1.3779496324823257, val acc: 0.5068927304964539\n\n\n\nEpoch 8\n\n train loss: 1.393954882674069, train acc: 0.5005345716897363\n\n val loss: 1.3929295154328043, val acc: 0.5081560283687943\n\n\n\nEpoch 9\n\n train loss: 1.3910558731507994, train acc: 0.5035298054322277\n\n val loss: 1.3759064547559048, val acc: 0.5129654255319149\n\n\n\nEpoch 10\n\n train loss: 1.2959217153475968, train acc: 0.5407702729172107\n\n val loss: 1.2690004259982008, val acc: 0.5507535460992907\n\n\n\nEpoch 11\n\n train loss: 1.27671116862916, train acc: 0.5475687189866806\n\n val loss: 1.2639286259387401, val acc: 0.5560726950354609\n\n\n\nEpoch 12\n\n train loss: 1.271042232866479, train acc: 0.5489520762601201\n\n val loss: 1.2548580096123065, val acc: 0.5547872340425531\n\n\n\nEpoch 13\n\n train loss: 1.2662006186174954, train acc: 0.5533959584747976\n\n val loss: 1.2436802699210796, val acc: 0.5607047872340426\n\n\n\nEpoch 14\n\n train loss: 1.2647009137779528, train acc: 0.5507026965265083\n\n val loss: 1.2469492214791318, val acc: 0.5604166666666668\n\n\n\nEpoch 15\n\n train loss: 1.2468494225899525, train acc: 0.5599944502481066\n\n val loss: 1.2407120029977028, val acc: 0.5592198581560285\n\n\n\nEpoch 16\n\n train loss: 1.2443475913957878, train acc: 0.5605167798380778\n\n val loss: 1.2404787139689668, val acc: 0.5611702127659575\n\n\n\nEpoch 17\n\n train loss: 1.2428747052684344, train acc: 0.5633487855837034\n\n val loss: 1.2352494374234626, val acc: 0.5663785460992907\n\n\n\nEpoch 18\n\n train loss: 1.2502575519969739, train acc: 0.5588069665709062\n\n val loss: 1.2323480220551186, val acc: 0.5690824468085106\n\n\n\nEpoch 19\n\n train loss: 1.24212381281844, train acc: 0.5627938103943588\n\n val loss: 1.2430935360015707, val acc: 0.5569370567375885\n\n\n"
    }
   ]
  },
  {
   "cell_type": "code",
   "source": [
    "test_loss, test_acc = test(net, test_loader)\n",
    "test_loss, test_acc"
   ],
   "metadata": {
    "colab": {
     "base_uri": "https://localhost:8080/"
    },
    "id": "y2Ehnpn-81u0",
    "outputId": "7f58b1fa-68d9-4323-9bb6-a56425189d51"
   },
   "execution_count": null,
   "outputs": [
    {
     "output_type": "execute_result",
     "execution_count": 31,
     "data": {
      "text/plain": [
       "(1.035155447045709, 0.6404259554140127)"
      ]
     },
     "metadata": {}
    }
   ]
  },
  {
   "cell_type": "markdown",
   "source": [
    "**Your answers here:**\n",
    "\n",
    "Горизонтальное преобр - 0.7264132165605095\\\n",
    "Серый цвет - 0.7267117834394905\\\n",
    "Прокурутка изображения - 0.6722730891719745\\\n",
    "Перспектива - 0.7028264331210191\\\n",
    "**Вместе - 0.6404259554140127**\\\n",
    "Вывод: Безусловно аугментация данных помогает нам лучше обучить модель, так как трактор (условно) во всех тонах и поворотах должен распозноваться трактором, а наша модель до этого не умела так думать (то есть в ее понимании тот же трактор может смотреть только направо и должен быть цветным, а когда получала серый трактор, смотрящий налево, офигевала и выдавала дичь, а не ответ).\n",
    "\n",
    "Что же касается самих преобразований: горизонт, серый цвет показали себя хорошо отдельно, а вот поворот изображения что-то оказался слишком плох и портил всю малину. Перспектива - тоже на любителя, я бы в будущем (если надо было бы в продолжении просто сделать наилучшую модель) не использовал бы. В совокупности наши преобразования дали хуже ошибку (намного хуже), смею предположить, что это из-за прокрутки изображений (да просто каша из них получилась, надо будет использовать метод (забыл название), который рандомно из них выбирает трансформер)"
   ],
   "metadata": {
    "id": "4K-MptLiO9Dv",
    "pycharm": {
     "name": "#%% md\n"
    }
   }
  },
  {
   "cell_type": "markdown",
   "source": [
    "## Бонус. Логирование в wandb (2 балла)"
   ],
   "metadata": {
    "id": "HCENjLw5O9Dv",
    "pycharm": {
     "name": "#%% md\n"
    }
   }
  },
  {
   "cell_type": "markdown",
   "source": [
    "На практике специалиста по глубинному обучению часто встречаются ситуации, когда нейросеть учится на каком-то удаленном сервере. И обычно вам хочется отслеживать прогресс обучения, особенно когда время обучения модели исчисляется днями или неделями. Для таких целей существует несколько инструментов. Вероятно, самый популярный из них — [wandb](https://wandb.ai/site).\n",
    "\n",
    "Ваша задача состоит в том, чтобы разобраться как им пользоваться, и повторить задания 2.1 и 2.2 с его использованием. Обучение вы можете запускать в этом же ноутбуке, но теперь вам необходимо через wandb логировать значения функции потерь и точности на обучающей выборке и на валидационной. Результатом работы должны быть ваш код и публичная ссылка на страничку с графиками, идентичными графикам в задании 2.2."
   ],
   "metadata": {
    "id": "xOyzc1mnO9Dv",
    "pycharm": {
     "name": "#%% md\n"
    }
   }
  },
  {
   "cell_type": "code",
   "source": [
    "!pip3 install wandb"
   ],
   "metadata": {
    "id": "QjxFFvIYExKz",
    "execution": {
     "iopub.status.busy": "2023-11-13T20:39:10.770006Z",
     "iopub.execute_input": "2023-11-13T20:39:10.770406Z",
     "iopub.status.idle": "2023-11-13T20:39:25.620188Z",
     "shell.execute_reply.started": "2023-11-13T20:39:10.770375Z",
     "shell.execute_reply": "2023-11-13T20:39:25.618906Z"
    },
    "collapsed": true,
    "jupyter": {
     "outputs_hidden": true
    },
    "trusted": true
   },
   "execution_count": 8,
   "outputs": [
    {
     "name": "stdout",
     "text": "Requirement already satisfied: wandb in /opt/conda/lib/python3.10/site-packages (0.15.12)\nRequirement already satisfied: Click!=8.0.0,>=7.1 in /opt/conda/lib/python3.10/site-packages (from wandb) (8.1.7)\nRequirement already satisfied: GitPython!=3.1.29,>=1.0.0 in /opt/conda/lib/python3.10/site-packages (from wandb) (3.1.32)\nRequirement already satisfied: requests<3,>=2.0.0 in /opt/conda/lib/python3.10/site-packages (from wandb) (2.31.0)\nRequirement already satisfied: psutil>=5.0.0 in /opt/conda/lib/python3.10/site-packages (from wandb) (5.9.3)\nRequirement already satisfied: sentry-sdk>=1.0.0 in /opt/conda/lib/python3.10/site-packages (from wandb) (1.34.0)\nRequirement already satisfied: docker-pycreds>=0.4.0 in /opt/conda/lib/python3.10/site-packages (from wandb) (0.4.0)\nRequirement already satisfied: PyYAML in /opt/conda/lib/python3.10/site-packages (from wandb) (6.0.1)\nRequirement already satisfied: pathtools in /opt/conda/lib/python3.10/site-packages (from wandb) (0.1.2)\nRequirement already satisfied: setproctitle in /opt/conda/lib/python3.10/site-packages (from wandb) (1.3.3)\nRequirement already satisfied: setuptools in /opt/conda/lib/python3.10/site-packages (from wandb) (68.1.2)\nRequirement already satisfied: appdirs>=1.4.3 in /opt/conda/lib/python3.10/site-packages (from wandb) (1.4.4)\nRequirement already satisfied: protobuf!=4.21.0,<5,>=3.19.0 in /opt/conda/lib/python3.10/site-packages (from wandb) (3.20.3)\nRequirement already satisfied: six>=1.4.0 in /opt/conda/lib/python3.10/site-packages (from docker-pycreds>=0.4.0->wandb) (1.16.0)\nRequirement already satisfied: gitdb<5,>=4.0.1 in /opt/conda/lib/python3.10/site-packages (from GitPython!=3.1.29,>=1.0.0->wandb) (4.0.10)\nRequirement already satisfied: charset-normalizer<4,>=2 in /opt/conda/lib/python3.10/site-packages (from requests<3,>=2.0.0->wandb) (3.2.0)\nRequirement already satisfied: idna<4,>=2.5 in /opt/conda/lib/python3.10/site-packages (from requests<3,>=2.0.0->wandb) (3.4)\nRequirement already satisfied: urllib3<3,>=1.21.1 in /opt/conda/lib/python3.10/site-packages (from requests<3,>=2.0.0->wandb) (1.26.15)\nRequirement already satisfied: certifi>=2017.4.17 in /opt/conda/lib/python3.10/site-packages (from requests<3,>=2.0.0->wandb) (2023.7.22)\nRequirement already satisfied: smmap<6,>=3.0.1 in /opt/conda/lib/python3.10/site-packages (from gitdb<5,>=4.0.1->GitPython!=3.1.29,>=1.0.0->wandb) (5.0.0)\n",
     "output_type": "stream"
    }
   ]
  },
  {
   "cell_type": "code",
   "source": [
    "import wandb\n",
    "\n",
    "def train(model, optimizer, n_epochs, train_loader, val_loader, scheduler=None):\n",
    "    train_loss_log, train_acc_log, val_loss_log, val_acc_log = [], [], [], []\n",
    "    train_len_epoch_loss = []\n",
    "    train_len_epoch_acc = []\n",
    "\n",
    "    for epoch in range(n_epochs):\n",
    "        train_loss, train_acc = train_epoch(model, optimizer, train_loader)\n",
    "        val_loss, val_acc = test(model, val_loader)\n",
    "\n",
    "        train_loss_log.extend(train_loss)\n",
    "        train_acc_log.extend(train_acc)\n",
    "        train_len_epoch_loss.append(len(train_loss_log))\n",
    "        train_len_epoch_acc.append(len(train_acc_log))\n",
    "\n",
    "        val_loss_log.append(val_loss)\n",
    "        val_acc_log.append(val_acc)\n",
    "        \n",
    "        run_train = wandb.init(project='deep_learning_hw2', name=\"train data\", resume=(epoch>0), reinit=True)\n",
    "        data = [[x, y] for (x, y) in zip(np.linspace(0, len(train_loss_log), len(train_loss_log), dtype='int'), train_loss_log)]\n",
    "        table = wandb.Table(data=data, columns = [\"step\", \"data\"])\n",
    "        run_train.log({\"loss\" : wandb.plot.line(table, \"step\",\n",
    "                  \"data\", stroke=None, title=\"loss\")})\n",
    "        \n",
    "        data = [[x, y] for (x, y) in zip(np.linspace(0, len(train_acc_log), len(train_acc_log), dtype='int'), train_acc_log)]\n",
    "        table = wandb.Table(data=data, columns = [\"step\", \"data\"])\n",
    "        run_train.log({\"accuracy\" : wandb.plot.line(table, \"step\",\n",
    "                  \"data\", stroke=None, title=\"accuracy\")})\n",
    "#         run_train.finish()\n",
    "        \n",
    "        run_val = wandb.init(project='deep_learning_hw2', name=\"val data\", resume=(epoch>0), reinit=True)\n",
    "        data = [[x, y] for (x, y) in zip(np.linspace(len(train_loss_log) / (epoch + 1), len(train_loss_log), epoch + 1, dtype='int'), val_loss_log)]\n",
    "        table = wandb.Table(data=data, columns = [\"step\", \"data\"])\n",
    "        run_val.log({\"loss\" : wandb.plot.line(table, \"step\",\n",
    "                  \"data\", stroke=None, title=\"loss\")})\n",
    "\n",
    "        data = [[x, y] for (x, y) in zip(np.linspace(len(train_acc_log) / (epoch + 1), len(train_acc_log), epoch + 1, dtype='int'), val_acc_log)]\n",
    "        table = wandb.Table(data=data, columns = [\"step\", \"data\"])\n",
    "        run_val.log({\"accuracy\" : wandb.plot.line(table, \"step\",\n",
    "                  \"data\", stroke=None, title=\"accuracy\")})\n",
    "#         run_val.finish()\n",
    "\n",
    "        print(f\"Epoch {epoch}\")\n",
    "        print(f\" train loss: {np.mean(train_loss)}, train acc: {np.mean(train_acc)}\")\n",
    "        print(f\" val loss: {val_loss}, val acc: {val_acc}\\n\")\n",
    "\n",
    "        if scheduler is not None:\n",
    "            scheduler.step()\n",
    "\n",
    "#     # train\n",
    "#     run_train = wandb.init(project='deep_learning_hw2', name=\"train data\", reinit=True)\n",
    "#     for epoch in range(n_epochs):\n",
    "#         data = [[x, y] for (x, y) in zip(np.linspace(0, train_len_epoch_loss[epoch], train_len_epoch_loss[epoch], dtype='int'), train_loss_log[:train_len_epoch_loss[epoch]])]\n",
    "#         table = wandb.Table(data=data, columns = [\"step\", \"data\"])\n",
    "#         run_train.log({\"loss\" : wandb.plot.line(table, \"step\",\n",
    "#                   \"data\", stroke=None, title=\"loss\")})\n",
    "        \n",
    "#         data = [[x, y] for (x, y) in zip(np.linspace(0, train_len_epoch_acc[epoch], train_len_epoch_acc[epoch], dtype='int'), train_acc_log[:train_len_epoch_acc[epoch]])]\n",
    "#         table = wandb.Table(data=data, columns = [\"step\", \"data\"])\n",
    "#         run_train.log({\"accuracy\" : wandb.plot.line(table, \"step\",\n",
    "#                   \"data\", stroke=None, title=\"accuracy\")})\n",
    "#     run_train.finish()\n",
    "\n",
    "#     # val\n",
    "#     run_val = wandb.init(project='deep_learning_hw2', name=\"val data\", reinit=True)\n",
    "#     for epoch in range(n_epochs):\n",
    "#         data = [[x, y] for (x, y) in zip(np.linspace(train_len_epoch_loss[epoch] / (epoch + 1), train_len_epoch_loss[epoch], epoch + 1, dtype='int'), val_loss_log[:(epoch+1)])]\n",
    "#         table = wandb.Table(data=data, columns = [\"step\", \"data\"])\n",
    "#         run_val.log({\"loss\" : wandb.plot.line(table, \"step\",\n",
    "#                   \"data\", stroke=None, title=\"loss\")})\n",
    "\n",
    "#         data = [[x, y] for (x, y) in zip(np.linspace(train_len_epoch_acc[epoch] / (epoch + 1), train_len_epoch_acc[epoch], epoch + 1, dtype='int'), val_acc_log[:(epoch+1)])]\n",
    "#         table = wandb.Table(data=data, columns = [\"step\", \"data\"])\n",
    "#         run_val.log({\"accuracy\" : wandb.plot.line(table, \"step\",\n",
    "#                   \"data\", stroke=None, title=\"accuracy\")})\n",
    "#     run_val.finish()\n",
    "\n",
    "    return train_loss_log, train_acc_log, val_loss_log, val_acc_log"
   ],
   "metadata": {
    "id": "m5gSTLAr_QS4",
    "pycharm": {
     "name": "#%%\n"
    },
    "execution": {
     "iopub.status.busy": "2023-11-13T20:39:27.431569Z",
     "iopub.execute_input": "2023-11-13T20:39:27.431971Z",
     "iopub.status.idle": "2023-11-13T20:39:28.374706Z",
     "shell.execute_reply.started": "2023-11-13T20:39:27.431937Z",
     "shell.execute_reply": "2023-11-13T20:39:28.373805Z"
    },
    "trusted": true
   },
   "execution_count": 9,
   "outputs": []
  },
  {
   "cell_type": "code",
   "source": [
    "transform = transforms.Compose(\n",
    "        [transforms.ToTensor(),\n",
    "         transforms.Normalize((0.5, 0.5, 0.5), (0.5, 0.5, 0.5))]\n",
    ")\n",
    "\n",
    "train_loader, val_loader, test_loader = get_cifar10_data(batch_size=64,\n",
    "                                                         transform_train=transform)"
   ],
   "metadata": {
    "id": "AwavvnMdegcq"
   },
   "execution_count": null,
   "outputs": []
  },
  {
   "cell_type": "code",
   "source": [
    "net = BasicBlockNet().to(device)\n",
    "optimizer = optim.SGD(net.parameters(), lr=0.1, momentum=0.9)\n",
    "train_loss_log, train_acc_log, val_loss_log, val_acc_log = train(net, optimizer, 20, train_loader, val_loader)"
   ],
   "metadata": {
    "colab": {
     "base_uri": "https://localhost:8080/",
     "height": 368
    },
    "id": "YVUqBZgPDaxR",
    "outputId": "c9081a1c-17cd-49c5-b0d1-fa4671ce0dcd",
    "execution": {
     "iopub.status.busy": "2023-11-13T20:39:32.860109Z",
     "iopub.execute_input": "2023-11-13T20:39:32.860960Z",
     "iopub.status.idle": "2023-11-13T21:31:43.775566Z",
     "shell.execute_reply.started": "2023-11-13T20:39:32.860914Z",
     "shell.execute_reply": "2023-11-13T21:31:43.774467Z"
    },
    "collapsed": true,
    "jupyter": {
     "outputs_hidden": true
    },
    "trusted": true
   },
   "execution_count": 10,
   "outputs": [
    {
     "name": "stderr",
     "text": "\u001B[34m\u001B[1mwandb\u001B[0m: Logging into wandb.ai. (Learn how to deploy a W&B server locally: https://wandb.me/wandb-server)\n\u001B[34m\u001B[1mwandb\u001B[0m: You can find your API key in your browser here: https://wandb.ai/authorize\n\u001B[34m\u001B[1mwandb\u001B[0m: Paste an API key from your profile and hit enter, or press ctrl+c to quit:",
     "output_type": "stream"
    },
    {
     "output_type": "stream",
     "name": "stdin",
     "text": "  ········································\n"
    },
    {
     "name": "stderr",
     "text": "\u001B[34m\u001B[1mwandb\u001B[0m: Appending key for api.wandb.ai to your netrc file: /root/.netrc\n",
     "output_type": "stream"
    },
    {
     "output_type": "display_data",
     "data": {
      "text/plain": "<IPython.core.display.HTML object>",
      "text/html": "wandb version 0.16.0 is available!  To upgrade, please run:\n $ pip install wandb --upgrade"
     },
     "metadata": {}
    },
    {
     "output_type": "display_data",
     "data": {
      "text/plain": "<IPython.core.display.HTML object>",
      "text/html": "Tracking run with wandb version 0.15.12"
     },
     "metadata": {}
    },
    {
     "output_type": "display_data",
     "data": {
      "text/plain": "<IPython.core.display.HTML object>",
      "text/html": "Run data is saved locally in <code>/kaggle/working/wandb/run-20231113_204031-2zjax5kn</code>"
     },
     "metadata": {}
    },
    {
     "output_type": "display_data",
     "data": {
      "text/plain": "<IPython.core.display.HTML object>",
      "text/html": "Syncing run <strong><a href='https://wandb.ai/rodion-chernomordin/deep_learning_hw2/runs/2zjax5kn' target=\"_blank\">train data</a></strong> to <a href='https://wandb.ai/rodion-chernomordin/deep_learning_hw2' target=\"_blank\">Weights & Biases</a> (<a href='https://wandb.me/run' target=\"_blank\">docs</a>)<br/>"
     },
     "metadata": {}
    },
    {
     "output_type": "display_data",
     "data": {
      "text/plain": "<IPython.core.display.HTML object>",
      "text/html": " View project at <a href='https://wandb.ai/rodion-chernomordin/deep_learning_hw2' target=\"_blank\">https://wandb.ai/rodion-chernomordin/deep_learning_hw2</a>"
     },
     "metadata": {}
    },
    {
     "output_type": "display_data",
     "data": {
      "text/plain": "<IPython.core.display.HTML object>",
      "text/html": " View run at <a href='https://wandb.ai/rodion-chernomordin/deep_learning_hw2/runs/2zjax5kn' target=\"_blank\">https://wandb.ai/rodion-chernomordin/deep_learning_hw2/runs/2zjax5kn</a>"
     },
     "metadata": {}
    },
    {
     "output_type": "display_data",
     "data": {
      "text/plain": "<IPython.core.display.HTML object>",
      "text/html": "Finishing last run (ID:2zjax5kn) before initializing another..."
     },
     "metadata": {}
    },
    {
     "output_type": "display_data",
     "data": {
      "text/plain": "<IPython.core.display.HTML object>",
      "text/html": "Waiting for W&B process to finish... <strong style=\"color:green\">(success).</strong>"
     },
     "metadata": {}
    },
    {
     "output_type": "display_data",
     "data": {
      "text/plain": "<IPython.core.display.HTML object>",
      "text/html": " View run <strong style=\"color:#cdcd00\">train data</strong> at: <a href='https://wandb.ai/rodion-chernomordin/deep_learning_hw2/runs/2zjax5kn' target=\"_blank\">https://wandb.ai/rodion-chernomordin/deep_learning_hw2/runs/2zjax5kn</a><br/>Synced 5 W&B file(s), 2 media file(s), 2 artifact file(s) and 0 other file(s)"
     },
     "metadata": {}
    },
    {
     "output_type": "display_data",
     "data": {
      "text/plain": "<IPython.core.display.HTML object>",
      "text/html": "Find logs at: <code>./wandb/run-20231113_204031-2zjax5kn/logs</code>"
     },
     "metadata": {}
    },
    {
     "output_type": "display_data",
     "data": {
      "text/plain": "<IPython.core.display.HTML object>",
      "text/html": "Successfully finished last run (ID:2zjax5kn). Initializing new run:<br/>"
     },
     "metadata": {}
    },
    {
     "output_type": "display_data",
     "data": {
      "text/plain": "<IPython.core.display.HTML object>",
      "text/html": "wandb version 0.16.0 is available!  To upgrade, please run:\n $ pip install wandb --upgrade"
     },
     "metadata": {}
    },
    {
     "output_type": "display_data",
     "data": {
      "text/plain": "<IPython.core.display.HTML object>",
      "text/html": "Tracking run with wandb version 0.15.12"
     },
     "metadata": {}
    },
    {
     "output_type": "display_data",
     "data": {
      "text/plain": "<IPython.core.display.HTML object>",
      "text/html": "Run data is saved locally in <code>/kaggle/working/wandb/run-20231113_204106-mpesmzrh</code>"
     },
     "metadata": {}
    },
    {
     "output_type": "display_data",
     "data": {
      "text/plain": "<IPython.core.display.HTML object>",
      "text/html": "Syncing run <strong><a href='https://wandb.ai/rodion-chernomordin/deep_learning_hw2/runs/mpesmzrh' target=\"_blank\">val data</a></strong> to <a href='https://wandb.ai/rodion-chernomordin/deep_learning_hw2' target=\"_blank\">Weights & Biases</a> (<a href='https://wandb.me/run' target=\"_blank\">docs</a>)<br/>"
     },
     "metadata": {}
    },
    {
     "output_type": "display_data",
     "data": {
      "text/plain": "<IPython.core.display.HTML object>",
      "text/html": " View project at <a href='https://wandb.ai/rodion-chernomordin/deep_learning_hw2' target=\"_blank\">https://wandb.ai/rodion-chernomordin/deep_learning_hw2</a>"
     },
     "metadata": {}
    },
    {
     "output_type": "display_data",
     "data": {
      "text/plain": "<IPython.core.display.HTML object>",
      "text/html": " View run at <a href='https://wandb.ai/rodion-chernomordin/deep_learning_hw2/runs/mpesmzrh' target=\"_blank\">https://wandb.ai/rodion-chernomordin/deep_learning_hw2/runs/mpesmzrh</a>"
     },
     "metadata": {}
    },
    {
     "name": "stdout",
     "text": "Epoch 0\n train loss: 1.4951077056759237, train acc: 0.46728094802820574\n val loss: 1.293193476250831, val acc: 0.5331338652482269\n\n",
     "output_type": "stream"
    },
    {
     "output_type": "display_data",
     "data": {
      "text/plain": "<IPython.core.display.HTML object>",
      "text/html": "Finishing last run (ID:mpesmzrh) before initializing another..."
     },
     "metadata": {}
    },
    {
     "output_type": "display_data",
     "data": {
      "text/plain": "<IPython.core.display.HTML object>",
      "text/html": "Waiting for W&B process to finish... <strong style=\"color:green\">(success).</strong>"
     },
     "metadata": {}
    },
    {
     "output_type": "display_data",
     "data": {
      "text/plain": "VBox(children=(Label(value='0.002 MB of 0.002 MB uploaded (0.000 MB deduped)\\r'), FloatProgress(value=1.0, max…",
      "application/vnd.jupyter.widget-view+json": {
       "version_major": 2,
       "version_minor": 0,
       "model_id": "a7dd2f69c0c44f7695ee9ae87f2f55c1"
      }
     },
     "metadata": {}
    },
    {
     "output_type": "display_data",
     "data": {
      "text/plain": "<IPython.core.display.HTML object>",
      "text/html": " View run <strong style=\"color:#cdcd00\">val data</strong> at: <a href='https://wandb.ai/rodion-chernomordin/deep_learning_hw2/runs/mpesmzrh' target=\"_blank\">https://wandb.ai/rodion-chernomordin/deep_learning_hw2/runs/mpesmzrh</a><br/>Synced 6 W&B file(s), 2 media file(s), 2 artifact file(s) and 0 other file(s)"
     },
     "metadata": {}
    },
    {
     "output_type": "display_data",
     "data": {
      "text/plain": "<IPython.core.display.HTML object>",
      "text/html": "Find logs at: <code>./wandb/run-20231113_204106-mpesmzrh/logs</code>"
     },
     "metadata": {}
    },
    {
     "output_type": "display_data",
     "data": {
      "text/plain": "<IPython.core.display.HTML object>",
      "text/html": "Successfully finished last run (ID:mpesmzrh). Initializing new run:<br/>"
     },
     "metadata": {}
    },
    {
     "output_type": "display_data",
     "data": {
      "text/plain": "<IPython.core.display.HTML object>",
      "text/html": "wandb version 0.16.0 is available!  To upgrade, please run:\n $ pip install wandb --upgrade"
     },
     "metadata": {}
    },
    {
     "output_type": "display_data",
     "data": {
      "text/plain": "<IPython.core.display.HTML object>",
      "text/html": "Tracking run with wandb version 0.15.12"
     },
     "metadata": {}
    },
    {
     "output_type": "display_data",
     "data": {
      "text/plain": "<IPython.core.display.HTML object>",
      "text/html": "Run data is saved locally in <code>/kaggle/working/wandb/run-20231113_204301-d3pszw4f</code>"
     },
     "metadata": {}
    },
    {
     "output_type": "display_data",
     "data": {
      "text/plain": "<IPython.core.display.HTML object>",
      "text/html": "Syncing run <strong><a href='https://wandb.ai/rodion-chernomordin/deep_learning_hw2/runs/d3pszw4f' target=\"_blank\">train data</a></strong> to <a href='https://wandb.ai/rodion-chernomordin/deep_learning_hw2' target=\"_blank\">Weights & Biases</a> (<a href='https://wandb.me/run' target=\"_blank\">docs</a>)<br/>"
     },
     "metadata": {}
    },
    {
     "output_type": "display_data",
     "data": {
      "text/plain": "<IPython.core.display.HTML object>",
      "text/html": " View project at <a href='https://wandb.ai/rodion-chernomordin/deep_learning_hw2' target=\"_blank\">https://wandb.ai/rodion-chernomordin/deep_learning_hw2</a>"
     },
     "metadata": {}
    },
    {
     "output_type": "display_data",
     "data": {
      "text/plain": "<IPython.core.display.HTML object>",
      "text/html": " View run at <a href='https://wandb.ai/rodion-chernomordin/deep_learning_hw2/runs/d3pszw4f' target=\"_blank\">https://wandb.ai/rodion-chernomordin/deep_learning_hw2/runs/d3pszw4f</a>"
     },
     "metadata": {}
    },
    {
     "output_type": "display_data",
     "data": {
      "text/plain": "<IPython.core.display.HTML object>",
      "text/html": "Finishing last run (ID:d3pszw4f) before initializing another..."
     },
     "metadata": {}
    },
    {
     "output_type": "display_data",
     "data": {
      "text/plain": "<IPython.core.display.HTML object>",
      "text/html": "Waiting for W&B process to finish... <strong style=\"color:green\">(success).</strong>"
     },
     "metadata": {}
    },
    {
     "output_type": "display_data",
     "data": {
      "text/plain": "<IPython.core.display.HTML object>",
      "text/html": " View run <strong style=\"color:#cdcd00\">train data</strong> at: <a href='https://wandb.ai/rodion-chernomordin/deep_learning_hw2/runs/d3pszw4f' target=\"_blank\">https://wandb.ai/rodion-chernomordin/deep_learning_hw2/runs/d3pszw4f</a><br/>Synced 5 W&B file(s), 2 media file(s), 2 artifact file(s) and 0 other file(s)"
     },
     "metadata": {}
    },
    {
     "output_type": "display_data",
     "data": {
      "text/plain": "<IPython.core.display.HTML object>",
      "text/html": "Find logs at: <code>./wandb/run-20231113_204301-d3pszw4f/logs</code>"
     },
     "metadata": {}
    },
    {
     "output_type": "display_data",
     "data": {
      "text/plain": "<IPython.core.display.HTML object>",
      "text/html": "Successfully finished last run (ID:d3pszw4f). Initializing new run:<br/>"
     },
     "metadata": {}
    },
    {
     "output_type": "display_data",
     "data": {
      "text/plain": "<IPython.core.display.HTML object>",
      "text/html": "wandb version 0.16.0 is available!  To upgrade, please run:\n $ pip install wandb --upgrade"
     },
     "metadata": {}
    },
    {
     "output_type": "display_data",
     "data": {
      "text/plain": "<IPython.core.display.HTML object>",
      "text/html": "Tracking run with wandb version 0.15.12"
     },
     "metadata": {}
    },
    {
     "output_type": "display_data",
     "data": {
      "text/plain": "<IPython.core.display.HTML object>",
      "text/html": "Run data is saved locally in <code>/kaggle/working/wandb/run-20231113_204339-myyvkc57</code>"
     },
     "metadata": {}
    },
    {
     "output_type": "display_data",
     "data": {
      "text/plain": "<IPython.core.display.HTML object>",
      "text/html": "Syncing run <strong><a href='https://wandb.ai/rodion-chernomordin/deep_learning_hw2/runs/myyvkc57' target=\"_blank\">val data</a></strong> to <a href='https://wandb.ai/rodion-chernomordin/deep_learning_hw2' target=\"_blank\">Weights & Biases</a> (<a href='https://wandb.me/run' target=\"_blank\">docs</a>)<br/>"
     },
     "metadata": {}
    },
    {
     "output_type": "display_data",
     "data": {
      "text/plain": "<IPython.core.display.HTML object>",
      "text/html": " View project at <a href='https://wandb.ai/rodion-chernomordin/deep_learning_hw2' target=\"_blank\">https://wandb.ai/rodion-chernomordin/deep_learning_hw2</a>"
     },
     "metadata": {}
    },
    {
     "output_type": "display_data",
     "data": {
      "text/plain": "<IPython.core.display.HTML object>",
      "text/html": " View run at <a href='https://wandb.ai/rodion-chernomordin/deep_learning_hw2/runs/myyvkc57' target=\"_blank\">https://wandb.ai/rodion-chernomordin/deep_learning_hw2/runs/myyvkc57</a>"
     },
     "metadata": {}
    },
    {
     "name": "stdout",
     "text": "Epoch 1\n train loss: 1.178549742349977, train acc: 0.5870086837294333\n val loss: 1.0720813809557164, val acc: 0.6242907801418439\n\n",
     "output_type": "stream"
    },
    {
     "output_type": "display_data",
     "data": {
      "text/plain": "<IPython.core.display.HTML object>",
      "text/html": "Finishing last run (ID:myyvkc57) before initializing another..."
     },
     "metadata": {}
    },
    {
     "output_type": "display_data",
     "data": {
      "text/plain": "<IPython.core.display.HTML object>",
      "text/html": "Waiting for W&B process to finish... <strong style=\"color:green\">(success).</strong>"
     },
     "metadata": {}
    },
    {
     "output_type": "display_data",
     "data": {
      "text/plain": "VBox(children=(Label(value='0.002 MB of 0.002 MB uploaded (0.000 MB deduped)\\r'), FloatProgress(value=1.0, max…",
      "application/vnd.jupyter.widget-view+json": {
       "version_major": 2,
       "version_minor": 0,
       "model_id": "ab3fd15659ec4a36ab14b0633e9866e6"
      }
     },
     "metadata": {}
    },
    {
     "output_type": "display_data",
     "data": {
      "text/plain": "<IPython.core.display.HTML object>",
      "text/html": " View run <strong style=\"color:#cdcd00\">val data</strong> at: <a href='https://wandb.ai/rodion-chernomordin/deep_learning_hw2/runs/myyvkc57' target=\"_blank\">https://wandb.ai/rodion-chernomordin/deep_learning_hw2/runs/myyvkc57</a><br/>Synced 6 W&B file(s), 2 media file(s), 2 artifact file(s) and 0 other file(s)"
     },
     "metadata": {}
    },
    {
     "output_type": "display_data",
     "data": {
      "text/plain": "<IPython.core.display.HTML object>",
      "text/html": "Find logs at: <code>./wandb/run-20231113_204339-myyvkc57/logs</code>"
     },
     "metadata": {}
    },
    {
     "output_type": "display_data",
     "data": {
      "text/plain": "<IPython.core.display.HTML object>",
      "text/html": "Successfully finished last run (ID:myyvkc57). Initializing new run:<br/>"
     },
     "metadata": {}
    },
    {
     "output_type": "display_data",
     "data": {
      "text/plain": "<IPython.core.display.HTML object>",
      "text/html": "wandb version 0.16.0 is available!  To upgrade, please run:\n $ pip install wandb --upgrade"
     },
     "metadata": {}
    },
    {
     "output_type": "display_data",
     "data": {
      "text/plain": "<IPython.core.display.HTML object>",
      "text/html": "Tracking run with wandb version 0.15.12"
     },
     "metadata": {}
    },
    {
     "output_type": "display_data",
     "data": {
      "text/plain": "<IPython.core.display.HTML object>",
      "text/html": "Run data is saved locally in <code>/kaggle/working/wandb/run-20231113_204538-ws03ldku</code>"
     },
     "metadata": {}
    },
    {
     "output_type": "display_data",
     "data": {
      "text/plain": "<IPython.core.display.HTML object>",
      "text/html": "Syncing run <strong><a href='https://wandb.ai/rodion-chernomordin/deep_learning_hw2/runs/ws03ldku' target=\"_blank\">train data</a></strong> to <a href='https://wandb.ai/rodion-chernomordin/deep_learning_hw2' target=\"_blank\">Weights & Biases</a> (<a href='https://wandb.me/run' target=\"_blank\">docs</a>)<br/>"
     },
     "metadata": {}
    },
    {
     "output_type": "display_data",
     "data": {
      "text/plain": "<IPython.core.display.HTML object>",
      "text/html": " View project at <a href='https://wandb.ai/rodion-chernomordin/deep_learning_hw2' target=\"_blank\">https://wandb.ai/rodion-chernomordin/deep_learning_hw2</a>"
     },
     "metadata": {}
    },
    {
     "output_type": "display_data",
     "data": {
      "text/plain": "<IPython.core.display.HTML object>",
      "text/html": " View run at <a href='https://wandb.ai/rodion-chernomordin/deep_learning_hw2/runs/ws03ldku' target=\"_blank\">https://wandb.ai/rodion-chernomordin/deep_learning_hw2/runs/ws03ldku</a>"
     },
     "metadata": {}
    },
    {
     "output_type": "display_data",
     "data": {
      "text/plain": "<IPython.core.display.HTML object>",
      "text/html": "Finishing last run (ID:ws03ldku) before initializing another..."
     },
     "metadata": {}
    },
    {
     "output_type": "display_data",
     "data": {
      "text/plain": "<IPython.core.display.HTML object>",
      "text/html": "Waiting for W&B process to finish... <strong style=\"color:green\">(success).</strong>"
     },
     "metadata": {}
    },
    {
     "output_type": "display_data",
     "data": {
      "text/plain": "<IPython.core.display.HTML object>",
      "text/html": " View run <strong style=\"color:#cdcd00\">train data</strong> at: <a href='https://wandb.ai/rodion-chernomordin/deep_learning_hw2/runs/ws03ldku' target=\"_blank\">https://wandb.ai/rodion-chernomordin/deep_learning_hw2/runs/ws03ldku</a><br/>Synced 5 W&B file(s), 2 media file(s), 2 artifact file(s) and 0 other file(s)"
     },
     "metadata": {}
    },
    {
     "output_type": "display_data",
     "data": {
      "text/plain": "<IPython.core.display.HTML object>",
      "text/html": "Find logs at: <code>./wandb/run-20231113_204538-ws03ldku/logs</code>"
     },
     "metadata": {}
    },
    {
     "output_type": "display_data",
     "data": {
      "text/plain": "<IPython.core.display.HTML object>",
      "text/html": "Successfully finished last run (ID:ws03ldku). Initializing new run:<br/>"
     },
     "metadata": {}
    },
    {
     "output_type": "display_data",
     "data": {
      "text/plain": "<IPython.core.display.HTML object>",
      "text/html": "wandb version 0.16.0 is available!  To upgrade, please run:\n $ pip install wandb --upgrade"
     },
     "metadata": {}
    },
    {
     "output_type": "display_data",
     "data": {
      "text/plain": "<IPython.core.display.HTML object>",
      "text/html": "Tracking run with wandb version 0.15.12"
     },
     "metadata": {}
    },
    {
     "output_type": "display_data",
     "data": {
      "text/plain": "<IPython.core.display.HTML object>",
      "text/html": "Run data is saved locally in <code>/kaggle/working/wandb/run-20231113_204617-ldaml0ll</code>"
     },
     "metadata": {}
    },
    {
     "output_type": "display_data",
     "data": {
      "text/plain": "<IPython.core.display.HTML object>",
      "text/html": "Syncing run <strong><a href='https://wandb.ai/rodion-chernomordin/deep_learning_hw2/runs/ldaml0ll' target=\"_blank\">val data</a></strong> to <a href='https://wandb.ai/rodion-chernomordin/deep_learning_hw2' target=\"_blank\">Weights & Biases</a> (<a href='https://wandb.me/run' target=\"_blank\">docs</a>)<br/>"
     },
     "metadata": {}
    },
    {
     "output_type": "display_data",
     "data": {
      "text/plain": "<IPython.core.display.HTML object>",
      "text/html": " View project at <a href='https://wandb.ai/rodion-chernomordin/deep_learning_hw2' target=\"_blank\">https://wandb.ai/rodion-chernomordin/deep_learning_hw2</a>"
     },
     "metadata": {}
    },
    {
     "output_type": "display_data",
     "data": {
      "text/plain": "<IPython.core.display.HTML object>",
      "text/html": " View run at <a href='https://wandb.ai/rodion-chernomordin/deep_learning_hw2/runs/ldaml0ll' target=\"_blank\">https://wandb.ai/rodion-chernomordin/deep_learning_hw2/runs/ldaml0ll</a>"
     },
     "metadata": {}
    },
    {
     "name": "stdout",
     "text": "Epoch 2\n train loss: 1.0498977635852598, train acc: 0.6358628231914338\n val loss: 1.0588956039002602, val acc: 0.6398714539007093\n\n",
     "output_type": "stream"
    },
    {
     "output_type": "display_data",
     "data": {
      "text/plain": "<IPython.core.display.HTML object>",
      "text/html": "Finishing last run (ID:ldaml0ll) before initializing another..."
     },
     "metadata": {}
    },
    {
     "output_type": "display_data",
     "data": {
      "text/plain": "<IPython.core.display.HTML object>",
      "text/html": "Waiting for W&B process to finish... <strong style=\"color:green\">(success).</strong>"
     },
     "metadata": {}
    },
    {
     "output_type": "display_data",
     "data": {
      "text/plain": "<IPython.core.display.HTML object>",
      "text/html": " View run <strong style=\"color:#cdcd00\">val data</strong> at: <a href='https://wandb.ai/rodion-chernomordin/deep_learning_hw2/runs/ldaml0ll' target=\"_blank\">https://wandb.ai/rodion-chernomordin/deep_learning_hw2/runs/ldaml0ll</a><br/>Synced 6 W&B file(s), 2 media file(s), 2 artifact file(s) and 0 other file(s)"
     },
     "metadata": {}
    },
    {
     "output_type": "display_data",
     "data": {
      "text/plain": "<IPython.core.display.HTML object>",
      "text/html": "Find logs at: <code>./wandb/run-20231113_204617-ldaml0ll/logs</code>"
     },
     "metadata": {}
    },
    {
     "output_type": "display_data",
     "data": {
      "text/plain": "<IPython.core.display.HTML object>",
      "text/html": "Successfully finished last run (ID:ldaml0ll). Initializing new run:<br/>"
     },
     "metadata": {}
    },
    {
     "output_type": "display_data",
     "data": {
      "text/plain": "<IPython.core.display.HTML object>",
      "text/html": "wandb version 0.16.0 is available!  To upgrade, please run:\n $ pip install wandb --upgrade"
     },
     "metadata": {}
    },
    {
     "output_type": "display_data",
     "data": {
      "text/plain": "<IPython.core.display.HTML object>",
      "text/html": "Tracking run with wandb version 0.15.12"
     },
     "metadata": {}
    },
    {
     "output_type": "display_data",
     "data": {
      "text/plain": "<IPython.core.display.HTML object>",
      "text/html": "Run data is saved locally in <code>/kaggle/working/wandb/run-20231113_204809-2aujawo7</code>"
     },
     "metadata": {}
    },
    {
     "output_type": "display_data",
     "data": {
      "text/plain": "<IPython.core.display.HTML object>",
      "text/html": "Syncing run <strong><a href='https://wandb.ai/rodion-chernomordin/deep_learning_hw2/runs/2aujawo7' target=\"_blank\">train data</a></strong> to <a href='https://wandb.ai/rodion-chernomordin/deep_learning_hw2' target=\"_blank\">Weights & Biases</a> (<a href='https://wandb.me/run' target=\"_blank\">docs</a>)<br/>"
     },
     "metadata": {}
    },
    {
     "output_type": "display_data",
     "data": {
      "text/plain": "<IPython.core.display.HTML object>",
      "text/html": " View project at <a href='https://wandb.ai/rodion-chernomordin/deep_learning_hw2' target=\"_blank\">https://wandb.ai/rodion-chernomordin/deep_learning_hw2</a>"
     },
     "metadata": {}
    },
    {
     "output_type": "display_data",
     "data": {
      "text/plain": "<IPython.core.display.HTML object>",
      "text/html": " View run at <a href='https://wandb.ai/rodion-chernomordin/deep_learning_hw2/runs/2aujawo7' target=\"_blank\">https://wandb.ai/rodion-chernomordin/deep_learning_hw2/runs/2aujawo7</a>"
     },
     "metadata": {}
    },
    {
     "output_type": "display_data",
     "data": {
      "text/plain": "<IPython.core.display.HTML object>",
      "text/html": "Finishing last run (ID:2aujawo7) before initializing another..."
     },
     "metadata": {}
    },
    {
     "output_type": "display_data",
     "data": {
      "text/plain": "<IPython.core.display.HTML object>",
      "text/html": "Waiting for W&B process to finish... <strong style=\"color:green\">(success).</strong>"
     },
     "metadata": {}
    },
    {
     "output_type": "display_data",
     "data": {
      "text/plain": "<IPython.core.display.HTML object>",
      "text/html": " View run <strong style=\"color:#cdcd00\">train data</strong> at: <a href='https://wandb.ai/rodion-chernomordin/deep_learning_hw2/runs/2aujawo7' target=\"_blank\">https://wandb.ai/rodion-chernomordin/deep_learning_hw2/runs/2aujawo7</a><br/>Synced 5 W&B file(s), 2 media file(s), 2 artifact file(s) and 0 other file(s)"
     },
     "metadata": {}
    },
    {
     "output_type": "display_data",
     "data": {
      "text/plain": "<IPython.core.display.HTML object>",
      "text/html": "Find logs at: <code>./wandb/run-20231113_204809-2aujawo7/logs</code>"
     },
     "metadata": {}
    },
    {
     "output_type": "display_data",
     "data": {
      "text/plain": "<IPython.core.display.HTML object>",
      "text/html": "Successfully finished last run (ID:2aujawo7). Initializing new run:<br/>"
     },
     "metadata": {}
    },
    {
     "output_type": "display_data",
     "data": {
      "text/plain": "<IPython.core.display.HTML object>",
      "text/html": "wandb version 0.16.0 is available!  To upgrade, please run:\n $ pip install wandb --upgrade"
     },
     "metadata": {}
    },
    {
     "output_type": "display_data",
     "data": {
      "text/plain": "<IPython.core.display.HTML object>",
      "text/html": "Tracking run with wandb version 0.15.12"
     },
     "metadata": {}
    },
    {
     "output_type": "display_data",
     "data": {
      "text/plain": "<IPython.core.display.HTML object>",
      "text/html": "Run data is saved locally in <code>/kaggle/working/wandb/run-20231113_204848-z9ddc6uh</code>"
     },
     "metadata": {}
    },
    {
     "output_type": "display_data",
     "data": {
      "text/plain": "<IPython.core.display.HTML object>",
      "text/html": "Syncing run <strong><a href='https://wandb.ai/rodion-chernomordin/deep_learning_hw2/runs/z9ddc6uh' target=\"_blank\">val data</a></strong> to <a href='https://wandb.ai/rodion-chernomordin/deep_learning_hw2' target=\"_blank\">Weights & Biases</a> (<a href='https://wandb.me/run' target=\"_blank\">docs</a>)<br/>"
     },
     "metadata": {}
    },
    {
     "output_type": "display_data",
     "data": {
      "text/plain": "<IPython.core.display.HTML object>",
      "text/html": " View project at <a href='https://wandb.ai/rodion-chernomordin/deep_learning_hw2' target=\"_blank\">https://wandb.ai/rodion-chernomordin/deep_learning_hw2</a>"
     },
     "metadata": {}
    },
    {
     "output_type": "display_data",
     "data": {
      "text/plain": "<IPython.core.display.HTML object>",
      "text/html": " View run at <a href='https://wandb.ai/rodion-chernomordin/deep_learning_hw2/runs/z9ddc6uh' target=\"_blank\">https://wandb.ai/rodion-chernomordin/deep_learning_hw2/runs/z9ddc6uh</a>"
     },
     "metadata": {}
    },
    {
     "name": "stdout",
     "text": "Epoch 3\n train loss: 0.985169184491229, train acc: 0.6567845716897363\n val loss: 0.9785668903208794, val acc: 0.6589317375886524\n\n",
     "output_type": "stream"
    },
    {
     "output_type": "display_data",
     "data": {
      "text/plain": "<IPython.core.display.HTML object>",
      "text/html": "Finishing last run (ID:z9ddc6uh) before initializing another..."
     },
     "metadata": {}
    },
    {
     "output_type": "display_data",
     "data": {
      "text/plain": "<IPython.core.display.HTML object>",
      "text/html": "Waiting for W&B process to finish... <strong style=\"color:green\">(success).</strong>"
     },
     "metadata": {}
    },
    {
     "output_type": "display_data",
     "data": {
      "text/plain": "VBox(children=(Label(value='0.002 MB of 0.002 MB uploaded (0.000 MB deduped)\\r'), FloatProgress(value=1.0, max…",
      "application/vnd.jupyter.widget-view+json": {
       "version_major": 2,
       "version_minor": 0,
       "model_id": "45b1a4127b25474db74ce35af6663066"
      }
     },
     "metadata": {}
    },
    {
     "output_type": "display_data",
     "data": {
      "text/plain": "<IPython.core.display.HTML object>",
      "text/html": " View run <strong style=\"color:#cdcd00\">val data</strong> at: <a href='https://wandb.ai/rodion-chernomordin/deep_learning_hw2/runs/z9ddc6uh' target=\"_blank\">https://wandb.ai/rodion-chernomordin/deep_learning_hw2/runs/z9ddc6uh</a><br/>Synced 6 W&B file(s), 2 media file(s), 2 artifact file(s) and 0 other file(s)"
     },
     "metadata": {}
    },
    {
     "output_type": "display_data",
     "data": {
      "text/plain": "<IPython.core.display.HTML object>",
      "text/html": "Find logs at: <code>./wandb/run-20231113_204848-z9ddc6uh/logs</code>"
     },
     "metadata": {}
    },
    {
     "output_type": "display_data",
     "data": {
      "text/plain": "<IPython.core.display.HTML object>",
      "text/html": "Successfully finished last run (ID:z9ddc6uh). Initializing new run:<br/>"
     },
     "metadata": {}
    },
    {
     "output_type": "display_data",
     "data": {
      "text/plain": "<IPython.core.display.HTML object>",
      "text/html": "wandb version 0.16.0 is available!  To upgrade, please run:\n $ pip install wandb --upgrade"
     },
     "metadata": {}
    },
    {
     "output_type": "display_data",
     "data": {
      "text/plain": "<IPython.core.display.HTML object>",
      "text/html": "Tracking run with wandb version 0.15.12"
     },
     "metadata": {}
    },
    {
     "output_type": "display_data",
     "data": {
      "text/plain": "<IPython.core.display.HTML object>",
      "text/html": "Run data is saved locally in <code>/kaggle/working/wandb/run-20231113_205043-whclx7m1</code>"
     },
     "metadata": {}
    },
    {
     "output_type": "display_data",
     "data": {
      "text/plain": "<IPython.core.display.HTML object>",
      "text/html": "Syncing run <strong><a href='https://wandb.ai/rodion-chernomordin/deep_learning_hw2/runs/whclx7m1' target=\"_blank\">train data</a></strong> to <a href='https://wandb.ai/rodion-chernomordin/deep_learning_hw2' target=\"_blank\">Weights & Biases</a> (<a href='https://wandb.me/run' target=\"_blank\">docs</a>)<br/>"
     },
     "metadata": {}
    },
    {
     "output_type": "display_data",
     "data": {
      "text/plain": "<IPython.core.display.HTML object>",
      "text/html": " View project at <a href='https://wandb.ai/rodion-chernomordin/deep_learning_hw2' target=\"_blank\">https://wandb.ai/rodion-chernomordin/deep_learning_hw2</a>"
     },
     "metadata": {}
    },
    {
     "output_type": "display_data",
     "data": {
      "text/plain": "<IPython.core.display.HTML object>",
      "text/html": " View run at <a href='https://wandb.ai/rodion-chernomordin/deep_learning_hw2/runs/whclx7m1' target=\"_blank\">https://wandb.ai/rodion-chernomordin/deep_learning_hw2/runs/whclx7m1</a>"
     },
     "metadata": {}
    },
    {
     "output_type": "display_data",
     "data": {
      "text/plain": "<IPython.core.display.HTML object>",
      "text/html": "Finishing last run (ID:whclx7m1) before initializing another..."
     },
     "metadata": {}
    },
    {
     "output_type": "display_data",
     "data": {
      "text/plain": "<IPython.core.display.HTML object>",
      "text/html": "Waiting for W&B process to finish... <strong style=\"color:green\">(success).</strong>"
     },
     "metadata": {}
    },
    {
     "output_type": "display_data",
     "data": {
      "text/plain": "<IPython.core.display.HTML object>",
      "text/html": " View run <strong style=\"color:#cdcd00\">train data</strong> at: <a href='https://wandb.ai/rodion-chernomordin/deep_learning_hw2/runs/whclx7m1' target=\"_blank\">https://wandb.ai/rodion-chernomordin/deep_learning_hw2/runs/whclx7m1</a><br/>Synced 5 W&B file(s), 2 media file(s), 2 artifact file(s) and 0 other file(s)"
     },
     "metadata": {}
    },
    {
     "output_type": "display_data",
     "data": {
      "text/plain": "<IPython.core.display.HTML object>",
      "text/html": "Find logs at: <code>./wandb/run-20231113_205043-whclx7m1/logs</code>"
     },
     "metadata": {}
    },
    {
     "output_type": "display_data",
     "data": {
      "text/plain": "<IPython.core.display.HTML object>",
      "text/html": "Successfully finished last run (ID:whclx7m1). Initializing new run:<br/>"
     },
     "metadata": {}
    },
    {
     "output_type": "display_data",
     "data": {
      "text/plain": "<IPython.core.display.HTML object>",
      "text/html": "wandb version 0.16.0 is available!  To upgrade, please run:\n $ pip install wandb --upgrade"
     },
     "metadata": {}
    },
    {
     "output_type": "display_data",
     "data": {
      "text/plain": "<IPython.core.display.HTML object>",
      "text/html": "Tracking run with wandb version 0.15.12"
     },
     "metadata": {}
    },
    {
     "output_type": "display_data",
     "data": {
      "text/plain": "<IPython.core.display.HTML object>",
      "text/html": "Run data is saved locally in <code>/kaggle/working/wandb/run-20231113_205122-j7eklwag</code>"
     },
     "metadata": {}
    },
    {
     "output_type": "display_data",
     "data": {
      "text/plain": "<IPython.core.display.HTML object>",
      "text/html": "Syncing run <strong><a href='https://wandb.ai/rodion-chernomordin/deep_learning_hw2/runs/j7eklwag' target=\"_blank\">val data</a></strong> to <a href='https://wandb.ai/rodion-chernomordin/deep_learning_hw2' target=\"_blank\">Weights & Biases</a> (<a href='https://wandb.me/run' target=\"_blank\">docs</a>)<br/>"
     },
     "metadata": {}
    },
    {
     "output_type": "display_data",
     "data": {
      "text/plain": "<IPython.core.display.HTML object>",
      "text/html": " View project at <a href='https://wandb.ai/rodion-chernomordin/deep_learning_hw2' target=\"_blank\">https://wandb.ai/rodion-chernomordin/deep_learning_hw2</a>"
     },
     "metadata": {}
    },
    {
     "output_type": "display_data",
     "data": {
      "text/plain": "<IPython.core.display.HTML object>",
      "text/html": " View run at <a href='https://wandb.ai/rodion-chernomordin/deep_learning_hw2/runs/j7eklwag' target=\"_blank\">https://wandb.ai/rodion-chernomordin/deep_learning_hw2/runs/j7eklwag</a>"
     },
     "metadata": {}
    },
    {
     "name": "stdout",
     "text": "Epoch 4\n train loss: 0.944308423037067, train acc: 0.6704508357273439\n val loss: 1.0205429995313604, val acc: 0.6436835106382979\n\n",
     "output_type": "stream"
    },
    {
     "output_type": "display_data",
     "data": {
      "text/plain": "<IPython.core.display.HTML object>",
      "text/html": "Finishing last run (ID:j7eklwag) before initializing another..."
     },
     "metadata": {}
    },
    {
     "output_type": "display_data",
     "data": {
      "text/plain": "<IPython.core.display.HTML object>",
      "text/html": "Waiting for W&B process to finish... <strong style=\"color:green\">(success).</strong>"
     },
     "metadata": {}
    },
    {
     "output_type": "display_data",
     "data": {
      "text/plain": "<IPython.core.display.HTML object>",
      "text/html": " View run <strong style=\"color:#cdcd00\">val data</strong> at: <a href='https://wandb.ai/rodion-chernomordin/deep_learning_hw2/runs/j7eklwag' target=\"_blank\">https://wandb.ai/rodion-chernomordin/deep_learning_hw2/runs/j7eklwag</a><br/>Synced 6 W&B file(s), 2 media file(s), 2 artifact file(s) and 0 other file(s)"
     },
     "metadata": {}
    },
    {
     "output_type": "display_data",
     "data": {
      "text/plain": "<IPython.core.display.HTML object>",
      "text/html": "Find logs at: <code>./wandb/run-20231113_205122-j7eklwag/logs</code>"
     },
     "metadata": {}
    },
    {
     "output_type": "display_data",
     "data": {
      "text/plain": "<IPython.core.display.HTML object>",
      "text/html": "Successfully finished last run (ID:j7eklwag). Initializing new run:<br/>"
     },
     "metadata": {}
    },
    {
     "output_type": "display_data",
     "data": {
      "text/plain": "VBox(children=(Label(value='Waiting for wandb.init()...\\r'), FloatProgress(value=0.011113498288889585, max=1.0…",
      "application/vnd.jupyter.widget-view+json": {
       "version_major": 2,
       "version_minor": 0,
       "model_id": "c9d8d92c79a548a18fdc6543b0e639ee"
      }
     },
     "metadata": {}
    },
    {
     "output_type": "display_data",
     "data": {
      "text/plain": "<IPython.core.display.HTML object>",
      "text/html": "wandb version 0.16.0 is available!  To upgrade, please run:\n $ pip install wandb --upgrade"
     },
     "metadata": {}
    },
    {
     "output_type": "display_data",
     "data": {
      "text/plain": "<IPython.core.display.HTML object>",
      "text/html": "Tracking run with wandb version 0.15.12"
     },
     "metadata": {}
    },
    {
     "output_type": "display_data",
     "data": {
      "text/plain": "<IPython.core.display.HTML object>",
      "text/html": "Run data is saved locally in <code>/kaggle/working/wandb/run-20231113_205317-bznppn1s</code>"
     },
     "metadata": {}
    },
    {
     "output_type": "display_data",
     "data": {
      "text/plain": "<IPython.core.display.HTML object>",
      "text/html": "Syncing run <strong><a href='https://wandb.ai/rodion-chernomordin/deep_learning_hw2/runs/bznppn1s' target=\"_blank\">train data</a></strong> to <a href='https://wandb.ai/rodion-chernomordin/deep_learning_hw2' target=\"_blank\">Weights & Biases</a> (<a href='https://wandb.me/run' target=\"_blank\">docs</a>)<br/>"
     },
     "metadata": {}
    },
    {
     "output_type": "display_data",
     "data": {
      "text/plain": "<IPython.core.display.HTML object>",
      "text/html": " View project at <a href='https://wandb.ai/rodion-chernomordin/deep_learning_hw2' target=\"_blank\">https://wandb.ai/rodion-chernomordin/deep_learning_hw2</a>"
     },
     "metadata": {}
    },
    {
     "output_type": "display_data",
     "data": {
      "text/plain": "<IPython.core.display.HTML object>",
      "text/html": " View run at <a href='https://wandb.ai/rodion-chernomordin/deep_learning_hw2/runs/bznppn1s' target=\"_blank\">https://wandb.ai/rodion-chernomordin/deep_learning_hw2/runs/bznppn1s</a>"
     },
     "metadata": {}
    },
    {
     "output_type": "display_data",
     "data": {
      "text/plain": "<IPython.core.display.HTML object>",
      "text/html": "Finishing last run (ID:bznppn1s) before initializing another..."
     },
     "metadata": {}
    },
    {
     "output_type": "display_data",
     "data": {
      "text/plain": "<IPython.core.display.HTML object>",
      "text/html": "Waiting for W&B process to finish... <strong style=\"color:green\">(success).</strong>"
     },
     "metadata": {}
    },
    {
     "output_type": "display_data",
     "data": {
      "text/plain": "<IPython.core.display.HTML object>",
      "text/html": " View run <strong style=\"color:#cdcd00\">train data</strong> at: <a href='https://wandb.ai/rodion-chernomordin/deep_learning_hw2/runs/bznppn1s' target=\"_blank\">https://wandb.ai/rodion-chernomordin/deep_learning_hw2/runs/bznppn1s</a><br/>Synced 5 W&B file(s), 2 media file(s), 2 artifact file(s) and 0 other file(s)"
     },
     "metadata": {}
    },
    {
     "output_type": "display_data",
     "data": {
      "text/plain": "<IPython.core.display.HTML object>",
      "text/html": "Find logs at: <code>./wandb/run-20231113_205317-bznppn1s/logs</code>"
     },
     "metadata": {}
    },
    {
     "output_type": "display_data",
     "data": {
      "text/plain": "<IPython.core.display.HTML object>",
      "text/html": "Successfully finished last run (ID:bznppn1s). Initializing new run:<br/>"
     },
     "metadata": {}
    },
    {
     "output_type": "display_data",
     "data": {
      "text/plain": "VBox(children=(Label(value='Waiting for wandb.init()...\\r'), FloatProgress(value=0.011113499411110044, max=1.0…",
      "application/vnd.jupyter.widget-view+json": {
       "version_major": 2,
       "version_minor": 0,
       "model_id": "aaaa589177e74141998010df09609f4a"
      }
     },
     "metadata": {}
    },
    {
     "output_type": "display_data",
     "data": {
      "text/plain": "<IPython.core.display.HTML object>",
      "text/html": "wandb version 0.16.0 is available!  To upgrade, please run:\n $ pip install wandb --upgrade"
     },
     "metadata": {}
    },
    {
     "output_type": "display_data",
     "data": {
      "text/plain": "<IPython.core.display.HTML object>",
      "text/html": "Tracking run with wandb version 0.15.12"
     },
     "metadata": {}
    },
    {
     "output_type": "display_data",
     "data": {
      "text/plain": "<IPython.core.display.HTML object>",
      "text/html": "Run data is saved locally in <code>/kaggle/working/wandb/run-20231113_205358-yfq1o0sh</code>"
     },
     "metadata": {}
    },
    {
     "output_type": "display_data",
     "data": {
      "text/plain": "<IPython.core.display.HTML object>",
      "text/html": "Syncing run <strong><a href='https://wandb.ai/rodion-chernomordin/deep_learning_hw2/runs/yfq1o0sh' target=\"_blank\">val data</a></strong> to <a href='https://wandb.ai/rodion-chernomordin/deep_learning_hw2' target=\"_blank\">Weights & Biases</a> (<a href='https://wandb.me/run' target=\"_blank\">docs</a>)<br/>"
     },
     "metadata": {}
    },
    {
     "output_type": "display_data",
     "data": {
      "text/plain": "<IPython.core.display.HTML object>",
      "text/html": " View project at <a href='https://wandb.ai/rodion-chernomordin/deep_learning_hw2' target=\"_blank\">https://wandb.ai/rodion-chernomordin/deep_learning_hw2</a>"
     },
     "metadata": {}
    },
    {
     "output_type": "display_data",
     "data": {
      "text/plain": "<IPython.core.display.HTML object>",
      "text/html": " View run at <a href='https://wandb.ai/rodion-chernomordin/deep_learning_hw2/runs/yfq1o0sh' target=\"_blank\">https://wandb.ai/rodion-chernomordin/deep_learning_hw2/runs/yfq1o0sh</a>"
     },
     "metadata": {}
    },
    {
     "name": "stdout",
     "text": "Epoch 5\n train loss: 0.910411091347717, train acc: 0.6844313136589187\n val loss: 0.9784471182112998, val acc: 0.6599734042553191\n\n",
     "output_type": "stream"
    },
    {
     "output_type": "display_data",
     "data": {
      "text/plain": "<IPython.core.display.HTML object>",
      "text/html": "Finishing last run (ID:yfq1o0sh) before initializing another..."
     },
     "metadata": {}
    },
    {
     "output_type": "display_data",
     "data": {
      "text/plain": "<IPython.core.display.HTML object>",
      "text/html": "Waiting for W&B process to finish... <strong style=\"color:green\">(success).</strong>"
     },
     "metadata": {}
    },
    {
     "output_type": "display_data",
     "data": {
      "text/plain": "VBox(children=(Label(value='0.003 MB of 0.003 MB uploaded (0.000 MB deduped)\\r'), FloatProgress(value=1.0, max…",
      "application/vnd.jupyter.widget-view+json": {
       "version_major": 2,
       "version_minor": 0,
       "model_id": "bc8ce69117954900b9a77820618a4d2d"
      }
     },
     "metadata": {}
    },
    {
     "output_type": "display_data",
     "data": {
      "text/plain": "<IPython.core.display.HTML object>",
      "text/html": " View run <strong style=\"color:#cdcd00\">val data</strong> at: <a href='https://wandb.ai/rodion-chernomordin/deep_learning_hw2/runs/yfq1o0sh' target=\"_blank\">https://wandb.ai/rodion-chernomordin/deep_learning_hw2/runs/yfq1o0sh</a><br/>Synced 6 W&B file(s), 2 media file(s), 2 artifact file(s) and 0 other file(s)"
     },
     "metadata": {}
    },
    {
     "output_type": "display_data",
     "data": {
      "text/plain": "<IPython.core.display.HTML object>",
      "text/html": "Find logs at: <code>./wandb/run-20231113_205358-yfq1o0sh/logs</code>"
     },
     "metadata": {}
    },
    {
     "output_type": "display_data",
     "data": {
      "text/plain": "<IPython.core.display.HTML object>",
      "text/html": "Successfully finished last run (ID:yfq1o0sh). Initializing new run:<br/>"
     },
     "metadata": {}
    },
    {
     "output_type": "display_data",
     "data": {
      "text/plain": "<IPython.core.display.HTML object>",
      "text/html": "wandb version 0.16.0 is available!  To upgrade, please run:\n $ pip install wandb --upgrade"
     },
     "metadata": {}
    },
    {
     "output_type": "display_data",
     "data": {
      "text/plain": "<IPython.core.display.HTML object>",
      "text/html": "Tracking run with wandb version 0.15.12"
     },
     "metadata": {}
    },
    {
     "output_type": "display_data",
     "data": {
      "text/plain": "<IPython.core.display.HTML object>",
      "text/html": "Run data is saved locally in <code>/kaggle/working/wandb/run-20231113_205554-u7wmtkh6</code>"
     },
     "metadata": {}
    },
    {
     "output_type": "display_data",
     "data": {
      "text/plain": "<IPython.core.display.HTML object>",
      "text/html": "Syncing run <strong><a href='https://wandb.ai/rodion-chernomordin/deep_learning_hw2/runs/u7wmtkh6' target=\"_blank\">train data</a></strong> to <a href='https://wandb.ai/rodion-chernomordin/deep_learning_hw2' target=\"_blank\">Weights & Biases</a> (<a href='https://wandb.me/run' target=\"_blank\">docs</a>)<br/>"
     },
     "metadata": {}
    },
    {
     "output_type": "display_data",
     "data": {
      "text/plain": "<IPython.core.display.HTML object>",
      "text/html": " View project at <a href='https://wandb.ai/rodion-chernomordin/deep_learning_hw2' target=\"_blank\">https://wandb.ai/rodion-chernomordin/deep_learning_hw2</a>"
     },
     "metadata": {}
    },
    {
     "output_type": "display_data",
     "data": {
      "text/plain": "<IPython.core.display.HTML object>",
      "text/html": " View run at <a href='https://wandb.ai/rodion-chernomordin/deep_learning_hw2/runs/u7wmtkh6' target=\"_blank\">https://wandb.ai/rodion-chernomordin/deep_learning_hw2/runs/u7wmtkh6</a>"
     },
     "metadata": {}
    },
    {
     "output_type": "display_data",
     "data": {
      "text/plain": "<IPython.core.display.HTML object>",
      "text/html": "Finishing last run (ID:u7wmtkh6) before initializing another..."
     },
     "metadata": {}
    },
    {
     "output_type": "display_data",
     "data": {
      "text/plain": "<IPython.core.display.HTML object>",
      "text/html": "Waiting for W&B process to finish... <strong style=\"color:green\">(success).</strong>"
     },
     "metadata": {}
    },
    {
     "output_type": "display_data",
     "data": {
      "text/plain": "<IPython.core.display.HTML object>",
      "text/html": " View run <strong style=\"color:#cdcd00\">train data</strong> at: <a href='https://wandb.ai/rodion-chernomordin/deep_learning_hw2/runs/u7wmtkh6' target=\"_blank\">https://wandb.ai/rodion-chernomordin/deep_learning_hw2/runs/u7wmtkh6</a><br/>Synced 5 W&B file(s), 2 media file(s), 2 artifact file(s) and 0 other file(s)"
     },
     "metadata": {}
    },
    {
     "output_type": "display_data",
     "data": {
      "text/plain": "<IPython.core.display.HTML object>",
      "text/html": "Find logs at: <code>./wandb/run-20231113_205554-u7wmtkh6/logs</code>"
     },
     "metadata": {}
    },
    {
     "output_type": "display_data",
     "data": {
      "text/plain": "<IPython.core.display.HTML object>",
      "text/html": "Successfully finished last run (ID:u7wmtkh6). Initializing new run:<br/>"
     },
     "metadata": {}
    },
    {
     "output_type": "display_data",
     "data": {
      "text/plain": "<IPython.core.display.HTML object>",
      "text/html": "wandb version 0.16.0 is available!  To upgrade, please run:\n $ pip install wandb --upgrade"
     },
     "metadata": {}
    },
    {
     "output_type": "display_data",
     "data": {
      "text/plain": "<IPython.core.display.HTML object>",
      "text/html": "Tracking run with wandb version 0.15.12"
     },
     "metadata": {}
    },
    {
     "output_type": "display_data",
     "data": {
      "text/plain": "<IPython.core.display.HTML object>",
      "text/html": "Run data is saved locally in <code>/kaggle/working/wandb/run-20231113_205633-d34nx8gg</code>"
     },
     "metadata": {}
    },
    {
     "output_type": "display_data",
     "data": {
      "text/plain": "<IPython.core.display.HTML object>",
      "text/html": "Syncing run <strong><a href='https://wandb.ai/rodion-chernomordin/deep_learning_hw2/runs/d34nx8gg' target=\"_blank\">val data</a></strong> to <a href='https://wandb.ai/rodion-chernomordin/deep_learning_hw2' target=\"_blank\">Weights & Biases</a> (<a href='https://wandb.me/run' target=\"_blank\">docs</a>)<br/>"
     },
     "metadata": {}
    },
    {
     "output_type": "display_data",
     "data": {
      "text/plain": "<IPython.core.display.HTML object>",
      "text/html": " View project at <a href='https://wandb.ai/rodion-chernomordin/deep_learning_hw2' target=\"_blank\">https://wandb.ai/rodion-chernomordin/deep_learning_hw2</a>"
     },
     "metadata": {}
    },
    {
     "output_type": "display_data",
     "data": {
      "text/plain": "<IPython.core.display.HTML object>",
      "text/html": " View run at <a href='https://wandb.ai/rodion-chernomordin/deep_learning_hw2/runs/d34nx8gg' target=\"_blank\">https://wandb.ai/rodion-chernomordin/deep_learning_hw2/runs/d34nx8gg</a>"
     },
     "metadata": {}
    },
    {
     "name": "stdout",
     "text": "Epoch 6\n train loss: 0.891938387693827, train acc: 0.6893444763645861\n val loss: 1.0207191528157984, val acc: 0.6408466312056736\n\n",
     "output_type": "stream"
    },
    {
     "output_type": "display_data",
     "data": {
      "text/plain": "<IPython.core.display.HTML object>",
      "text/html": "Finishing last run (ID:d34nx8gg) before initializing another..."
     },
     "metadata": {}
    },
    {
     "output_type": "display_data",
     "data": {
      "text/plain": "<IPython.core.display.HTML object>",
      "text/html": "Waiting for W&B process to finish... <strong style=\"color:green\">(success).</strong>"
     },
     "metadata": {}
    },
    {
     "output_type": "display_data",
     "data": {
      "text/plain": "VBox(children=(Label(value='0.003 MB of 0.003 MB uploaded (0.000 MB deduped)\\r'), FloatProgress(value=1.0, max…",
      "application/vnd.jupyter.widget-view+json": {
       "version_major": 2,
       "version_minor": 0,
       "model_id": "1d560e6dd9f441d0b3ed9be7482ced8d"
      }
     },
     "metadata": {}
    },
    {
     "output_type": "display_data",
     "data": {
      "text/plain": "<IPython.core.display.HTML object>",
      "text/html": " View run <strong style=\"color:#cdcd00\">val data</strong> at: <a href='https://wandb.ai/rodion-chernomordin/deep_learning_hw2/runs/d34nx8gg' target=\"_blank\">https://wandb.ai/rodion-chernomordin/deep_learning_hw2/runs/d34nx8gg</a><br/>Synced 6 W&B file(s), 2 media file(s), 2 artifact file(s) and 0 other file(s)"
     },
     "metadata": {}
    },
    {
     "output_type": "display_data",
     "data": {
      "text/plain": "<IPython.core.display.HTML object>",
      "text/html": "Find logs at: <code>./wandb/run-20231113_205633-d34nx8gg/logs</code>"
     },
     "metadata": {}
    },
    {
     "output_type": "display_data",
     "data": {
      "text/plain": "<IPython.core.display.HTML object>",
      "text/html": "Successfully finished last run (ID:d34nx8gg). Initializing new run:<br/>"
     },
     "metadata": {}
    },
    {
     "output_type": "display_data",
     "data": {
      "text/plain": "<IPython.core.display.HTML object>",
      "text/html": "wandb version 0.16.0 is available!  To upgrade, please run:\n $ pip install wandb --upgrade"
     },
     "metadata": {}
    },
    {
     "output_type": "display_data",
     "data": {
      "text/plain": "<IPython.core.display.HTML object>",
      "text/html": "Tracking run with wandb version 0.15.12"
     },
     "metadata": {}
    },
    {
     "output_type": "display_data",
     "data": {
      "text/plain": "<IPython.core.display.HTML object>",
      "text/html": "Run data is saved locally in <code>/kaggle/working/wandb/run-20231113_205840-x7b6hgqy</code>"
     },
     "metadata": {}
    },
    {
     "output_type": "display_data",
     "data": {
      "text/plain": "<IPython.core.display.HTML object>",
      "text/html": "Syncing run <strong><a href='https://wandb.ai/rodion-chernomordin/deep_learning_hw2/runs/x7b6hgqy' target=\"_blank\">train data</a></strong> to <a href='https://wandb.ai/rodion-chernomordin/deep_learning_hw2' target=\"_blank\">Weights & Biases</a> (<a href='https://wandb.me/run' target=\"_blank\">docs</a>)<br/>"
     },
     "metadata": {}
    },
    {
     "output_type": "display_data",
     "data": {
      "text/plain": "<IPython.core.display.HTML object>",
      "text/html": " View project at <a href='https://wandb.ai/rodion-chernomordin/deep_learning_hw2' target=\"_blank\">https://wandb.ai/rodion-chernomordin/deep_learning_hw2</a>"
     },
     "metadata": {}
    },
    {
     "output_type": "display_data",
     "data": {
      "text/plain": "<IPython.core.display.HTML object>",
      "text/html": " View run at <a href='https://wandb.ai/rodion-chernomordin/deep_learning_hw2/runs/x7b6hgqy' target=\"_blank\">https://wandb.ai/rodion-chernomordin/deep_learning_hw2/runs/x7b6hgqy</a>"
     },
     "metadata": {}
    },
    {
     "output_type": "display_data",
     "data": {
      "text/plain": "<IPython.core.display.HTML object>",
      "text/html": "Finishing last run (ID:x7b6hgqy) before initializing another..."
     },
     "metadata": {}
    },
    {
     "output_type": "display_data",
     "data": {
      "text/plain": "<IPython.core.display.HTML object>",
      "text/html": "Waiting for W&B process to finish... <strong style=\"color:green\">(success).</strong>"
     },
     "metadata": {}
    },
    {
     "output_type": "display_data",
     "data": {
      "text/plain": "<IPython.core.display.HTML object>",
      "text/html": " View run <strong style=\"color:#cdcd00\">train data</strong> at: <a href='https://wandb.ai/rodion-chernomordin/deep_learning_hw2/runs/x7b6hgqy' target=\"_blank\">https://wandb.ai/rodion-chernomordin/deep_learning_hw2/runs/x7b6hgqy</a><br/>Synced 5 W&B file(s), 2 media file(s), 2 artifact file(s) and 0 other file(s)"
     },
     "metadata": {}
    },
    {
     "output_type": "display_data",
     "data": {
      "text/plain": "<IPython.core.display.HTML object>",
      "text/html": "Find logs at: <code>./wandb/run-20231113_205840-x7b6hgqy/logs</code>"
     },
     "metadata": {}
    },
    {
     "output_type": "display_data",
     "data": {
      "text/plain": "<IPython.core.display.HTML object>",
      "text/html": "Successfully finished last run (ID:x7b6hgqy). Initializing new run:<br/>"
     },
     "metadata": {}
    },
    {
     "output_type": "display_data",
     "data": {
      "text/plain": "<IPython.core.display.HTML object>",
      "text/html": "wandb version 0.16.0 is available!  To upgrade, please run:\n $ pip install wandb --upgrade"
     },
     "metadata": {}
    },
    {
     "output_type": "display_data",
     "data": {
      "text/plain": "<IPython.core.display.HTML object>",
      "text/html": "Tracking run with wandb version 0.15.12"
     },
     "metadata": {}
    },
    {
     "output_type": "display_data",
     "data": {
      "text/plain": "<IPython.core.display.HTML object>",
      "text/html": "Run data is saved locally in <code>/kaggle/working/wandb/run-20231113_205923-hg9h6kx5</code>"
     },
     "metadata": {}
    },
    {
     "output_type": "display_data",
     "data": {
      "text/plain": "<IPython.core.display.HTML object>",
      "text/html": "Syncing run <strong><a href='https://wandb.ai/rodion-chernomordin/deep_learning_hw2/runs/hg9h6kx5' target=\"_blank\">val data</a></strong> to <a href='https://wandb.ai/rodion-chernomordin/deep_learning_hw2' target=\"_blank\">Weights & Biases</a> (<a href='https://wandb.me/run' target=\"_blank\">docs</a>)<br/>"
     },
     "metadata": {}
    },
    {
     "output_type": "display_data",
     "data": {
      "text/plain": "<IPython.core.display.HTML object>",
      "text/html": " View project at <a href='https://wandb.ai/rodion-chernomordin/deep_learning_hw2' target=\"_blank\">https://wandb.ai/rodion-chernomordin/deep_learning_hw2</a>"
     },
     "metadata": {}
    },
    {
     "output_type": "display_data",
     "data": {
      "text/plain": "<IPython.core.display.HTML object>",
      "text/html": " View run at <a href='https://wandb.ai/rodion-chernomordin/deep_learning_hw2/runs/hg9h6kx5' target=\"_blank\">https://wandb.ai/rodion-chernomordin/deep_learning_hw2/runs/hg9h6kx5</a>"
     },
     "metadata": {}
    },
    {
     "name": "stdout",
     "text": "Epoch 7\n train loss: 0.8759641876168399, train acc: 0.6952492491512144\n val loss: 0.9257140479189284, val acc: 0.6842420212765957\n\n",
     "output_type": "stream"
    },
    {
     "output_type": "display_data",
     "data": {
      "text/plain": "<IPython.core.display.HTML object>",
      "text/html": "Finishing last run (ID:hg9h6kx5) before initializing another..."
     },
     "metadata": {}
    },
    {
     "output_type": "display_data",
     "data": {
      "text/plain": "<IPython.core.display.HTML object>",
      "text/html": "Waiting for W&B process to finish... <strong style=\"color:green\">(success).</strong>"
     },
     "metadata": {}
    },
    {
     "output_type": "display_data",
     "data": {
      "text/plain": "VBox(children=(Label(value='0.003 MB of 0.003 MB uploaded (0.000 MB deduped)\\r'), FloatProgress(value=1.0, max…",
      "application/vnd.jupyter.widget-view+json": {
       "version_major": 2,
       "version_minor": 0,
       "model_id": "69a5769c931a4c4c887dd860d9d430cc"
      }
     },
     "metadata": {}
    },
    {
     "output_type": "display_data",
     "data": {
      "text/plain": "<IPython.core.display.HTML object>",
      "text/html": " View run <strong style=\"color:#cdcd00\">val data</strong> at: <a href='https://wandb.ai/rodion-chernomordin/deep_learning_hw2/runs/hg9h6kx5' target=\"_blank\">https://wandb.ai/rodion-chernomordin/deep_learning_hw2/runs/hg9h6kx5</a><br/>Synced 6 W&B file(s), 2 media file(s), 2 artifact file(s) and 0 other file(s)"
     },
     "metadata": {}
    },
    {
     "output_type": "display_data",
     "data": {
      "text/plain": "<IPython.core.display.HTML object>",
      "text/html": "Find logs at: <code>./wandb/run-20231113_205923-hg9h6kx5/logs</code>"
     },
     "metadata": {}
    },
    {
     "output_type": "display_data",
     "data": {
      "text/plain": "<IPython.core.display.HTML object>",
      "text/html": "Successfully finished last run (ID:hg9h6kx5). Initializing new run:<br/>"
     },
     "metadata": {}
    },
    {
     "output_type": "display_data",
     "data": {
      "text/plain": "<IPython.core.display.HTML object>",
      "text/html": "wandb version 0.16.0 is available!  To upgrade, please run:\n $ pip install wandb --upgrade"
     },
     "metadata": {}
    },
    {
     "output_type": "display_data",
     "data": {
      "text/plain": "<IPython.core.display.HTML object>",
      "text/html": "Tracking run with wandb version 0.15.12"
     },
     "metadata": {}
    },
    {
     "output_type": "display_data",
     "data": {
      "text/plain": "<IPython.core.display.HTML object>",
      "text/html": "Run data is saved locally in <code>/kaggle/working/wandb/run-20231113_210139-mgqj3mva</code>"
     },
     "metadata": {}
    },
    {
     "output_type": "display_data",
     "data": {
      "text/plain": "<IPython.core.display.HTML object>",
      "text/html": "Syncing run <strong><a href='https://wandb.ai/rodion-chernomordin/deep_learning_hw2/runs/mgqj3mva' target=\"_blank\">train data</a></strong> to <a href='https://wandb.ai/rodion-chernomordin/deep_learning_hw2' target=\"_blank\">Weights & Biases</a> (<a href='https://wandb.me/run' target=\"_blank\">docs</a>)<br/>"
     },
     "metadata": {}
    },
    {
     "output_type": "display_data",
     "data": {
      "text/plain": "<IPython.core.display.HTML object>",
      "text/html": " View project at <a href='https://wandb.ai/rodion-chernomordin/deep_learning_hw2' target=\"_blank\">https://wandb.ai/rodion-chernomordin/deep_learning_hw2</a>"
     },
     "metadata": {}
    },
    {
     "output_type": "display_data",
     "data": {
      "text/plain": "<IPython.core.display.HTML object>",
      "text/html": " View run at <a href='https://wandb.ai/rodion-chernomordin/deep_learning_hw2/runs/mgqj3mva' target=\"_blank\">https://wandb.ai/rodion-chernomordin/deep_learning_hw2/runs/mgqj3mva</a>"
     },
     "metadata": {}
    },
    {
     "output_type": "display_data",
     "data": {
      "text/plain": "<IPython.core.display.HTML object>",
      "text/html": "Finishing last run (ID:mgqj3mva) before initializing another..."
     },
     "metadata": {}
    },
    {
     "output_type": "display_data",
     "data": {
      "text/plain": "<IPython.core.display.HTML object>",
      "text/html": "Waiting for W&B process to finish... <strong style=\"color:green\">(success).</strong>"
     },
     "metadata": {}
    },
    {
     "output_type": "display_data",
     "data": {
      "text/plain": "<IPython.core.display.HTML object>",
      "text/html": " View run <strong style=\"color:#cdcd00\">train data</strong> at: <a href='https://wandb.ai/rodion-chernomordin/deep_learning_hw2/runs/mgqj3mva' target=\"_blank\">https://wandb.ai/rodion-chernomordin/deep_learning_hw2/runs/mgqj3mva</a><br/>Synced 5 W&B file(s), 2 media file(s), 2 artifact file(s) and 0 other file(s)"
     },
     "metadata": {}
    },
    {
     "output_type": "display_data",
     "data": {
      "text/plain": "<IPython.core.display.HTML object>",
      "text/html": "Find logs at: <code>./wandb/run-20231113_210139-mgqj3mva/logs</code>"
     },
     "metadata": {}
    },
    {
     "output_type": "display_data",
     "data": {
      "text/plain": "<IPython.core.display.HTML object>",
      "text/html": "Successfully finished last run (ID:mgqj3mva). Initializing new run:<br/>"
     },
     "metadata": {}
    },
    {
     "output_type": "display_data",
     "data": {
      "text/plain": "<IPython.core.display.HTML object>",
      "text/html": "wandb version 0.16.0 is available!  To upgrade, please run:\n $ pip install wandb --upgrade"
     },
     "metadata": {}
    },
    {
     "output_type": "display_data",
     "data": {
      "text/plain": "<IPython.core.display.HTML object>",
      "text/html": "Tracking run with wandb version 0.15.12"
     },
     "metadata": {}
    },
    {
     "output_type": "display_data",
     "data": {
      "text/plain": "<IPython.core.display.HTML object>",
      "text/html": "Run data is saved locally in <code>/kaggle/working/wandb/run-20231113_210219-grkwudrq</code>"
     },
     "metadata": {}
    },
    {
     "output_type": "display_data",
     "data": {
      "text/plain": "<IPython.core.display.HTML object>",
      "text/html": "Syncing run <strong><a href='https://wandb.ai/rodion-chernomordin/deep_learning_hw2/runs/grkwudrq' target=\"_blank\">val data</a></strong> to <a href='https://wandb.ai/rodion-chernomordin/deep_learning_hw2' target=\"_blank\">Weights & Biases</a> (<a href='https://wandb.me/run' target=\"_blank\">docs</a>)<br/>"
     },
     "metadata": {}
    },
    {
     "output_type": "display_data",
     "data": {
      "text/plain": "<IPython.core.display.HTML object>",
      "text/html": " View project at <a href='https://wandb.ai/rodion-chernomordin/deep_learning_hw2' target=\"_blank\">https://wandb.ai/rodion-chernomordin/deep_learning_hw2</a>"
     },
     "metadata": {}
    },
    {
     "output_type": "display_data",
     "data": {
      "text/plain": "<IPython.core.display.HTML object>",
      "text/html": " View run at <a href='https://wandb.ai/rodion-chernomordin/deep_learning_hw2/runs/grkwudrq' target=\"_blank\">https://wandb.ai/rodion-chernomordin/deep_learning_hw2/runs/grkwudrq</a>"
     },
     "metadata": {}
    },
    {
     "name": "stdout",
     "text": "Epoch 8\n train loss: 0.8614279037201862, train acc: 0.7014927200313399\n val loss: 0.93728537660964, val acc: 0.6819148936170213\n\n",
     "output_type": "stream"
    },
    {
     "output_type": "display_data",
     "data": {
      "text/plain": "<IPython.core.display.HTML object>",
      "text/html": "Finishing last run (ID:grkwudrq) before initializing another..."
     },
     "metadata": {}
    },
    {
     "output_type": "display_data",
     "data": {
      "text/plain": "<IPython.core.display.HTML object>",
      "text/html": "Waiting for W&B process to finish... <strong style=\"color:green\">(success).</strong>"
     },
     "metadata": {}
    },
    {
     "output_type": "display_data",
     "data": {
      "text/plain": "VBox(children=(Label(value='0.003 MB of 0.003 MB uploaded (0.000 MB deduped)\\r'), FloatProgress(value=1.0, max…",
      "application/vnd.jupyter.widget-view+json": {
       "version_major": 2,
       "version_minor": 0,
       "model_id": "bf4b74308b6a46b38aacad7c231a9845"
      }
     },
     "metadata": {}
    },
    {
     "output_type": "display_data",
     "data": {
      "text/plain": "<IPython.core.display.HTML object>",
      "text/html": " View run <strong style=\"color:#cdcd00\">val data</strong> at: <a href='https://wandb.ai/rodion-chernomordin/deep_learning_hw2/runs/grkwudrq' target=\"_blank\">https://wandb.ai/rodion-chernomordin/deep_learning_hw2/runs/grkwudrq</a><br/>Synced 6 W&B file(s), 2 media file(s), 2 artifact file(s) and 0 other file(s)"
     },
     "metadata": {}
    },
    {
     "output_type": "display_data",
     "data": {
      "text/plain": "<IPython.core.display.HTML object>",
      "text/html": "Find logs at: <code>./wandb/run-20231113_210219-grkwudrq/logs</code>"
     },
     "metadata": {}
    },
    {
     "output_type": "display_data",
     "data": {
      "text/plain": "<IPython.core.display.HTML object>",
      "text/html": "Successfully finished last run (ID:grkwudrq). Initializing new run:<br/>"
     },
     "metadata": {}
    },
    {
     "output_type": "display_data",
     "data": {
      "text/plain": "VBox(children=(Label(value='Waiting for wandb.init()...\\r'), FloatProgress(value=0.01111453161111563, max=1.0)…",
      "application/vnd.jupyter.widget-view+json": {
       "version_major": 2,
       "version_minor": 0,
       "model_id": "ab7d5b1fab5249038f17327b55cb7d69"
      }
     },
     "metadata": {}
    },
    {
     "output_type": "display_data",
     "data": {
      "text/plain": "<IPython.core.display.HTML object>",
      "text/html": "wandb version 0.16.0 is available!  To upgrade, please run:\n $ pip install wandb --upgrade"
     },
     "metadata": {}
    },
    {
     "output_type": "display_data",
     "data": {
      "text/plain": "<IPython.core.display.HTML object>",
      "text/html": "Tracking run with wandb version 0.15.12"
     },
     "metadata": {}
    },
    {
     "output_type": "display_data",
     "data": {
      "text/plain": "<IPython.core.display.HTML object>",
      "text/html": "Run data is saved locally in <code>/kaggle/working/wandb/run-20231113_210417-7eywjxxt</code>"
     },
     "metadata": {}
    },
    {
     "output_type": "display_data",
     "data": {
      "text/plain": "<IPython.core.display.HTML object>",
      "text/html": "Syncing run <strong><a href='https://wandb.ai/rodion-chernomordin/deep_learning_hw2/runs/7eywjxxt' target=\"_blank\">train data</a></strong> to <a href='https://wandb.ai/rodion-chernomordin/deep_learning_hw2' target=\"_blank\">Weights & Biases</a> (<a href='https://wandb.me/run' target=\"_blank\">docs</a>)<br/>"
     },
     "metadata": {}
    },
    {
     "output_type": "display_data",
     "data": {
      "text/plain": "<IPython.core.display.HTML object>",
      "text/html": " View project at <a href='https://wandb.ai/rodion-chernomordin/deep_learning_hw2' target=\"_blank\">https://wandb.ai/rodion-chernomordin/deep_learning_hw2</a>"
     },
     "metadata": {}
    },
    {
     "output_type": "display_data",
     "data": {
      "text/plain": "<IPython.core.display.HTML object>",
      "text/html": " View run at <a href='https://wandb.ai/rodion-chernomordin/deep_learning_hw2/runs/7eywjxxt' target=\"_blank\">https://wandb.ai/rodion-chernomordin/deep_learning_hw2/runs/7eywjxxt</a>"
     },
     "metadata": {}
    },
    {
     "output_type": "display_data",
     "data": {
      "text/plain": "<IPython.core.display.HTML object>",
      "text/html": "Finishing last run (ID:7eywjxxt) before initializing another..."
     },
     "metadata": {}
    },
    {
     "output_type": "display_data",
     "data": {
      "text/plain": "<IPython.core.display.HTML object>",
      "text/html": "Waiting for W&B process to finish... <strong style=\"color:green\">(success).</strong>"
     },
     "metadata": {}
    },
    {
     "output_type": "display_data",
     "data": {
      "text/plain": "<IPython.core.display.HTML object>",
      "text/html": " View run <strong style=\"color:#cdcd00\">train data</strong> at: <a href='https://wandb.ai/rodion-chernomordin/deep_learning_hw2/runs/7eywjxxt' target=\"_blank\">https://wandb.ai/rodion-chernomordin/deep_learning_hw2/runs/7eywjxxt</a><br/>Synced 5 W&B file(s), 2 media file(s), 2 artifact file(s) and 0 other file(s)"
     },
     "metadata": {}
    },
    {
     "output_type": "display_data",
     "data": {
      "text/plain": "<IPython.core.display.HTML object>",
      "text/html": "Find logs at: <code>./wandb/run-20231113_210417-7eywjxxt/logs</code>"
     },
     "metadata": {}
    },
    {
     "output_type": "display_data",
     "data": {
      "text/plain": "<IPython.core.display.HTML object>",
      "text/html": "Successfully finished last run (ID:7eywjxxt). Initializing new run:<br/>"
     },
     "metadata": {}
    },
    {
     "output_type": "display_data",
     "data": {
      "text/plain": "<IPython.core.display.HTML object>",
      "text/html": "wandb version 0.16.0 is available!  To upgrade, please run:\n $ pip install wandb --upgrade"
     },
     "metadata": {}
    },
    {
     "output_type": "display_data",
     "data": {
      "text/plain": "<IPython.core.display.HTML object>",
      "text/html": "Tracking run with wandb version 0.15.12"
     },
     "metadata": {}
    },
    {
     "output_type": "display_data",
     "data": {
      "text/plain": "<IPython.core.display.HTML object>",
      "text/html": "Run data is saved locally in <code>/kaggle/working/wandb/run-20231113_210458-o6eos4qw</code>"
     },
     "metadata": {}
    },
    {
     "output_type": "display_data",
     "data": {
      "text/plain": "<IPython.core.display.HTML object>",
      "text/html": "Syncing run <strong><a href='https://wandb.ai/rodion-chernomordin/deep_learning_hw2/runs/o6eos4qw' target=\"_blank\">val data</a></strong> to <a href='https://wandb.ai/rodion-chernomordin/deep_learning_hw2' target=\"_blank\">Weights & Biases</a> (<a href='https://wandb.me/run' target=\"_blank\">docs</a>)<br/>"
     },
     "metadata": {}
    },
    {
     "output_type": "display_data",
     "data": {
      "text/plain": "<IPython.core.display.HTML object>",
      "text/html": " View project at <a href='https://wandb.ai/rodion-chernomordin/deep_learning_hw2' target=\"_blank\">https://wandb.ai/rodion-chernomordin/deep_learning_hw2</a>"
     },
     "metadata": {}
    },
    {
     "output_type": "display_data",
     "data": {
      "text/plain": "<IPython.core.display.HTML object>",
      "text/html": " View run at <a href='https://wandb.ai/rodion-chernomordin/deep_learning_hw2/runs/o6eos4qw' target=\"_blank\">https://wandb.ai/rodion-chernomordin/deep_learning_hw2/runs/o6eos4qw</a>"
     },
     "metadata": {}
    },
    {
     "name": "stdout",
     "text": "Epoch 9\n train loss: 0.8350069912957535, train acc: 0.7080218399059807\n val loss: 0.8942494022085311, val acc: 0.6978723404255319\n\n",
     "output_type": "stream"
    },
    {
     "output_type": "display_data",
     "data": {
      "text/plain": "<IPython.core.display.HTML object>",
      "text/html": "Finishing last run (ID:o6eos4qw) before initializing another..."
     },
     "metadata": {}
    },
    {
     "output_type": "display_data",
     "data": {
      "text/plain": "<IPython.core.display.HTML object>",
      "text/html": "Waiting for W&B process to finish... <strong style=\"color:green\">(success).</strong>"
     },
     "metadata": {}
    },
    {
     "output_type": "display_data",
     "data": {
      "text/plain": "VBox(children=(Label(value='0.003 MB of 0.003 MB uploaded (0.000 MB deduped)\\r'), FloatProgress(value=1.0, max…",
      "application/vnd.jupyter.widget-view+json": {
       "version_major": 2,
       "version_minor": 0,
       "model_id": "e695c1ee34284d3abfc192b9ae59fcc6"
      }
     },
     "metadata": {}
    },
    {
     "output_type": "display_data",
     "data": {
      "text/plain": "<IPython.core.display.HTML object>",
      "text/html": " View run <strong style=\"color:#cdcd00\">val data</strong> at: <a href='https://wandb.ai/rodion-chernomordin/deep_learning_hw2/runs/o6eos4qw' target=\"_blank\">https://wandb.ai/rodion-chernomordin/deep_learning_hw2/runs/o6eos4qw</a><br/>Synced 6 W&B file(s), 2 media file(s), 2 artifact file(s) and 0 other file(s)"
     },
     "metadata": {}
    },
    {
     "output_type": "display_data",
     "data": {
      "text/plain": "<IPython.core.display.HTML object>",
      "text/html": "Find logs at: <code>./wandb/run-20231113_210458-o6eos4qw/logs</code>"
     },
     "metadata": {}
    },
    {
     "output_type": "display_data",
     "data": {
      "text/plain": "<IPython.core.display.HTML object>",
      "text/html": "Successfully finished last run (ID:o6eos4qw). Initializing new run:<br/>"
     },
     "metadata": {}
    },
    {
     "output_type": "display_data",
     "data": {
      "text/plain": "VBox(children=(Label(value='Waiting for wandb.init()...\\r'), FloatProgress(value=0.011113139544441866, max=1.0…",
      "application/vnd.jupyter.widget-view+json": {
       "version_major": 2,
       "version_minor": 0,
       "model_id": "0bf88504508d41608d48d48add31d72c"
      }
     },
     "metadata": {}
    },
    {
     "output_type": "display_data",
     "data": {
      "text/plain": "<IPython.core.display.HTML object>",
      "text/html": "wandb version 0.16.0 is available!  To upgrade, please run:\n $ pip install wandb --upgrade"
     },
     "metadata": {}
    },
    {
     "output_type": "display_data",
     "data": {
      "text/plain": "<IPython.core.display.HTML object>",
      "text/html": "Tracking run with wandb version 0.15.12"
     },
     "metadata": {}
    },
    {
     "output_type": "display_data",
     "data": {
      "text/plain": "<IPython.core.display.HTML object>",
      "text/html": "Run data is saved locally in <code>/kaggle/working/wandb/run-20231113_210655-pq3s5p3n</code>"
     },
     "metadata": {}
    },
    {
     "output_type": "display_data",
     "data": {
      "text/plain": "<IPython.core.display.HTML object>",
      "text/html": "Syncing run <strong><a href='https://wandb.ai/rodion-chernomordin/deep_learning_hw2/runs/pq3s5p3n' target=\"_blank\">train data</a></strong> to <a href='https://wandb.ai/rodion-chernomordin/deep_learning_hw2' target=\"_blank\">Weights & Biases</a> (<a href='https://wandb.me/run' target=\"_blank\">docs</a>)<br/>"
     },
     "metadata": {}
    },
    {
     "output_type": "display_data",
     "data": {
      "text/plain": "<IPython.core.display.HTML object>",
      "text/html": " View project at <a href='https://wandb.ai/rodion-chernomordin/deep_learning_hw2' target=\"_blank\">https://wandb.ai/rodion-chernomordin/deep_learning_hw2</a>"
     },
     "metadata": {}
    },
    {
     "output_type": "display_data",
     "data": {
      "text/plain": "<IPython.core.display.HTML object>",
      "text/html": " View run at <a href='https://wandb.ai/rodion-chernomordin/deep_learning_hw2/runs/pq3s5p3n' target=\"_blank\">https://wandb.ai/rodion-chernomordin/deep_learning_hw2/runs/pq3s5p3n</a>"
     },
     "metadata": {}
    },
    {
     "output_type": "display_data",
     "data": {
      "text/plain": "<IPython.core.display.HTML object>",
      "text/html": "Finishing last run (ID:pq3s5p3n) before initializing another..."
     },
     "metadata": {}
    },
    {
     "output_type": "display_data",
     "data": {
      "text/plain": "<IPython.core.display.HTML object>",
      "text/html": "Waiting for W&B process to finish... <strong style=\"color:green\">(success).</strong>"
     },
     "metadata": {}
    },
    {
     "output_type": "display_data",
     "data": {
      "text/plain": "<IPython.core.display.HTML object>",
      "text/html": " View run <strong style=\"color:#cdcd00\">train data</strong> at: <a href='https://wandb.ai/rodion-chernomordin/deep_learning_hw2/runs/pq3s5p3n' target=\"_blank\">https://wandb.ai/rodion-chernomordin/deep_learning_hw2/runs/pq3s5p3n</a><br/>Synced 5 W&B file(s), 2 media file(s), 2 artifact file(s) and 0 other file(s)"
     },
     "metadata": {}
    },
    {
     "output_type": "display_data",
     "data": {
      "text/plain": "<IPython.core.display.HTML object>",
      "text/html": "Find logs at: <code>./wandb/run-20231113_210655-pq3s5p3n/logs</code>"
     },
     "metadata": {}
    },
    {
     "output_type": "display_data",
     "data": {
      "text/plain": "<IPython.core.display.HTML object>",
      "text/html": "Successfully finished last run (ID:pq3s5p3n). Initializing new run:<br/>"
     },
     "metadata": {}
    },
    {
     "output_type": "display_data",
     "data": {
      "text/plain": "<IPython.core.display.HTML object>",
      "text/html": "wandb version 0.16.0 is available!  To upgrade, please run:\n $ pip install wandb --upgrade"
     },
     "metadata": {}
    },
    {
     "output_type": "display_data",
     "data": {
      "text/plain": "<IPython.core.display.HTML object>",
      "text/html": "Tracking run with wandb version 0.15.12"
     },
     "metadata": {}
    },
    {
     "output_type": "display_data",
     "data": {
      "text/plain": "<IPython.core.display.HTML object>",
      "text/html": "Run data is saved locally in <code>/kaggle/working/wandb/run-20231113_210734-xedqaudg</code>"
     },
     "metadata": {}
    },
    {
     "output_type": "display_data",
     "data": {
      "text/plain": "<IPython.core.display.HTML object>",
      "text/html": "Syncing run <strong><a href='https://wandb.ai/rodion-chernomordin/deep_learning_hw2/runs/xedqaudg' target=\"_blank\">val data</a></strong> to <a href='https://wandb.ai/rodion-chernomordin/deep_learning_hw2' target=\"_blank\">Weights & Biases</a> (<a href='https://wandb.me/run' target=\"_blank\">docs</a>)<br/>"
     },
     "metadata": {}
    },
    {
     "output_type": "display_data",
     "data": {
      "text/plain": "<IPython.core.display.HTML object>",
      "text/html": " View project at <a href='https://wandb.ai/rodion-chernomordin/deep_learning_hw2' target=\"_blank\">https://wandb.ai/rodion-chernomordin/deep_learning_hw2</a>"
     },
     "metadata": {}
    },
    {
     "output_type": "display_data",
     "data": {
      "text/plain": "<IPython.core.display.HTML object>",
      "text/html": " View run at <a href='https://wandb.ai/rodion-chernomordin/deep_learning_hw2/runs/xedqaudg' target=\"_blank\">https://wandb.ai/rodion-chernomordin/deep_learning_hw2/runs/xedqaudg</a>"
     },
     "metadata": {}
    },
    {
     "name": "stdout",
     "text": "Epoch 10\n train loss: 0.8247730654053104, train acc: 0.7123106555236354\n val loss: 0.9401488413202002, val acc: 0.6787455673758864\n\n",
     "output_type": "stream"
    },
    {
     "output_type": "display_data",
     "data": {
      "text/plain": "<IPython.core.display.HTML object>",
      "text/html": "Finishing last run (ID:xedqaudg) before initializing another..."
     },
     "metadata": {}
    },
    {
     "output_type": "display_data",
     "data": {
      "text/plain": "<IPython.core.display.HTML object>",
      "text/html": "Waiting for W&B process to finish... <strong style=\"color:green\">(success).</strong>"
     },
     "metadata": {}
    },
    {
     "output_type": "display_data",
     "data": {
      "text/plain": "VBox(children=(Label(value='0.003 MB of 0.003 MB uploaded (0.000 MB deduped)\\r'), FloatProgress(value=1.0, max…",
      "application/vnd.jupyter.widget-view+json": {
       "version_major": 2,
       "version_minor": 0,
       "model_id": "550cff2ad1e14c64891eb1c4ea759bed"
      }
     },
     "metadata": {}
    },
    {
     "output_type": "display_data",
     "data": {
      "text/plain": "<IPython.core.display.HTML object>",
      "text/html": " View run <strong style=\"color:#cdcd00\">val data</strong> at: <a href='https://wandb.ai/rodion-chernomordin/deep_learning_hw2/runs/xedqaudg' target=\"_blank\">https://wandb.ai/rodion-chernomordin/deep_learning_hw2/runs/xedqaudg</a><br/>Synced 6 W&B file(s), 2 media file(s), 2 artifact file(s) and 0 other file(s)"
     },
     "metadata": {}
    },
    {
     "output_type": "display_data",
     "data": {
      "text/plain": "<IPython.core.display.HTML object>",
      "text/html": "Find logs at: <code>./wandb/run-20231113_210734-xedqaudg/logs</code>"
     },
     "metadata": {}
    },
    {
     "output_type": "display_data",
     "data": {
      "text/plain": "<IPython.core.display.HTML object>",
      "text/html": "Successfully finished last run (ID:xedqaudg). Initializing new run:<br/>"
     },
     "metadata": {}
    },
    {
     "output_type": "display_data",
     "data": {
      "text/plain": "<IPython.core.display.HTML object>",
      "text/html": "wandb version 0.16.0 is available!  To upgrade, please run:\n $ pip install wandb --upgrade"
     },
     "metadata": {}
    },
    {
     "output_type": "display_data",
     "data": {
      "text/plain": "<IPython.core.display.HTML object>",
      "text/html": "Tracking run with wandb version 0.15.12"
     },
     "metadata": {}
    },
    {
     "output_type": "display_data",
     "data": {
      "text/plain": "<IPython.core.display.HTML object>",
      "text/html": "Run data is saved locally in <code>/kaggle/working/wandb/run-20231113_210931-tslgsha2</code>"
     },
     "metadata": {}
    },
    {
     "output_type": "display_data",
     "data": {
      "text/plain": "<IPython.core.display.HTML object>",
      "text/html": "Syncing run <strong><a href='https://wandb.ai/rodion-chernomordin/deep_learning_hw2/runs/tslgsha2' target=\"_blank\">train data</a></strong> to <a href='https://wandb.ai/rodion-chernomordin/deep_learning_hw2' target=\"_blank\">Weights & Biases</a> (<a href='https://wandb.me/run' target=\"_blank\">docs</a>)<br/>"
     },
     "metadata": {}
    },
    {
     "output_type": "display_data",
     "data": {
      "text/plain": "<IPython.core.display.HTML object>",
      "text/html": " View project at <a href='https://wandb.ai/rodion-chernomordin/deep_learning_hw2' target=\"_blank\">https://wandb.ai/rodion-chernomordin/deep_learning_hw2</a>"
     },
     "metadata": {}
    },
    {
     "output_type": "display_data",
     "data": {
      "text/plain": "<IPython.core.display.HTML object>",
      "text/html": " View run at <a href='https://wandb.ai/rodion-chernomordin/deep_learning_hw2/runs/tslgsha2' target=\"_blank\">https://wandb.ai/rodion-chernomordin/deep_learning_hw2/runs/tslgsha2</a>"
     },
     "metadata": {}
    },
    {
     "output_type": "display_data",
     "data": {
      "text/plain": "<IPython.core.display.HTML object>",
      "text/html": "Finishing last run (ID:tslgsha2) before initializing another..."
     },
     "metadata": {}
    },
    {
     "output_type": "display_data",
     "data": {
      "text/plain": "<IPython.core.display.HTML object>",
      "text/html": "Waiting for W&B process to finish... <strong style=\"color:green\">(success).</strong>"
     },
     "metadata": {}
    },
    {
     "output_type": "display_data",
     "data": {
      "text/plain": "<IPython.core.display.HTML object>",
      "text/html": " View run <strong style=\"color:#cdcd00\">train data</strong> at: <a href='https://wandb.ai/rodion-chernomordin/deep_learning_hw2/runs/tslgsha2' target=\"_blank\">https://wandb.ai/rodion-chernomordin/deep_learning_hw2/runs/tslgsha2</a><br/>Synced 5 W&B file(s), 2 media file(s), 2 artifact file(s) and 0 other file(s)"
     },
     "metadata": {}
    },
    {
     "output_type": "display_data",
     "data": {
      "text/plain": "<IPython.core.display.HTML object>",
      "text/html": "Find logs at: <code>./wandb/run-20231113_210931-tslgsha2/logs</code>"
     },
     "metadata": {}
    },
    {
     "output_type": "display_data",
     "data": {
      "text/plain": "<IPython.core.display.HTML object>",
      "text/html": "Successfully finished last run (ID:tslgsha2). Initializing new run:<br/>"
     },
     "metadata": {}
    },
    {
     "output_type": "display_data",
     "data": {
      "text/plain": "<IPython.core.display.HTML object>",
      "text/html": "wandb version 0.16.0 is available!  To upgrade, please run:\n $ pip install wandb --upgrade"
     },
     "metadata": {}
    },
    {
     "output_type": "display_data",
     "data": {
      "text/plain": "<IPython.core.display.HTML object>",
      "text/html": "Tracking run with wandb version 0.15.12"
     },
     "metadata": {}
    },
    {
     "output_type": "display_data",
     "data": {
      "text/plain": "<IPython.core.display.HTML object>",
      "text/html": "Run data is saved locally in <code>/kaggle/working/wandb/run-20231113_211011-5olp22fg</code>"
     },
     "metadata": {}
    },
    {
     "output_type": "display_data",
     "data": {
      "text/plain": "<IPython.core.display.HTML object>",
      "text/html": "Syncing run <strong><a href='https://wandb.ai/rodion-chernomordin/deep_learning_hw2/runs/5olp22fg' target=\"_blank\">val data</a></strong> to <a href='https://wandb.ai/rodion-chernomordin/deep_learning_hw2' target=\"_blank\">Weights & Biases</a> (<a href='https://wandb.me/run' target=\"_blank\">docs</a>)<br/>"
     },
     "metadata": {}
    },
    {
     "output_type": "display_data",
     "data": {
      "text/plain": "<IPython.core.display.HTML object>",
      "text/html": " View project at <a href='https://wandb.ai/rodion-chernomordin/deep_learning_hw2' target=\"_blank\">https://wandb.ai/rodion-chernomordin/deep_learning_hw2</a>"
     },
     "metadata": {}
    },
    {
     "output_type": "display_data",
     "data": {
      "text/plain": "<IPython.core.display.HTML object>",
      "text/html": " View run at <a href='https://wandb.ai/rodion-chernomordin/deep_learning_hw2/runs/5olp22fg' target=\"_blank\">https://wandb.ai/rodion-chernomordin/deep_learning_hw2/runs/5olp22fg</a>"
     },
     "metadata": {}
    },
    {
     "name": "stdout",
     "text": "Epoch 11\n train loss: 0.8126318185595315, train acc: 0.7173135936275791\n val loss: 0.8939647968779219, val acc: 0.6939051418439716\n\n",
     "output_type": "stream"
    },
    {
     "output_type": "display_data",
     "data": {
      "text/plain": "<IPython.core.display.HTML object>",
      "text/html": "Finishing last run (ID:5olp22fg) before initializing another..."
     },
     "metadata": {}
    },
    {
     "output_type": "display_data",
     "data": {
      "text/plain": "<IPython.core.display.HTML object>",
      "text/html": "Waiting for W&B process to finish... <strong style=\"color:green\">(success).</strong>"
     },
     "metadata": {}
    },
    {
     "output_type": "display_data",
     "data": {
      "text/plain": "VBox(children=(Label(value='0.003 MB of 0.047 MB uploaded (0.000 MB deduped)\\r'), FloatProgress(value=0.067997…",
      "application/vnd.jupyter.widget-view+json": {
       "version_major": 2,
       "version_minor": 0,
       "model_id": "a199c1a5621f4bd5be5af7755aa908cb"
      }
     },
     "metadata": {}
    },
    {
     "output_type": "display_data",
     "data": {
      "text/plain": "<IPython.core.display.HTML object>",
      "text/html": " View run <strong style=\"color:#cdcd00\">val data</strong> at: <a href='https://wandb.ai/rodion-chernomordin/deep_learning_hw2/runs/5olp22fg' target=\"_blank\">https://wandb.ai/rodion-chernomordin/deep_learning_hw2/runs/5olp22fg</a><br/>Synced 6 W&B file(s), 2 media file(s), 2 artifact file(s) and 0 other file(s)"
     },
     "metadata": {}
    },
    {
     "output_type": "display_data",
     "data": {
      "text/plain": "<IPython.core.display.HTML object>",
      "text/html": "Find logs at: <code>./wandb/run-20231113_211011-5olp22fg/logs</code>"
     },
     "metadata": {}
    },
    {
     "output_type": "display_data",
     "data": {
      "text/plain": "<IPython.core.display.HTML object>",
      "text/html": "Successfully finished last run (ID:5olp22fg). Initializing new run:<br/>"
     },
     "metadata": {}
    },
    {
     "output_type": "display_data",
     "data": {
      "text/plain": "<IPython.core.display.HTML object>",
      "text/html": "wandb version 0.16.0 is available!  To upgrade, please run:\n $ pip install wandb --upgrade"
     },
     "metadata": {}
    },
    {
     "output_type": "display_data",
     "data": {
      "text/plain": "<IPython.core.display.HTML object>",
      "text/html": "Tracking run with wandb version 0.15.12"
     },
     "metadata": {}
    },
    {
     "output_type": "display_data",
     "data": {
      "text/plain": "<IPython.core.display.HTML object>",
      "text/html": "Run data is saved locally in <code>/kaggle/working/wandb/run-20231113_211206-6c5u3r53</code>"
     },
     "metadata": {}
    },
    {
     "output_type": "display_data",
     "data": {
      "text/plain": "<IPython.core.display.HTML object>",
      "text/html": "Syncing run <strong><a href='https://wandb.ai/rodion-chernomordin/deep_learning_hw2/runs/6c5u3r53' target=\"_blank\">train data</a></strong> to <a href='https://wandb.ai/rodion-chernomordin/deep_learning_hw2' target=\"_blank\">Weights & Biases</a> (<a href='https://wandb.me/run' target=\"_blank\">docs</a>)<br/>"
     },
     "metadata": {}
    },
    {
     "output_type": "display_data",
     "data": {
      "text/plain": "<IPython.core.display.HTML object>",
      "text/html": " View project at <a href='https://wandb.ai/rodion-chernomordin/deep_learning_hw2' target=\"_blank\">https://wandb.ai/rodion-chernomordin/deep_learning_hw2</a>"
     },
     "metadata": {}
    },
    {
     "output_type": "display_data",
     "data": {
      "text/plain": "<IPython.core.display.HTML object>",
      "text/html": " View run at <a href='https://wandb.ai/rodion-chernomordin/deep_learning_hw2/runs/6c5u3r53' target=\"_blank\">https://wandb.ai/rodion-chernomordin/deep_learning_hw2/runs/6c5u3r53</a>"
     },
     "metadata": {}
    },
    {
     "output_type": "display_data",
     "data": {
      "text/plain": "<IPython.core.display.HTML object>",
      "text/html": "Finishing last run (ID:6c5u3r53) before initializing another..."
     },
     "metadata": {}
    },
    {
     "output_type": "display_data",
     "data": {
      "text/plain": "<IPython.core.display.HTML object>",
      "text/html": "Waiting for W&B process to finish... <strong style=\"color:green\">(success).</strong>"
     },
     "metadata": {}
    },
    {
     "output_type": "display_data",
     "data": {
      "text/plain": "<IPython.core.display.HTML object>",
      "text/html": " View run <strong style=\"color:#cdcd00\">train data</strong> at: <a href='https://wandb.ai/rodion-chernomordin/deep_learning_hw2/runs/6c5u3r53' target=\"_blank\">https://wandb.ai/rodion-chernomordin/deep_learning_hw2/runs/6c5u3r53</a><br/>Synced 5 W&B file(s), 2 media file(s), 2 artifact file(s) and 0 other file(s)"
     },
     "metadata": {}
    },
    {
     "output_type": "display_data",
     "data": {
      "text/plain": "<IPython.core.display.HTML object>",
      "text/html": "Find logs at: <code>./wandb/run-20231113_211206-6c5u3r53/logs</code>"
     },
     "metadata": {}
    },
    {
     "output_type": "display_data",
     "data": {
      "text/plain": "<IPython.core.display.HTML object>",
      "text/html": "Successfully finished last run (ID:6c5u3r53). Initializing new run:<br/>"
     },
     "metadata": {}
    },
    {
     "output_type": "display_data",
     "data": {
      "text/plain": "<IPython.core.display.HTML object>",
      "text/html": "wandb version 0.16.0 is available!  To upgrade, please run:\n $ pip install wandb --upgrade"
     },
     "metadata": {}
    },
    {
     "output_type": "display_data",
     "data": {
      "text/plain": "<IPython.core.display.HTML object>",
      "text/html": "Tracking run with wandb version 0.15.12"
     },
     "metadata": {}
    },
    {
     "output_type": "display_data",
     "data": {
      "text/plain": "<IPython.core.display.HTML object>",
      "text/html": "Run data is saved locally in <code>/kaggle/working/wandb/run-20231113_211246-0dl94gup</code>"
     },
     "metadata": {}
    },
    {
     "output_type": "display_data",
     "data": {
      "text/plain": "<IPython.core.display.HTML object>",
      "text/html": "Syncing run <strong><a href='https://wandb.ai/rodion-chernomordin/deep_learning_hw2/runs/0dl94gup' target=\"_blank\">val data</a></strong> to <a href='https://wandb.ai/rodion-chernomordin/deep_learning_hw2' target=\"_blank\">Weights & Biases</a> (<a href='https://wandb.me/run' target=\"_blank\">docs</a>)<br/>"
     },
     "metadata": {}
    },
    {
     "output_type": "display_data",
     "data": {
      "text/plain": "<IPython.core.display.HTML object>",
      "text/html": " View project at <a href='https://wandb.ai/rodion-chernomordin/deep_learning_hw2' target=\"_blank\">https://wandb.ai/rodion-chernomordin/deep_learning_hw2</a>"
     },
     "metadata": {}
    },
    {
     "output_type": "display_data",
     "data": {
      "text/plain": "<IPython.core.display.HTML object>",
      "text/html": " View run at <a href='https://wandb.ai/rodion-chernomordin/deep_learning_hw2/runs/0dl94gup' target=\"_blank\">https://wandb.ai/rodion-chernomordin/deep_learning_hw2/runs/0dl94gup</a>"
     },
     "metadata": {}
    },
    {
     "name": "stdout",
     "text": "Epoch 12\n train loss: 0.7975517747280149, train acc: 0.7234468856098198\n val loss: 0.9008484012268959, val acc: 0.6918882978723404\n\n",
     "output_type": "stream"
    },
    {
     "output_type": "display_data",
     "data": {
      "text/plain": "<IPython.core.display.HTML object>",
      "text/html": "Finishing last run (ID:0dl94gup) before initializing another..."
     },
     "metadata": {}
    },
    {
     "output_type": "display_data",
     "data": {
      "text/plain": "<IPython.core.display.HTML object>",
      "text/html": "Waiting for W&B process to finish... <strong style=\"color:green\">(success).</strong>"
     },
     "metadata": {}
    },
    {
     "output_type": "display_data",
     "data": {
      "text/plain": "VBox(children=(Label(value='0.047 MB of 0.047 MB uploaded (0.000 MB deduped)\\r'), FloatProgress(value=1.0, max…",
      "application/vnd.jupyter.widget-view+json": {
       "version_major": 2,
       "version_minor": 0,
       "model_id": "8145857da0554de6ac73744c9e55470c"
      }
     },
     "metadata": {}
    },
    {
     "output_type": "display_data",
     "data": {
      "text/plain": "<IPython.core.display.HTML object>",
      "text/html": " View run <strong style=\"color:#cdcd00\">val data</strong> at: <a href='https://wandb.ai/rodion-chernomordin/deep_learning_hw2/runs/0dl94gup' target=\"_blank\">https://wandb.ai/rodion-chernomordin/deep_learning_hw2/runs/0dl94gup</a><br/>Synced 6 W&B file(s), 2 media file(s), 2 artifact file(s) and 0 other file(s)"
     },
     "metadata": {}
    },
    {
     "output_type": "display_data",
     "data": {
      "text/plain": "<IPython.core.display.HTML object>",
      "text/html": "Find logs at: <code>./wandb/run-20231113_211246-0dl94gup/logs</code>"
     },
     "metadata": {}
    },
    {
     "output_type": "display_data",
     "data": {
      "text/plain": "<IPython.core.display.HTML object>",
      "text/html": "Successfully finished last run (ID:0dl94gup). Initializing new run:<br/>"
     },
     "metadata": {}
    },
    {
     "output_type": "display_data",
     "data": {
      "text/plain": "<IPython.core.display.HTML object>",
      "text/html": "wandb version 0.16.0 is available!  To upgrade, please run:\n $ pip install wandb --upgrade"
     },
     "metadata": {}
    },
    {
     "output_type": "display_data",
     "data": {
      "text/plain": "<IPython.core.display.HTML object>",
      "text/html": "Tracking run with wandb version 0.15.12"
     },
     "metadata": {}
    },
    {
     "output_type": "display_data",
     "data": {
      "text/plain": "<IPython.core.display.HTML object>",
      "text/html": "Run data is saved locally in <code>/kaggle/working/wandb/run-20231113_211439-05s5owb1</code>"
     },
     "metadata": {}
    },
    {
     "output_type": "display_data",
     "data": {
      "text/plain": "<IPython.core.display.HTML object>",
      "text/html": "Syncing run <strong><a href='https://wandb.ai/rodion-chernomordin/deep_learning_hw2/runs/05s5owb1' target=\"_blank\">train data</a></strong> to <a href='https://wandb.ai/rodion-chernomordin/deep_learning_hw2' target=\"_blank\">Weights & Biases</a> (<a href='https://wandb.me/run' target=\"_blank\">docs</a>)<br/>"
     },
     "metadata": {}
    },
    {
     "output_type": "display_data",
     "data": {
      "text/plain": "<IPython.core.display.HTML object>",
      "text/html": " View project at <a href='https://wandb.ai/rodion-chernomordin/deep_learning_hw2' target=\"_blank\">https://wandb.ai/rodion-chernomordin/deep_learning_hw2</a>"
     },
     "metadata": {}
    },
    {
     "output_type": "display_data",
     "data": {
      "text/plain": "<IPython.core.display.HTML object>",
      "text/html": " View run at <a href='https://wandb.ai/rodion-chernomordin/deep_learning_hw2/runs/05s5owb1' target=\"_blank\">https://wandb.ai/rodion-chernomordin/deep_learning_hw2/runs/05s5owb1</a>"
     },
     "metadata": {}
    },
    {
     "output_type": "display_data",
     "data": {
      "text/plain": "<IPython.core.display.HTML object>",
      "text/html": "Finishing last run (ID:05s5owb1) before initializing another..."
     },
     "metadata": {}
    },
    {
     "output_type": "display_data",
     "data": {
      "text/plain": "<IPython.core.display.HTML object>",
      "text/html": "Waiting for W&B process to finish... <strong style=\"color:green\">(success).</strong>"
     },
     "metadata": {}
    },
    {
     "output_type": "display_data",
     "data": {
      "text/plain": "<IPython.core.display.HTML object>",
      "text/html": " View run <strong style=\"color:#cdcd00\">train data</strong> at: <a href='https://wandb.ai/rodion-chernomordin/deep_learning_hw2/runs/05s5owb1' target=\"_blank\">https://wandb.ai/rodion-chernomordin/deep_learning_hw2/runs/05s5owb1</a><br/>Synced 5 W&B file(s), 2 media file(s), 2 artifact file(s) and 0 other file(s)"
     },
     "metadata": {}
    },
    {
     "output_type": "display_data",
     "data": {
      "text/plain": "<IPython.core.display.HTML object>",
      "text/html": "Find logs at: <code>./wandb/run-20231113_211439-05s5owb1/logs</code>"
     },
     "metadata": {}
    },
    {
     "output_type": "display_data",
     "data": {
      "text/plain": "<IPython.core.display.HTML object>",
      "text/html": "Successfully finished last run (ID:05s5owb1). Initializing new run:<br/>"
     },
     "metadata": {}
    },
    {
     "output_type": "display_data",
     "data": {
      "text/plain": "<IPython.core.display.HTML object>",
      "text/html": "wandb version 0.16.0 is available!  To upgrade, please run:\n $ pip install wandb --upgrade"
     },
     "metadata": {}
    },
    {
     "output_type": "display_data",
     "data": {
      "text/plain": "<IPython.core.display.HTML object>",
      "text/html": "Tracking run with wandb version 0.15.12"
     },
     "metadata": {}
    },
    {
     "output_type": "display_data",
     "data": {
      "text/plain": "<IPython.core.display.HTML object>",
      "text/html": "Run data is saved locally in <code>/kaggle/working/wandb/run-20231113_211517-8eizvj5a</code>"
     },
     "metadata": {}
    },
    {
     "output_type": "display_data",
     "data": {
      "text/plain": "<IPython.core.display.HTML object>",
      "text/html": "Syncing run <strong><a href='https://wandb.ai/rodion-chernomordin/deep_learning_hw2/runs/8eizvj5a' target=\"_blank\">val data</a></strong> to <a href='https://wandb.ai/rodion-chernomordin/deep_learning_hw2' target=\"_blank\">Weights & Biases</a> (<a href='https://wandb.me/run' target=\"_blank\">docs</a>)<br/>"
     },
     "metadata": {}
    },
    {
     "output_type": "display_data",
     "data": {
      "text/plain": "<IPython.core.display.HTML object>",
      "text/html": " View project at <a href='https://wandb.ai/rodion-chernomordin/deep_learning_hw2' target=\"_blank\">https://wandb.ai/rodion-chernomordin/deep_learning_hw2</a>"
     },
     "metadata": {}
    },
    {
     "output_type": "display_data",
     "data": {
      "text/plain": "<IPython.core.display.HTML object>",
      "text/html": " View run at <a href='https://wandb.ai/rodion-chernomordin/deep_learning_hw2/runs/8eizvj5a' target=\"_blank\">https://wandb.ai/rodion-chernomordin/deep_learning_hw2/runs/8eizvj5a</a>"
     },
     "metadata": {}
    },
    {
     "name": "stdout",
     "text": "Epoch 13\n train loss: 0.7907417717319956, train acc: 0.7265237333507443\n val loss: 0.9021198031750132, val acc: 0.6945700354609928\n\n",
     "output_type": "stream"
    },
    {
     "output_type": "display_data",
     "data": {
      "text/plain": "<IPython.core.display.HTML object>",
      "text/html": "Finishing last run (ID:8eizvj5a) before initializing another..."
     },
     "metadata": {}
    },
    {
     "output_type": "display_data",
     "data": {
      "text/plain": "<IPython.core.display.HTML object>",
      "text/html": "Waiting for W&B process to finish... <strong style=\"color:green\">(success).</strong>"
     },
     "metadata": {}
    },
    {
     "output_type": "display_data",
     "data": {
      "text/plain": "VBox(children=(Label(value='0.003 MB of 0.047 MB uploaded (0.000 MB deduped)\\r'), FloatProgress(value=0.072444…",
      "application/vnd.jupyter.widget-view+json": {
       "version_major": 2,
       "version_minor": 0,
       "model_id": "744055b93a374535acec5c1dd378772d"
      }
     },
     "metadata": {}
    },
    {
     "output_type": "display_data",
     "data": {
      "text/plain": "<IPython.core.display.HTML object>",
      "text/html": " View run <strong style=\"color:#cdcd00\">val data</strong> at: <a href='https://wandb.ai/rodion-chernomordin/deep_learning_hw2/runs/8eizvj5a' target=\"_blank\">https://wandb.ai/rodion-chernomordin/deep_learning_hw2/runs/8eizvj5a</a><br/>Synced 6 W&B file(s), 2 media file(s), 2 artifact file(s) and 0 other file(s)"
     },
     "metadata": {}
    },
    {
     "output_type": "display_data",
     "data": {
      "text/plain": "<IPython.core.display.HTML object>",
      "text/html": "Find logs at: <code>./wandb/run-20231113_211517-8eizvj5a/logs</code>"
     },
     "metadata": {}
    },
    {
     "output_type": "display_data",
     "data": {
      "text/plain": "<IPython.core.display.HTML object>",
      "text/html": "Successfully finished last run (ID:8eizvj5a). Initializing new run:<br/>"
     },
     "metadata": {}
    },
    {
     "output_type": "display_data",
     "data": {
      "text/plain": "<IPython.core.display.HTML object>",
      "text/html": "wandb version 0.16.0 is available!  To upgrade, please run:\n $ pip install wandb --upgrade"
     },
     "metadata": {}
    },
    {
     "output_type": "display_data",
     "data": {
      "text/plain": "<IPython.core.display.HTML object>",
      "text/html": "Tracking run with wandb version 0.15.12"
     },
     "metadata": {}
    },
    {
     "output_type": "display_data",
     "data": {
      "text/plain": "<IPython.core.display.HTML object>",
      "text/html": "Run data is saved locally in <code>/kaggle/working/wandb/run-20231113_211713-2taane7x</code>"
     },
     "metadata": {}
    },
    {
     "output_type": "display_data",
     "data": {
      "text/plain": "<IPython.core.display.HTML object>",
      "text/html": "Syncing run <strong><a href='https://wandb.ai/rodion-chernomordin/deep_learning_hw2/runs/2taane7x' target=\"_blank\">train data</a></strong> to <a href='https://wandb.ai/rodion-chernomordin/deep_learning_hw2' target=\"_blank\">Weights & Biases</a> (<a href='https://wandb.me/run' target=\"_blank\">docs</a>)<br/>"
     },
     "metadata": {}
    },
    {
     "output_type": "display_data",
     "data": {
      "text/plain": "<IPython.core.display.HTML object>",
      "text/html": " View project at <a href='https://wandb.ai/rodion-chernomordin/deep_learning_hw2' target=\"_blank\">https://wandb.ai/rodion-chernomordin/deep_learning_hw2</a>"
     },
     "metadata": {}
    },
    {
     "output_type": "display_data",
     "data": {
      "text/plain": "<IPython.core.display.HTML object>",
      "text/html": " View run at <a href='https://wandb.ai/rodion-chernomordin/deep_learning_hw2/runs/2taane7x' target=\"_blank\">https://wandb.ai/rodion-chernomordin/deep_learning_hw2/runs/2taane7x</a>"
     },
     "metadata": {}
    },
    {
     "output_type": "display_data",
     "data": {
      "text/plain": "<IPython.core.display.HTML object>",
      "text/html": "Finishing last run (ID:2taane7x) before initializing another..."
     },
     "metadata": {}
    },
    {
     "output_type": "display_data",
     "data": {
      "text/plain": "<IPython.core.display.HTML object>",
      "text/html": "Waiting for W&B process to finish... <strong style=\"color:green\">(success).</strong>"
     },
     "metadata": {}
    },
    {
     "output_type": "display_data",
     "data": {
      "text/plain": "<IPython.core.display.HTML object>",
      "text/html": " View run <strong style=\"color:#cdcd00\">train data</strong> at: <a href='https://wandb.ai/rodion-chernomordin/deep_learning_hw2/runs/2taane7x' target=\"_blank\">https://wandb.ai/rodion-chernomordin/deep_learning_hw2/runs/2taane7x</a><br/>Synced 5 W&B file(s), 2 media file(s), 2 artifact file(s) and 0 other file(s)"
     },
     "metadata": {}
    },
    {
     "output_type": "display_data",
     "data": {
      "text/plain": "<IPython.core.display.HTML object>",
      "text/html": "Find logs at: <code>./wandb/run-20231113_211713-2taane7x/logs</code>"
     },
     "metadata": {}
    },
    {
     "output_type": "display_data",
     "data": {
      "text/plain": "<IPython.core.display.HTML object>",
      "text/html": "Successfully finished last run (ID:2taane7x). Initializing new run:<br/>"
     },
     "metadata": {}
    },
    {
     "output_type": "display_data",
     "data": {
      "text/plain": "<IPython.core.display.HTML object>",
      "text/html": "wandb version 0.16.0 is available!  To upgrade, please run:\n $ pip install wandb --upgrade"
     },
     "metadata": {}
    },
    {
     "output_type": "display_data",
     "data": {
      "text/plain": "<IPython.core.display.HTML object>",
      "text/html": "Tracking run with wandb version 0.15.12"
     },
     "metadata": {}
    },
    {
     "output_type": "display_data",
     "data": {
      "text/plain": "<IPython.core.display.HTML object>",
      "text/html": "Run data is saved locally in <code>/kaggle/working/wandb/run-20231113_211752-d2hhna0o</code>"
     },
     "metadata": {}
    },
    {
     "output_type": "display_data",
     "data": {
      "text/plain": "<IPython.core.display.HTML object>",
      "text/html": "Syncing run <strong><a href='https://wandb.ai/rodion-chernomordin/deep_learning_hw2/runs/d2hhna0o' target=\"_blank\">val data</a></strong> to <a href='https://wandb.ai/rodion-chernomordin/deep_learning_hw2' target=\"_blank\">Weights & Biases</a> (<a href='https://wandb.me/run' target=\"_blank\">docs</a>)<br/>"
     },
     "metadata": {}
    },
    {
     "output_type": "display_data",
     "data": {
      "text/plain": "<IPython.core.display.HTML object>",
      "text/html": " View project at <a href='https://wandb.ai/rodion-chernomordin/deep_learning_hw2' target=\"_blank\">https://wandb.ai/rodion-chernomordin/deep_learning_hw2</a>"
     },
     "metadata": {}
    },
    {
     "output_type": "display_data",
     "data": {
      "text/plain": "<IPython.core.display.HTML object>",
      "text/html": " View run at <a href='https://wandb.ai/rodion-chernomordin/deep_learning_hw2/runs/d2hhna0o' target=\"_blank\">https://wandb.ai/rodion-chernomordin/deep_learning_hw2/runs/d2hhna0o</a>"
     },
     "metadata": {}
    },
    {
     "name": "stdout",
     "text": "Epoch 14\n train loss: 0.7827734800644723, train acc: 0.7290986550013058\n val loss: 0.8578578817083481, val acc: 0.7052304964539008\n\n",
     "output_type": "stream"
    },
    {
     "output_type": "display_data",
     "data": {
      "text/plain": "<IPython.core.display.HTML object>",
      "text/html": "Finishing last run (ID:d2hhna0o) before initializing another..."
     },
     "metadata": {}
    },
    {
     "output_type": "display_data",
     "data": {
      "text/plain": "<IPython.core.display.HTML object>",
      "text/html": "Waiting for W&B process to finish... <strong style=\"color:green\">(success).</strong>"
     },
     "metadata": {}
    },
    {
     "output_type": "display_data",
     "data": {
      "text/plain": "VBox(children=(Label(value='0.003 MB of 0.047 MB uploaded (0.000 MB deduped)\\r'), FloatProgress(value=0.074338…",
      "application/vnd.jupyter.widget-view+json": {
       "version_major": 2,
       "version_minor": 0,
       "model_id": "7f0cd2e9747a451cb9038c819ac1153a"
      }
     },
     "metadata": {}
    },
    {
     "output_type": "display_data",
     "data": {
      "text/plain": "<IPython.core.display.HTML object>",
      "text/html": " View run <strong style=\"color:#cdcd00\">val data</strong> at: <a href='https://wandb.ai/rodion-chernomordin/deep_learning_hw2/runs/d2hhna0o' target=\"_blank\">https://wandb.ai/rodion-chernomordin/deep_learning_hw2/runs/d2hhna0o</a><br/>Synced 6 W&B file(s), 2 media file(s), 2 artifact file(s) and 0 other file(s)"
     },
     "metadata": {}
    },
    {
     "output_type": "display_data",
     "data": {
      "text/plain": "<IPython.core.display.HTML object>",
      "text/html": "Find logs at: <code>./wandb/run-20231113_211752-d2hhna0o/logs</code>"
     },
     "metadata": {}
    },
    {
     "output_type": "display_data",
     "data": {
      "text/plain": "<IPython.core.display.HTML object>",
      "text/html": "Successfully finished last run (ID:d2hhna0o). Initializing new run:<br/>"
     },
     "metadata": {}
    },
    {
     "output_type": "display_data",
     "data": {
      "text/plain": "<IPython.core.display.HTML object>",
      "text/html": "wandb version 0.16.0 is available!  To upgrade, please run:\n $ pip install wandb --upgrade"
     },
     "metadata": {}
    },
    {
     "output_type": "display_data",
     "data": {
      "text/plain": "<IPython.core.display.HTML object>",
      "text/html": "Tracking run with wandb version 0.15.12"
     },
     "metadata": {}
    },
    {
     "output_type": "display_data",
     "data": {
      "text/plain": "<IPython.core.display.HTML object>",
      "text/html": "Run data is saved locally in <code>/kaggle/working/wandb/run-20231113_211947-brr42s65</code>"
     },
     "metadata": {}
    },
    {
     "output_type": "display_data",
     "data": {
      "text/plain": "<IPython.core.display.HTML object>",
      "text/html": "Syncing run <strong><a href='https://wandb.ai/rodion-chernomordin/deep_learning_hw2/runs/brr42s65' target=\"_blank\">train data</a></strong> to <a href='https://wandb.ai/rodion-chernomordin/deep_learning_hw2' target=\"_blank\">Weights & Biases</a> (<a href='https://wandb.me/run' target=\"_blank\">docs</a>)<br/>"
     },
     "metadata": {}
    },
    {
     "output_type": "display_data",
     "data": {
      "text/plain": "<IPython.core.display.HTML object>",
      "text/html": " View project at <a href='https://wandb.ai/rodion-chernomordin/deep_learning_hw2' target=\"_blank\">https://wandb.ai/rodion-chernomordin/deep_learning_hw2</a>"
     },
     "metadata": {}
    },
    {
     "output_type": "display_data",
     "data": {
      "text/plain": "<IPython.core.display.HTML object>",
      "text/html": " View run at <a href='https://wandb.ai/rodion-chernomordin/deep_learning_hw2/runs/brr42s65' target=\"_blank\">https://wandb.ai/rodion-chernomordin/deep_learning_hw2/runs/brr42s65</a>"
     },
     "metadata": {}
    },
    {
     "output_type": "display_data",
     "data": {
      "text/plain": "<IPython.core.display.HTML object>",
      "text/html": "Finishing last run (ID:brr42s65) before initializing another..."
     },
     "metadata": {}
    },
    {
     "output_type": "display_data",
     "data": {
      "text/plain": "<IPython.core.display.HTML object>",
      "text/html": "Waiting for W&B process to finish... <strong style=\"color:green\">(success).</strong>"
     },
     "metadata": {}
    },
    {
     "output_type": "display_data",
     "data": {
      "text/plain": "<IPython.core.display.HTML object>",
      "text/html": " View run <strong style=\"color:#cdcd00\">train data</strong> at: <a href='https://wandb.ai/rodion-chernomordin/deep_learning_hw2/runs/brr42s65' target=\"_blank\">https://wandb.ai/rodion-chernomordin/deep_learning_hw2/runs/brr42s65</a><br/>Synced 5 W&B file(s), 2 media file(s), 2 artifact file(s) and 0 other file(s)"
     },
     "metadata": {}
    },
    {
     "output_type": "display_data",
     "data": {
      "text/plain": "<IPython.core.display.HTML object>",
      "text/html": "Find logs at: <code>./wandb/run-20231113_211947-brr42s65/logs</code>"
     },
     "metadata": {}
    },
    {
     "output_type": "display_data",
     "data": {
      "text/plain": "<IPython.core.display.HTML object>",
      "text/html": "Successfully finished last run (ID:brr42s65). Initializing new run:<br/>"
     },
     "metadata": {}
    },
    {
     "output_type": "display_data",
     "data": {
      "text/plain": "<IPython.core.display.HTML object>",
      "text/html": "wandb version 0.16.0 is available!  To upgrade, please run:\n $ pip install wandb --upgrade"
     },
     "metadata": {}
    },
    {
     "output_type": "display_data",
     "data": {
      "text/plain": "<IPython.core.display.HTML object>",
      "text/html": "Tracking run with wandb version 0.15.12"
     },
     "metadata": {}
    },
    {
     "output_type": "display_data",
     "data": {
      "text/plain": "<IPython.core.display.HTML object>",
      "text/html": "Run data is saved locally in <code>/kaggle/working/wandb/run-20231113_212027-3rodrzc0</code>"
     },
     "metadata": {}
    },
    {
     "output_type": "display_data",
     "data": {
      "text/plain": "<IPython.core.display.HTML object>",
      "text/html": "Syncing run <strong><a href='https://wandb.ai/rodion-chernomordin/deep_learning_hw2/runs/3rodrzc0' target=\"_blank\">val data</a></strong> to <a href='https://wandb.ai/rodion-chernomordin/deep_learning_hw2' target=\"_blank\">Weights & Biases</a> (<a href='https://wandb.me/run' target=\"_blank\">docs</a>)<br/>"
     },
     "metadata": {}
    },
    {
     "output_type": "display_data",
     "data": {
      "text/plain": "<IPython.core.display.HTML object>",
      "text/html": " View project at <a href='https://wandb.ai/rodion-chernomordin/deep_learning_hw2' target=\"_blank\">https://wandb.ai/rodion-chernomordin/deep_learning_hw2</a>"
     },
     "metadata": {}
    },
    {
     "output_type": "display_data",
     "data": {
      "text/plain": "<IPython.core.display.HTML object>",
      "text/html": " View run at <a href='https://wandb.ai/rodion-chernomordin/deep_learning_hw2/runs/3rodrzc0' target=\"_blank\">https://wandb.ai/rodion-chernomordin/deep_learning_hw2/runs/3rodrzc0</a>"
     },
     "metadata": {}
    },
    {
     "name": "stdout",
     "text": "Epoch 15\n train loss: 0.7718595388929412, train acc: 0.7334241969182554\n val loss: 0.8567527801432508, val acc: 0.7070700354609928\n\n",
     "output_type": "stream"
    },
    {
     "output_type": "display_data",
     "data": {
      "text/plain": "<IPython.core.display.HTML object>",
      "text/html": "Finishing last run (ID:3rodrzc0) before initializing another..."
     },
     "metadata": {}
    },
    {
     "output_type": "display_data",
     "data": {
      "text/plain": "<IPython.core.display.HTML object>",
      "text/html": "Waiting for W&B process to finish... <strong style=\"color:green\">(success).</strong>"
     },
     "metadata": {}
    },
    {
     "output_type": "display_data",
     "data": {
      "text/plain": "VBox(children=(Label(value='0.047 MB of 0.047 MB uploaded (0.000 MB deduped)\\r'), FloatProgress(value=1.0, max…",
      "application/vnd.jupyter.widget-view+json": {
       "version_major": 2,
       "version_minor": 0,
       "model_id": "97629232224945489bd0e1c5c5f99a87"
      }
     },
     "metadata": {}
    },
    {
     "output_type": "display_data",
     "data": {
      "text/plain": "<IPython.core.display.HTML object>",
      "text/html": " View run <strong style=\"color:#cdcd00\">val data</strong> at: <a href='https://wandb.ai/rodion-chernomordin/deep_learning_hw2/runs/3rodrzc0' target=\"_blank\">https://wandb.ai/rodion-chernomordin/deep_learning_hw2/runs/3rodrzc0</a><br/>Synced 6 W&B file(s), 2 media file(s), 2 artifact file(s) and 0 other file(s)"
     },
     "metadata": {}
    },
    {
     "output_type": "display_data",
     "data": {
      "text/plain": "<IPython.core.display.HTML object>",
      "text/html": "Find logs at: <code>./wandb/run-20231113_212027-3rodrzc0/logs</code>"
     },
     "metadata": {}
    },
    {
     "output_type": "display_data",
     "data": {
      "text/plain": "<IPython.core.display.HTML object>",
      "text/html": "Successfully finished last run (ID:3rodrzc0). Initializing new run:<br/>"
     },
     "metadata": {}
    },
    {
     "output_type": "display_data",
     "data": {
      "text/plain": "<IPython.core.display.HTML object>",
      "text/html": "wandb version 0.16.0 is available!  To upgrade, please run:\n $ pip install wandb --upgrade"
     },
     "metadata": {}
    },
    {
     "output_type": "display_data",
     "data": {
      "text/plain": "<IPython.core.display.HTML object>",
      "text/html": "Tracking run with wandb version 0.15.12"
     },
     "metadata": {}
    },
    {
     "output_type": "display_data",
     "data": {
      "text/plain": "<IPython.core.display.HTML object>",
      "text/html": "Run data is saved locally in <code>/kaggle/working/wandb/run-20231113_212221-78xm7hdo</code>"
     },
     "metadata": {}
    },
    {
     "output_type": "display_data",
     "data": {
      "text/plain": "<IPython.core.display.HTML object>",
      "text/html": "Syncing run <strong><a href='https://wandb.ai/rodion-chernomordin/deep_learning_hw2/runs/78xm7hdo' target=\"_blank\">train data</a></strong> to <a href='https://wandb.ai/rodion-chernomordin/deep_learning_hw2' target=\"_blank\">Weights & Biases</a> (<a href='https://wandb.me/run' target=\"_blank\">docs</a>)<br/>"
     },
     "metadata": {}
    },
    {
     "output_type": "display_data",
     "data": {
      "text/plain": "<IPython.core.display.HTML object>",
      "text/html": " View project at <a href='https://wandb.ai/rodion-chernomordin/deep_learning_hw2' target=\"_blank\">https://wandb.ai/rodion-chernomordin/deep_learning_hw2</a>"
     },
     "metadata": {}
    },
    {
     "output_type": "display_data",
     "data": {
      "text/plain": "<IPython.core.display.HTML object>",
      "text/html": " View run at <a href='https://wandb.ai/rodion-chernomordin/deep_learning_hw2/runs/78xm7hdo' target=\"_blank\">https://wandb.ai/rodion-chernomordin/deep_learning_hw2/runs/78xm7hdo</a>"
     },
     "metadata": {}
    },
    {
     "output_type": "display_data",
     "data": {
      "text/plain": "<IPython.core.display.HTML object>",
      "text/html": "Finishing last run (ID:78xm7hdo) before initializing another..."
     },
     "metadata": {}
    },
    {
     "output_type": "display_data",
     "data": {
      "text/plain": "<IPython.core.display.HTML object>",
      "text/html": "Waiting for W&B process to finish... <strong style=\"color:green\">(success).</strong>"
     },
     "metadata": {}
    },
    {
     "output_type": "display_data",
     "data": {
      "text/plain": "<IPython.core.display.HTML object>",
      "text/html": " View run <strong style=\"color:#cdcd00\">train data</strong> at: <a href='https://wandb.ai/rodion-chernomordin/deep_learning_hw2/runs/78xm7hdo' target=\"_blank\">https://wandb.ai/rodion-chernomordin/deep_learning_hw2/runs/78xm7hdo</a><br/>Synced 5 W&B file(s), 2 media file(s), 2 artifact file(s) and 0 other file(s)"
     },
     "metadata": {}
    },
    {
     "output_type": "display_data",
     "data": {
      "text/plain": "<IPython.core.display.HTML object>",
      "text/html": "Find logs at: <code>./wandb/run-20231113_212221-78xm7hdo/logs</code>"
     },
     "metadata": {}
    },
    {
     "output_type": "display_data",
     "data": {
      "text/plain": "<IPython.core.display.HTML object>",
      "text/html": "Successfully finished last run (ID:78xm7hdo). Initializing new run:<br/>"
     },
     "metadata": {}
    },
    {
     "output_type": "display_data",
     "data": {
      "text/plain": "<IPython.core.display.HTML object>",
      "text/html": "wandb version 0.16.0 is available!  To upgrade, please run:\n $ pip install wandb --upgrade"
     },
     "metadata": {}
    },
    {
     "output_type": "display_data",
     "data": {
      "text/plain": "<IPython.core.display.HTML object>",
      "text/html": "Tracking run with wandb version 0.15.12"
     },
     "metadata": {}
    },
    {
     "output_type": "display_data",
     "data": {
      "text/plain": "<IPython.core.display.HTML object>",
      "text/html": "Run data is saved locally in <code>/kaggle/working/wandb/run-20231113_212300-2to5nbkk</code>"
     },
     "metadata": {}
    },
    {
     "output_type": "display_data",
     "data": {
      "text/plain": "<IPython.core.display.HTML object>",
      "text/html": "Syncing run <strong><a href='https://wandb.ai/rodion-chernomordin/deep_learning_hw2/runs/2to5nbkk' target=\"_blank\">val data</a></strong> to <a href='https://wandb.ai/rodion-chernomordin/deep_learning_hw2' target=\"_blank\">Weights & Biases</a> (<a href='https://wandb.me/run' target=\"_blank\">docs</a>)<br/>"
     },
     "metadata": {}
    },
    {
     "output_type": "display_data",
     "data": {
      "text/plain": "<IPython.core.display.HTML object>",
      "text/html": " View project at <a href='https://wandb.ai/rodion-chernomordin/deep_learning_hw2' target=\"_blank\">https://wandb.ai/rodion-chernomordin/deep_learning_hw2</a>"
     },
     "metadata": {}
    },
    {
     "output_type": "display_data",
     "data": {
      "text/plain": "<IPython.core.display.HTML object>",
      "text/html": " View run at <a href='https://wandb.ai/rodion-chernomordin/deep_learning_hw2/runs/2to5nbkk' target=\"_blank\">https://wandb.ai/rodion-chernomordin/deep_learning_hw2/runs/2to5nbkk</a>"
     },
     "metadata": {}
    },
    {
     "name": "stdout",
     "text": "Epoch 16\n train loss: 0.7649465550888173, train acc: 0.7354400626795508\n val loss: 0.97837030710058, val acc: 0.6666223404255319\n\n",
     "output_type": "stream"
    },
    {
     "output_type": "display_data",
     "data": {
      "text/plain": "<IPython.core.display.HTML object>",
      "text/html": "Finishing last run (ID:2to5nbkk) before initializing another..."
     },
     "metadata": {}
    },
    {
     "output_type": "display_data",
     "data": {
      "text/plain": "<IPython.core.display.HTML object>",
      "text/html": "Waiting for W&B process to finish... <strong style=\"color:green\">(success).</strong>"
     },
     "metadata": {}
    },
    {
     "output_type": "display_data",
     "data": {
      "text/plain": "<IPython.core.display.HTML object>",
      "text/html": " View run <strong style=\"color:#cdcd00\">val data</strong> at: <a href='https://wandb.ai/rodion-chernomordin/deep_learning_hw2/runs/2to5nbkk' target=\"_blank\">https://wandb.ai/rodion-chernomordin/deep_learning_hw2/runs/2to5nbkk</a><br/>Synced 6 W&B file(s), 2 media file(s), 2 artifact file(s) and 0 other file(s)"
     },
     "metadata": {}
    },
    {
     "output_type": "display_data",
     "data": {
      "text/plain": "<IPython.core.display.HTML object>",
      "text/html": "Find logs at: <code>./wandb/run-20231113_212300-2to5nbkk/logs</code>"
     },
     "metadata": {}
    },
    {
     "output_type": "display_data",
     "data": {
      "text/plain": "<IPython.core.display.HTML object>",
      "text/html": "Successfully finished last run (ID:2to5nbkk). Initializing new run:<br/>"
     },
     "metadata": {}
    },
    {
     "output_type": "display_data",
     "data": {
      "text/plain": "<IPython.core.display.HTML object>",
      "text/html": "wandb version 0.16.0 is available!  To upgrade, please run:\n $ pip install wandb --upgrade"
     },
     "metadata": {}
    },
    {
     "output_type": "display_data",
     "data": {
      "text/plain": "<IPython.core.display.HTML object>",
      "text/html": "Tracking run with wandb version 0.15.12"
     },
     "metadata": {}
    },
    {
     "output_type": "display_data",
     "data": {
      "text/plain": "<IPython.core.display.HTML object>",
      "text/html": "Run data is saved locally in <code>/kaggle/working/wandb/run-20231113_212453-ojcep1hd</code>"
     },
     "metadata": {}
    },
    {
     "output_type": "display_data",
     "data": {
      "text/plain": "<IPython.core.display.HTML object>",
      "text/html": "Syncing run <strong><a href='https://wandb.ai/rodion-chernomordin/deep_learning_hw2/runs/ojcep1hd' target=\"_blank\">train data</a></strong> to <a href='https://wandb.ai/rodion-chernomordin/deep_learning_hw2' target=\"_blank\">Weights & Biases</a> (<a href='https://wandb.me/run' target=\"_blank\">docs</a>)<br/>"
     },
     "metadata": {}
    },
    {
     "output_type": "display_data",
     "data": {
      "text/plain": "<IPython.core.display.HTML object>",
      "text/html": " View project at <a href='https://wandb.ai/rodion-chernomordin/deep_learning_hw2' target=\"_blank\">https://wandb.ai/rodion-chernomordin/deep_learning_hw2</a>"
     },
     "metadata": {}
    },
    {
     "output_type": "display_data",
     "data": {
      "text/plain": "<IPython.core.display.HTML object>",
      "text/html": " View run at <a href='https://wandb.ai/rodion-chernomordin/deep_learning_hw2/runs/ojcep1hd' target=\"_blank\">https://wandb.ai/rodion-chernomordin/deep_learning_hw2/runs/ojcep1hd</a>"
     },
     "metadata": {}
    },
    {
     "output_type": "display_data",
     "data": {
      "text/plain": "<IPython.core.display.HTML object>",
      "text/html": "Finishing last run (ID:ojcep1hd) before initializing another..."
     },
     "metadata": {}
    },
    {
     "output_type": "display_data",
     "data": {
      "text/plain": "<IPython.core.display.HTML object>",
      "text/html": "Waiting for W&B process to finish... <strong style=\"color:green\">(success).</strong>"
     },
     "metadata": {}
    },
    {
     "output_type": "display_data",
     "data": {
      "text/plain": "<IPython.core.display.HTML object>",
      "text/html": " View run <strong style=\"color:#cdcd00\">train data</strong> at: <a href='https://wandb.ai/rodion-chernomordin/deep_learning_hw2/runs/ojcep1hd' target=\"_blank\">https://wandb.ai/rodion-chernomordin/deep_learning_hw2/runs/ojcep1hd</a><br/>Synced 5 W&B file(s), 2 media file(s), 2 artifact file(s) and 0 other file(s)"
     },
     "metadata": {}
    },
    {
     "output_type": "display_data",
     "data": {
      "text/plain": "<IPython.core.display.HTML object>",
      "text/html": "Find logs at: <code>./wandb/run-20231113_212453-ojcep1hd/logs</code>"
     },
     "metadata": {}
    },
    {
     "output_type": "display_data",
     "data": {
      "text/plain": "<IPython.core.display.HTML object>",
      "text/html": "Successfully finished last run (ID:ojcep1hd). Initializing new run:<br/>"
     },
     "metadata": {}
    },
    {
     "output_type": "display_data",
     "data": {
      "text/plain": "<IPython.core.display.HTML object>",
      "text/html": "wandb version 0.16.0 is available!  To upgrade, please run:\n $ pip install wandb --upgrade"
     },
     "metadata": {}
    },
    {
     "output_type": "display_data",
     "data": {
      "text/plain": "<IPython.core.display.HTML object>",
      "text/html": "Tracking run with wandb version 0.15.12"
     },
     "metadata": {}
    },
    {
     "output_type": "display_data",
     "data": {
      "text/plain": "<IPython.core.display.HTML object>",
      "text/html": "Run data is saved locally in <code>/kaggle/working/wandb/run-20231113_212535-bx8ym7kr</code>"
     },
     "metadata": {}
    },
    {
     "output_type": "display_data",
     "data": {
      "text/plain": "<IPython.core.display.HTML object>",
      "text/html": "Syncing run <strong><a href='https://wandb.ai/rodion-chernomordin/deep_learning_hw2/runs/bx8ym7kr' target=\"_blank\">val data</a></strong> to <a href='https://wandb.ai/rodion-chernomordin/deep_learning_hw2' target=\"_blank\">Weights & Biases</a> (<a href='https://wandb.me/run' target=\"_blank\">docs</a>)<br/>"
     },
     "metadata": {}
    },
    {
     "output_type": "display_data",
     "data": {
      "text/plain": "<IPython.core.display.HTML object>",
      "text/html": " View project at <a href='https://wandb.ai/rodion-chernomordin/deep_learning_hw2' target=\"_blank\">https://wandb.ai/rodion-chernomordin/deep_learning_hw2</a>"
     },
     "metadata": {}
    },
    {
     "output_type": "display_data",
     "data": {
      "text/plain": "<IPython.core.display.HTML object>",
      "text/html": " View run at <a href='https://wandb.ai/rodion-chernomordin/deep_learning_hw2/runs/bx8ym7kr' target=\"_blank\">https://wandb.ai/rodion-chernomordin/deep_learning_hw2/runs/bx8ym7kr</a>"
     },
     "metadata": {}
    },
    {
     "name": "stdout",
     "text": "Epoch 17\n train loss: 0.7531864085188732, train acc: 0.7384230543222774\n val loss: 0.865901524969872, val acc: 0.7095079787234042\n\n",
     "output_type": "stream"
    },
    {
     "output_type": "display_data",
     "data": {
      "text/plain": "<IPython.core.display.HTML object>",
      "text/html": "Finishing last run (ID:bx8ym7kr) before initializing another..."
     },
     "metadata": {}
    },
    {
     "output_type": "display_data",
     "data": {
      "text/plain": "<IPython.core.display.HTML object>",
      "text/html": "Waiting for W&B process to finish... <strong style=\"color:green\">(success).</strong>"
     },
     "metadata": {}
    },
    {
     "output_type": "display_data",
     "data": {
      "text/plain": "VBox(children=(Label(value='0.004 MB of 0.047 MB uploaded (0.000 MB deduped)\\r'), FloatProgress(value=0.080487…",
      "application/vnd.jupyter.widget-view+json": {
       "version_major": 2,
       "version_minor": 0,
       "model_id": "2fb0b52218ea4e08a9bbee551c177d74"
      }
     },
     "metadata": {}
    },
    {
     "output_type": "display_data",
     "data": {
      "text/plain": "<IPython.core.display.HTML object>",
      "text/html": " View run <strong style=\"color:#cdcd00\">val data</strong> at: <a href='https://wandb.ai/rodion-chernomordin/deep_learning_hw2/runs/bx8ym7kr' target=\"_blank\">https://wandb.ai/rodion-chernomordin/deep_learning_hw2/runs/bx8ym7kr</a><br/>Synced 6 W&B file(s), 2 media file(s), 2 artifact file(s) and 0 other file(s)"
     },
     "metadata": {}
    },
    {
     "output_type": "display_data",
     "data": {
      "text/plain": "<IPython.core.display.HTML object>",
      "text/html": "Find logs at: <code>./wandb/run-20231113_212535-bx8ym7kr/logs</code>"
     },
     "metadata": {}
    },
    {
     "output_type": "display_data",
     "data": {
      "text/plain": "<IPython.core.display.HTML object>",
      "text/html": "Successfully finished last run (ID:bx8ym7kr). Initializing new run:<br/>"
     },
     "metadata": {}
    },
    {
     "output_type": "display_data",
     "data": {
      "text/plain": "<IPython.core.display.HTML object>",
      "text/html": "wandb version 0.16.0 is available!  To upgrade, please run:\n $ pip install wandb --upgrade"
     },
     "metadata": {}
    },
    {
     "output_type": "display_data",
     "data": {
      "text/plain": "<IPython.core.display.HTML object>",
      "text/html": "Tracking run with wandb version 0.15.12"
     },
     "metadata": {}
    },
    {
     "output_type": "display_data",
     "data": {
      "text/plain": "<IPython.core.display.HTML object>",
      "text/html": "Run data is saved locally in <code>/kaggle/working/wandb/run-20231113_212727-i6d9p85q</code>"
     },
     "metadata": {}
    },
    {
     "output_type": "display_data",
     "data": {
      "text/plain": "<IPython.core.display.HTML object>",
      "text/html": "Syncing run <strong><a href='https://wandb.ai/rodion-chernomordin/deep_learning_hw2/runs/i6d9p85q' target=\"_blank\">train data</a></strong> to <a href='https://wandb.ai/rodion-chernomordin/deep_learning_hw2' target=\"_blank\">Weights & Biases</a> (<a href='https://wandb.me/run' target=\"_blank\">docs</a>)<br/>"
     },
     "metadata": {}
    },
    {
     "output_type": "display_data",
     "data": {
      "text/plain": "<IPython.core.display.HTML object>",
      "text/html": " View project at <a href='https://wandb.ai/rodion-chernomordin/deep_learning_hw2' target=\"_blank\">https://wandb.ai/rodion-chernomordin/deep_learning_hw2</a>"
     },
     "metadata": {}
    },
    {
     "output_type": "display_data",
     "data": {
      "text/plain": "<IPython.core.display.HTML object>",
      "text/html": " View run at <a href='https://wandb.ai/rodion-chernomordin/deep_learning_hw2/runs/i6d9p85q' target=\"_blank\">https://wandb.ai/rodion-chernomordin/deep_learning_hw2/runs/i6d9p85q</a>"
     },
     "metadata": {}
    },
    {
     "output_type": "display_data",
     "data": {
      "text/plain": "<IPython.core.display.HTML object>",
      "text/html": "Finishing last run (ID:i6d9p85q) before initializing another..."
     },
     "metadata": {}
    },
    {
     "output_type": "display_data",
     "data": {
      "text/plain": "<IPython.core.display.HTML object>",
      "text/html": "Waiting for W&B process to finish... <strong style=\"color:green\">(success).</strong>"
     },
     "metadata": {}
    },
    {
     "output_type": "display_data",
     "data": {
      "text/plain": "<IPython.core.display.HTML object>",
      "text/html": " View run <strong style=\"color:#cdcd00\">train data</strong> at: <a href='https://wandb.ai/rodion-chernomordin/deep_learning_hw2/runs/i6d9p85q' target=\"_blank\">https://wandb.ai/rodion-chernomordin/deep_learning_hw2/runs/i6d9p85q</a><br/>Synced 5 W&B file(s), 2 media file(s), 2 artifact file(s) and 0 other file(s)"
     },
     "metadata": {}
    },
    {
     "output_type": "display_data",
     "data": {
      "text/plain": "<IPython.core.display.HTML object>",
      "text/html": "Find logs at: <code>./wandb/run-20231113_212727-i6d9p85q/logs</code>"
     },
     "metadata": {}
    },
    {
     "output_type": "display_data",
     "data": {
      "text/plain": "<IPython.core.display.HTML object>",
      "text/html": "Successfully finished last run (ID:i6d9p85q). Initializing new run:<br/>"
     },
     "metadata": {}
    },
    {
     "output_type": "display_data",
     "data": {
      "text/plain": "<IPython.core.display.HTML object>",
      "text/html": "wandb version 0.16.0 is available!  To upgrade, please run:\n $ pip install wandb --upgrade"
     },
     "metadata": {}
    },
    {
     "output_type": "display_data",
     "data": {
      "text/plain": "<IPython.core.display.HTML object>",
      "text/html": "Tracking run with wandb version 0.15.12"
     },
     "metadata": {}
    },
    {
     "output_type": "display_data",
     "data": {
      "text/plain": "<IPython.core.display.HTML object>",
      "text/html": "Run data is saved locally in <code>/kaggle/working/wandb/run-20231113_212807-blw4c6u6</code>"
     },
     "metadata": {}
    },
    {
     "output_type": "display_data",
     "data": {
      "text/plain": "<IPython.core.display.HTML object>",
      "text/html": "Syncing run <strong><a href='https://wandb.ai/rodion-chernomordin/deep_learning_hw2/runs/blw4c6u6' target=\"_blank\">val data</a></strong> to <a href='https://wandb.ai/rodion-chernomordin/deep_learning_hw2' target=\"_blank\">Weights & Biases</a> (<a href='https://wandb.me/run' target=\"_blank\">docs</a>)<br/>"
     },
     "metadata": {}
    },
    {
     "output_type": "display_data",
     "data": {
      "text/plain": "<IPython.core.display.HTML object>",
      "text/html": " View project at <a href='https://wandb.ai/rodion-chernomordin/deep_learning_hw2' target=\"_blank\">https://wandb.ai/rodion-chernomordin/deep_learning_hw2</a>"
     },
     "metadata": {}
    },
    {
     "output_type": "display_data",
     "data": {
      "text/plain": "<IPython.core.display.HTML object>",
      "text/html": " View run at <a href='https://wandb.ai/rodion-chernomordin/deep_learning_hw2/runs/blw4c6u6' target=\"_blank\">https://wandb.ai/rodion-chernomordin/deep_learning_hw2/runs/blw4c6u6</a>"
     },
     "metadata": {}
    },
    {
     "name": "stdout",
     "text": "Epoch 18\n train loss: 0.7480755908179763, train acc: 0.7414223687646906\n val loss: 0.8715662910583172, val acc: 0.7013741134751774\n\n",
     "output_type": "stream"
    },
    {
     "output_type": "display_data",
     "data": {
      "text/plain": "<IPython.core.display.HTML object>",
      "text/html": "Finishing last run (ID:blw4c6u6) before initializing another..."
     },
     "metadata": {}
    },
    {
     "output_type": "display_data",
     "data": {
      "text/plain": "<IPython.core.display.HTML object>",
      "text/html": "Waiting for W&B process to finish... <strong style=\"color:green\">(success).</strong>"
     },
     "metadata": {}
    },
    {
     "output_type": "display_data",
     "data": {
      "text/plain": "VBox(children=(Label(value='0.004 MB of 0.004 MB uploaded (0.000 MB deduped)\\r'), FloatProgress(value=1.0, max…",
      "application/vnd.jupyter.widget-view+json": {
       "version_major": 2,
       "version_minor": 0,
       "model_id": "de1db9cd1a114f138882e18375a92979"
      }
     },
     "metadata": {}
    },
    {
     "output_type": "display_data",
     "data": {
      "text/plain": "<IPython.core.display.HTML object>",
      "text/html": " View run <strong style=\"color:#cdcd00\">val data</strong> at: <a href='https://wandb.ai/rodion-chernomordin/deep_learning_hw2/runs/blw4c6u6' target=\"_blank\">https://wandb.ai/rodion-chernomordin/deep_learning_hw2/runs/blw4c6u6</a><br/>Synced 6 W&B file(s), 2 media file(s), 2 artifact file(s) and 0 other file(s)"
     },
     "metadata": {}
    },
    {
     "output_type": "display_data",
     "data": {
      "text/plain": "<IPython.core.display.HTML object>",
      "text/html": "Find logs at: <code>./wandb/run-20231113_212807-blw4c6u6/logs</code>"
     },
     "metadata": {}
    },
    {
     "output_type": "display_data",
     "data": {
      "text/plain": "<IPython.core.display.HTML object>",
      "text/html": "Successfully finished last run (ID:blw4c6u6). Initializing new run:<br/>"
     },
     "metadata": {}
    },
    {
     "output_type": "display_data",
     "data": {
      "text/plain": "<IPython.core.display.HTML object>",
      "text/html": "wandb version 0.16.0 is available!  To upgrade, please run:\n $ pip install wandb --upgrade"
     },
     "metadata": {}
    },
    {
     "output_type": "display_data",
     "data": {
      "text/plain": "<IPython.core.display.HTML object>",
      "text/html": "Tracking run with wandb version 0.15.12"
     },
     "metadata": {}
    },
    {
     "output_type": "display_data",
     "data": {
      "text/plain": "<IPython.core.display.HTML object>",
      "text/html": "Run data is saved locally in <code>/kaggle/working/wandb/run-20231113_213002-hcnpz1ai</code>"
     },
     "metadata": {}
    },
    {
     "output_type": "display_data",
     "data": {
      "text/plain": "<IPython.core.display.HTML object>",
      "text/html": "Syncing run <strong><a href='https://wandb.ai/rodion-chernomordin/deep_learning_hw2/runs/hcnpz1ai' target=\"_blank\">train data</a></strong> to <a href='https://wandb.ai/rodion-chernomordin/deep_learning_hw2' target=\"_blank\">Weights & Biases</a> (<a href='https://wandb.me/run' target=\"_blank\">docs</a>)<br/>"
     },
     "metadata": {}
    },
    {
     "output_type": "display_data",
     "data": {
      "text/plain": "<IPython.core.display.HTML object>",
      "text/html": " View project at <a href='https://wandb.ai/rodion-chernomordin/deep_learning_hw2' target=\"_blank\">https://wandb.ai/rodion-chernomordin/deep_learning_hw2</a>"
     },
     "metadata": {}
    },
    {
     "output_type": "display_data",
     "data": {
      "text/plain": "<IPython.core.display.HTML object>",
      "text/html": " View run at <a href='https://wandb.ai/rodion-chernomordin/deep_learning_hw2/runs/hcnpz1ai' target=\"_blank\">https://wandb.ai/rodion-chernomordin/deep_learning_hw2/runs/hcnpz1ai</a>"
     },
     "metadata": {}
    },
    {
     "output_type": "display_data",
     "data": {
      "text/plain": "<IPython.core.display.HTML object>",
      "text/html": "Finishing last run (ID:hcnpz1ai) before initializing another..."
     },
     "metadata": {}
    },
    {
     "output_type": "display_data",
     "data": {
      "text/plain": "<IPython.core.display.HTML object>",
      "text/html": "Waiting for W&B process to finish... <strong style=\"color:green\">(success).</strong>"
     },
     "metadata": {}
    },
    {
     "output_type": "display_data",
     "data": {
      "text/plain": "<IPython.core.display.HTML object>",
      "text/html": " View run <strong style=\"color:#cdcd00\">train data</strong> at: <a href='https://wandb.ai/rodion-chernomordin/deep_learning_hw2/runs/hcnpz1ai' target=\"_blank\">https://wandb.ai/rodion-chernomordin/deep_learning_hw2/runs/hcnpz1ai</a><br/>Synced 5 W&B file(s), 2 media file(s), 2 artifact file(s) and 0 other file(s)"
     },
     "metadata": {}
    },
    {
     "output_type": "display_data",
     "data": {
      "text/plain": "<IPython.core.display.HTML object>",
      "text/html": "Find logs at: <code>./wandb/run-20231113_213002-hcnpz1ai/logs</code>"
     },
     "metadata": {}
    },
    {
     "output_type": "display_data",
     "data": {
      "text/plain": "<IPython.core.display.HTML object>",
      "text/html": "Successfully finished last run (ID:hcnpz1ai). Initializing new run:<br/>"
     },
     "metadata": {}
    },
    {
     "output_type": "display_data",
     "data": {
      "text/plain": "VBox(children=(Label(value='Waiting for wandb.init()...\\r'), FloatProgress(value=0.011114407011109505, max=1.0…",
      "application/vnd.jupyter.widget-view+json": {
       "version_major": 2,
       "version_minor": 0,
       "model_id": "b949b1b20cb24689a67099af22d35732"
      }
     },
     "metadata": {}
    },
    {
     "output_type": "display_data",
     "data": {
      "text/plain": "<IPython.core.display.HTML object>",
      "text/html": "wandb version 0.16.0 is available!  To upgrade, please run:\n $ pip install wandb --upgrade"
     },
     "metadata": {}
    },
    {
     "output_type": "display_data",
     "data": {
      "text/plain": "<IPython.core.display.HTML object>",
      "text/html": "Tracking run with wandb version 0.15.12"
     },
     "metadata": {}
    },
    {
     "output_type": "display_data",
     "data": {
      "text/plain": "<IPython.core.display.HTML object>",
      "text/html": "Run data is saved locally in <code>/kaggle/working/wandb/run-20231113_213043-klgr0h28</code>"
     },
     "metadata": {}
    },
    {
     "output_type": "display_data",
     "data": {
      "text/plain": "<IPython.core.display.HTML object>",
      "text/html": "Syncing run <strong><a href='https://wandb.ai/rodion-chernomordin/deep_learning_hw2/runs/klgr0h28' target=\"_blank\">val data</a></strong> to <a href='https://wandb.ai/rodion-chernomordin/deep_learning_hw2' target=\"_blank\">Weights & Biases</a> (<a href='https://wandb.me/run' target=\"_blank\">docs</a>)<br/>"
     },
     "metadata": {}
    },
    {
     "output_type": "display_data",
     "data": {
      "text/plain": "<IPython.core.display.HTML object>",
      "text/html": " View project at <a href='https://wandb.ai/rodion-chernomordin/deep_learning_hw2' target=\"_blank\">https://wandb.ai/rodion-chernomordin/deep_learning_hw2</a>"
     },
     "metadata": {}
    },
    {
     "output_type": "display_data",
     "data": {
      "text/plain": "<IPython.core.display.HTML object>",
      "text/html": " View run at <a href='https://wandb.ai/rodion-chernomordin/deep_learning_hw2/runs/klgr0h28' target=\"_blank\">https://wandb.ai/rodion-chernomordin/deep_learning_hw2/runs/klgr0h28</a>"
     },
     "metadata": {}
    },
    {
     "name": "stdout",
     "text": "Epoch 19\n train loss: 0.7432778510358695, train acc: 0.7418100352572473\n val loss: 0.8725722855709969, val acc: 0.7043218085106383\n\n",
     "output_type": "stream"
    }
   ]
  },
  {
   "cell_type": "code",
   "source": [
    "test_loss, test_acc = test(net, test_loader)\n",
    "test_loss, test_acc"
   ],
   "metadata": {
    "colab": {
     "base_uri": "https://localhost:8080/"
    },
    "id": "XT86PF7CIAYD",
    "outputId": "5a60703c-cb31-447c-e836-30485684c6ef"
   },
   "execution_count": null,
   "outputs": [
    {
     "output_type": "execute_result",
     "execution_count": 38,
     "data": {
      "text/plain": [
       "(0.8906409254499302, 0.697452229299363)"
      ]
     },
     "metadata": {}
    }
   ]
  },
  {
   "cell_type": "markdown",
   "source": [
    "для решения использовал вот это: https://docs.wandb.ai/guides/track/log/plots (да и прочие ссылки, кучу всего перебрал для этой фигни)\n",
    "\n",
    "а вот здесь мои графики (честно - уродский сайт, из-за которого иногда надо было перезапускать всю сессию в ноутбуке): https://wandb.ai/rodion-chernomordin/deep_learning_hw2/workspace?workspace=user-rodion-chernomordin"
   ],
   "metadata": {
    "id": "HW9KnakAKJBy"
   }
  }
 ]
}
